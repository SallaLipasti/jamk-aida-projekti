{
 "cells": [
  {
   "cell_type": "markdown",
   "id": "2579ff82-12ed-4049-bc05-332f5dc7b957",
   "metadata": {},
   "source": [
    "# Taksit \n",
    "\n",
    "Selvitetään, onko ollut vaikutusta auton hintaan, jos auto on ollut aiemmin taksikäytössä. \n",
    "\n"
   ]
  },
  {
   "cell_type": "markdown",
   "id": "a5f6e5b8-dd84-4232-994a-038b000857fb",
   "metadata": {},
   "source": [
    "## CRISP-DM vaiheet 2 ja 3: Datan ymmärtäminen ja esikäsittely    \n",
    "\n",
    "Tässä vaiheessa ladataan käytettävä CSV-aineisto, ja puhdistetaan ja muokataan se eheäksi ja tarkoituksenmukaiseksi myöhempää analyysi- ja mallinnusvaihetta varten. Aloitetaan lataamalla aineisto ja siitä tehtävän kannalta relevantit sarakkeet Ladataan aineistosta sarakkeet *'make_name'* (merkki), *'model_name'* (mallin nimi), *'mileage'* (mittarilukema), *'year'* (vuosimalli), *'price'* (myyntihinta), *'isCab'* (onko auto ollut taksikäytössä), *'daysonmarket'* (montako päivää auto oli myynnissä) ja *'has_accidents'* (onko auto joutunut onnettomuuteen) datakehikkoon *'df'*:"
   ]
  },
  {
   "cell_type": "code",
   "execution_count": 2,
   "id": "aae60688-f9ac-4086-92d4-a126529833da",
   "metadata": {
    "tags": []
   },
   "outputs": [],
   "source": [
    "import pandas as pd\n",
    "import numpy as np\n",
    "import matplotlib.pyplot as plt\n",
    "import seaborn as sns"
   ]
  },
  {
   "cell_type": "code",
   "execution_count": 2,
   "id": "7385f491-88d4-4802-85b2-562e08cf95ee",
   "metadata": {
    "tags": []
   },
   "outputs": [],
   "source": [
    "# Tiedoston polku: \n",
    "file_path = '/Volumes/AIDA/AIDA-projekti/used_cars_data.csv' \n",
    "\n",
    "# Valitut sarakkeet:\n",
    "sarakkeet = ['make_name', 'model_name', 'mileage', 'year', 'price', 'isCab', 'daysonmarket', 'has_accidents']\n",
    "\n",
    "# Luetaan aineistosta vain halutut sarakkeet datakehikkoon:\n",
    "df = pd.read_csv(file_path, usecols = sarakkeet) "
   ]
  },
  {
   "cell_type": "markdown",
   "id": "54069672-20c0-4dca-a4bf-3e0b934670c8",
   "metadata": {},
   "source": [
    "Tutkitaan saatua datakehikkoa."
   ]
  },
  {
   "cell_type": "code",
   "execution_count": 3,
   "id": "af437d35-cf98-4505-afc0-1076d2de42e2",
   "metadata": {
    "tags": []
   },
   "outputs": [
    {
     "data": {
      "text/html": [
       "<div>\n",
       "<style scoped>\n",
       "    .dataframe tbody tr th:only-of-type {\n",
       "        vertical-align: middle;\n",
       "    }\n",
       "\n",
       "    .dataframe tbody tr th {\n",
       "        vertical-align: top;\n",
       "    }\n",
       "\n",
       "    .dataframe thead th {\n",
       "        text-align: right;\n",
       "    }\n",
       "</style>\n",
       "<table border=\"1\" class=\"dataframe\">\n",
       "  <thead>\n",
       "    <tr style=\"text-align: right;\">\n",
       "      <th></th>\n",
       "      <th>daysonmarket</th>\n",
       "      <th>has_accidents</th>\n",
       "      <th>isCab</th>\n",
       "      <th>make_name</th>\n",
       "      <th>mileage</th>\n",
       "      <th>model_name</th>\n",
       "      <th>price</th>\n",
       "      <th>year</th>\n",
       "    </tr>\n",
       "  </thead>\n",
       "  <tbody>\n",
       "    <tr>\n",
       "      <th>2212523</th>\n",
       "      <td>69</td>\n",
       "      <td>NaN</td>\n",
       "      <td>NaN</td>\n",
       "      <td>Lincoln</td>\n",
       "      <td>0.0</td>\n",
       "      <td>Aviator</td>\n",
       "      <td>53465.0</td>\n",
       "      <td>2020</td>\n",
       "    </tr>\n",
       "    <tr>\n",
       "      <th>2168227</th>\n",
       "      <td>421</td>\n",
       "      <td>False</td>\n",
       "      <td>False</td>\n",
       "      <td>Chrysler</td>\n",
       "      <td>32503.0</td>\n",
       "      <td>Pacifica</td>\n",
       "      <td>27995.0</td>\n",
       "      <td>2018</td>\n",
       "    </tr>\n",
       "    <tr>\n",
       "      <th>1574704</th>\n",
       "      <td>210</td>\n",
       "      <td>NaN</td>\n",
       "      <td>NaN</td>\n",
       "      <td>Jeep</td>\n",
       "      <td>0.0</td>\n",
       "      <td>Grand Cherokee</td>\n",
       "      <td>28799.0</td>\n",
       "      <td>2020</td>\n",
       "    </tr>\n",
       "    <tr>\n",
       "      <th>682845</th>\n",
       "      <td>202</td>\n",
       "      <td>False</td>\n",
       "      <td>False</td>\n",
       "      <td>Lincoln</td>\n",
       "      <td>71.0</td>\n",
       "      <td>Corsair</td>\n",
       "      <td>43483.0</td>\n",
       "      <td>2020</td>\n",
       "    </tr>\n",
       "    <tr>\n",
       "      <th>62283</th>\n",
       "      <td>38</td>\n",
       "      <td>False</td>\n",
       "      <td>False</td>\n",
       "      <td>Lincoln</td>\n",
       "      <td>84291.0</td>\n",
       "      <td>MKZ Hybrid</td>\n",
       "      <td>13999.0</td>\n",
       "      <td>2014</td>\n",
       "    </tr>\n",
       "    <tr>\n",
       "      <th>2647614</th>\n",
       "      <td>79</td>\n",
       "      <td>False</td>\n",
       "      <td>True</td>\n",
       "      <td>Kia</td>\n",
       "      <td>17000.0</td>\n",
       "      <td>Optima</td>\n",
       "      <td>16997.0</td>\n",
       "      <td>2020</td>\n",
       "    </tr>\n",
       "    <tr>\n",
       "      <th>2626192</th>\n",
       "      <td>77</td>\n",
       "      <td>False</td>\n",
       "      <td>True</td>\n",
       "      <td>Chevrolet</td>\n",
       "      <td>37101.0</td>\n",
       "      <td>Malibu</td>\n",
       "      <td>16594.0</td>\n",
       "      <td>2018</td>\n",
       "    </tr>\n",
       "    <tr>\n",
       "      <th>1544392</th>\n",
       "      <td>28</td>\n",
       "      <td>False</td>\n",
       "      <td>False</td>\n",
       "      <td>Cadillac</td>\n",
       "      <td>134181.0</td>\n",
       "      <td>SRX</td>\n",
       "      <td>9995.0</td>\n",
       "      <td>2012</td>\n",
       "    </tr>\n",
       "    <tr>\n",
       "      <th>604857</th>\n",
       "      <td>6</td>\n",
       "      <td>False</td>\n",
       "      <td>True</td>\n",
       "      <td>Ford</td>\n",
       "      <td>39240.0</td>\n",
       "      <td>Fiesta</td>\n",
       "      <td>10900.0</td>\n",
       "      <td>2019</td>\n",
       "    </tr>\n",
       "    <tr>\n",
       "      <th>963173</th>\n",
       "      <td>43</td>\n",
       "      <td>NaN</td>\n",
       "      <td>NaN</td>\n",
       "      <td>Chevrolet</td>\n",
       "      <td>3.0</td>\n",
       "      <td>Silverado 1500</td>\n",
       "      <td>47246.0</td>\n",
       "      <td>2020</td>\n",
       "    </tr>\n",
       "  </tbody>\n",
       "</table>\n",
       "</div>"
      ],
      "text/plain": [
       "         daysonmarket has_accidents  isCab  make_name   mileage  \\\n",
       "2212523            69           NaN    NaN    Lincoln       0.0   \n",
       "2168227           421         False  False   Chrysler   32503.0   \n",
       "1574704           210           NaN    NaN       Jeep       0.0   \n",
       "682845            202         False  False    Lincoln      71.0   \n",
       "62283              38         False  False    Lincoln   84291.0   \n",
       "2647614            79         False   True        Kia   17000.0   \n",
       "2626192            77         False   True  Chevrolet   37101.0   \n",
       "1544392            28         False  False   Cadillac  134181.0   \n",
       "604857              6         False   True       Ford   39240.0   \n",
       "963173             43           NaN    NaN  Chevrolet       3.0   \n",
       "\n",
       "             model_name    price  year  \n",
       "2212523         Aviator  53465.0  2020  \n",
       "2168227        Pacifica  27995.0  2018  \n",
       "1574704  Grand Cherokee  28799.0  2020  \n",
       "682845          Corsair  43483.0  2020  \n",
       "62283        MKZ Hybrid  13999.0  2014  \n",
       "2647614          Optima  16997.0  2020  \n",
       "2626192          Malibu  16594.0  2018  \n",
       "1544392             SRX   9995.0  2012  \n",
       "604857           Fiesta  10900.0  2019  \n",
       "963173   Silverado 1500  47246.0  2020  "
      ]
     },
     "execution_count": 3,
     "metadata": {},
     "output_type": "execute_result"
    }
   ],
   "source": [
    "df.sample(10)"
   ]
  },
  {
   "cell_type": "markdown",
   "id": "766ee16a-1481-446c-bb10-4a3970dd189c",
   "metadata": {},
   "source": [
    "### Uuden sarakkeen luominen\n",
    "\n",
    "Yhdistetään *'make_name'* ja *'model_name'* yhdeksi sarakkeeksi *'name'*, joka kuvaa auton merkkiä ja mallia:"
   ]
  },
  {
   "cell_type": "code",
   "execution_count": 4,
   "id": "23ae9b5a-bcb0-4f33-99a7-e18c00050767",
   "metadata": {
    "tags": []
   },
   "outputs": [
    {
     "data": {
      "text/html": [
       "<div>\n",
       "<style scoped>\n",
       "    .dataframe tbody tr th:only-of-type {\n",
       "        vertical-align: middle;\n",
       "    }\n",
       "\n",
       "    .dataframe tbody tr th {\n",
       "        vertical-align: top;\n",
       "    }\n",
       "\n",
       "    .dataframe thead th {\n",
       "        text-align: right;\n",
       "    }\n",
       "</style>\n",
       "<table border=\"1\" class=\"dataframe\">\n",
       "  <thead>\n",
       "    <tr style=\"text-align: right;\">\n",
       "      <th></th>\n",
       "      <th>daysonmarket</th>\n",
       "      <th>has_accidents</th>\n",
       "      <th>isCab</th>\n",
       "      <th>make_name</th>\n",
       "      <th>mileage</th>\n",
       "      <th>model_name</th>\n",
       "      <th>price</th>\n",
       "      <th>year</th>\n",
       "      <th>name</th>\n",
       "    </tr>\n",
       "  </thead>\n",
       "  <tbody>\n",
       "    <tr>\n",
       "      <th>0</th>\n",
       "      <td>522</td>\n",
       "      <td>NaN</td>\n",
       "      <td>NaN</td>\n",
       "      <td>Jeep</td>\n",
       "      <td>7.0</td>\n",
       "      <td>Renegade</td>\n",
       "      <td>23141.0</td>\n",
       "      <td>2019</td>\n",
       "      <td>Jeep Renegade</td>\n",
       "    </tr>\n",
       "    <tr>\n",
       "      <th>1</th>\n",
       "      <td>207</td>\n",
       "      <td>NaN</td>\n",
       "      <td>NaN</td>\n",
       "      <td>Land Rover</td>\n",
       "      <td>8.0</td>\n",
       "      <td>Discovery Sport</td>\n",
       "      <td>46500.0</td>\n",
       "      <td>2020</td>\n",
       "      <td>Land Rover Discovery Sport</td>\n",
       "    </tr>\n",
       "    <tr>\n",
       "      <th>2</th>\n",
       "      <td>1233</td>\n",
       "      <td>False</td>\n",
       "      <td>False</td>\n",
       "      <td>Subaru</td>\n",
       "      <td>NaN</td>\n",
       "      <td>WRX STI</td>\n",
       "      <td>46995.0</td>\n",
       "      <td>2016</td>\n",
       "      <td>Subaru WRX STI</td>\n",
       "    </tr>\n",
       "    <tr>\n",
       "      <th>3</th>\n",
       "      <td>196</td>\n",
       "      <td>NaN</td>\n",
       "      <td>NaN</td>\n",
       "      <td>Land Rover</td>\n",
       "      <td>11.0</td>\n",
       "      <td>Discovery</td>\n",
       "      <td>67430.0</td>\n",
       "      <td>2020</td>\n",
       "      <td>Land Rover Discovery</td>\n",
       "    </tr>\n",
       "    <tr>\n",
       "      <th>4</th>\n",
       "      <td>137</td>\n",
       "      <td>NaN</td>\n",
       "      <td>NaN</td>\n",
       "      <td>Land Rover</td>\n",
       "      <td>7.0</td>\n",
       "      <td>Discovery Sport</td>\n",
       "      <td>48880.0</td>\n",
       "      <td>2020</td>\n",
       "      <td>Land Rover Discovery Sport</td>\n",
       "    </tr>\n",
       "  </tbody>\n",
       "</table>\n",
       "</div>"
      ],
      "text/plain": [
       "   daysonmarket has_accidents  isCab   make_name  mileage       model_name  \\\n",
       "0           522           NaN    NaN        Jeep      7.0         Renegade   \n",
       "1           207           NaN    NaN  Land Rover      8.0  Discovery Sport   \n",
       "2          1233         False  False      Subaru      NaN          WRX STI   \n",
       "3           196           NaN    NaN  Land Rover     11.0        Discovery   \n",
       "4           137           NaN    NaN  Land Rover      7.0  Discovery Sport   \n",
       "\n",
       "     price  year                        name  \n",
       "0  23141.0  2019               Jeep Renegade  \n",
       "1  46500.0  2020  Land Rover Discovery Sport  \n",
       "2  46995.0  2016              Subaru WRX STI  \n",
       "3  67430.0  2020        Land Rover Discovery  \n",
       "4  48880.0  2020  Land Rover Discovery Sport  "
      ]
     },
     "execution_count": 4,
     "metadata": {},
     "output_type": "execute_result"
    }
   ],
   "source": [
    "df['name'] = df['make_name'] + \" \" + df['model_name']\n",
    "df.head()"
   ]
  },
  {
   "cell_type": "markdown",
   "id": "9bb4c5ef-0c8a-4f9f-8d13-58d6e253ac5b",
   "metadata": {
    "tags": []
   },
   "source": [
    "### Tyhjien arvojen käsittely\n",
    "\n",
    "Tässä kysymyksessä on olennaista tietää, onko auto ollut taksikäytössä. Tutkitaan siis ensimmäiseksi, onko sarakkeessa *'isCab'* tyhjiä arvoja, ja poistetaan tarvittaessa tällaiset rivit. "
   ]
  },
  {
   "cell_type": "code",
   "execution_count": 5,
   "id": "1e7221b9-c85e-4c99-8adb-02ba2d7a6000",
   "metadata": {
    "tags": []
   },
   "outputs": [
    {
     "data": {
      "text/plain": [
       "array([nan, False, True], dtype=object)"
      ]
     },
     "execution_count": 5,
     "metadata": {},
     "output_type": "execute_result"
    }
   ],
   "source": [
    "df['isCab'].unique()"
   ]
  },
  {
   "cell_type": "code",
   "execution_count": 6,
   "id": "efc7ebf1-7b3a-421b-999f-5e695252b7a5",
   "metadata": {
    "tags": []
   },
   "outputs": [
    {
     "data": {
      "text/plain": [
       "1426595"
      ]
     },
     "execution_count": 6,
     "metadata": {},
     "output_type": "execute_result"
    }
   ],
   "source": [
    "# Tarkastetaan, montako tyhjää arvoa sarakkeessa 'isCab' on:\n",
    "df['isCab'].isna().sum()"
   ]
  },
  {
   "cell_type": "code",
   "execution_count": 7,
   "id": "d2ea725d-b223-442f-8de1-b42e287423c7",
   "metadata": {
    "tags": []
   },
   "outputs": [
    {
     "data": {
      "text/plain": [
       "daysonmarket         0\n",
       "has_accidents        0\n",
       "isCab                0\n",
       "make_name            0\n",
       "mileage          19390\n",
       "model_name           0\n",
       "price                0\n",
       "year                 0\n",
       "name                 0\n",
       "dtype: int64"
      ]
     },
     "execution_count": 7,
     "metadata": {},
     "output_type": "execute_result"
    }
   ],
   "source": [
    "# Poistetaan sarakkeessa 'isCab' tyhjän arvon sisältävät rivit:\n",
    "df.dropna(subset=['isCab'], inplace=True)\n",
    "\n",
    "# Tarkastetaan uudelleen tyhjien arvojen määrät sarakkeittain:\n",
    "df.isna().sum()"
   ]
  },
  {
   "cell_type": "markdown",
   "id": "522dac7c-5b49-4a56-abb5-33677d6ed4d1",
   "metadata": {
    "tags": []
   },
   "source": [
    "Aineisto sisältää yhä tyhjiä arvoja sarakkeessa *'mileage'*. Sopivia keskilukuja näiden korvaamiseksi on vaikea päätellä, joten poistetaan myös nämä rivit."
   ]
  },
  {
   "cell_type": "code",
   "execution_count": 8,
   "id": "9e148e1f-d5ef-4404-9578-064f886860a8",
   "metadata": {
    "tags": []
   },
   "outputs": [
    {
     "data": {
      "text/plain": [
       "daysonmarket     0\n",
       "has_accidents    0\n",
       "isCab            0\n",
       "make_name        0\n",
       "mileage          0\n",
       "model_name       0\n",
       "price            0\n",
       "year             0\n",
       "name             0\n",
       "dtype: int64"
      ]
     },
     "execution_count": 8,
     "metadata": {},
     "output_type": "execute_result"
    }
   ],
   "source": [
    "df.dropna(subset=['mileage'], inplace=True)\n",
    "\n",
    "df.isna().sum()"
   ]
  },
  {
   "cell_type": "markdown",
   "id": "05c338af-fa24-4a50-8fc9-a89abb6b6738",
   "metadata": {},
   "source": [
    "### Tietotyyppien tarkastelu"
   ]
  },
  {
   "cell_type": "code",
   "execution_count": 9,
   "id": "7ae05119-2bbd-4e8a-afcd-e30dcff8812a",
   "metadata": {
    "tags": []
   },
   "outputs": [
    {
     "name": "stdout",
     "output_type": "stream",
     "text": [
      "<class 'pandas.core.frame.DataFrame'>\n",
      "Index: 1554055 entries, 5 to 3000039\n",
      "Data columns (total 9 columns):\n",
      " #   Column         Non-Null Count    Dtype  \n",
      "---  ------         --------------    -----  \n",
      " 0   daysonmarket   1554055 non-null  int64  \n",
      " 1   has_accidents  1554055 non-null  object \n",
      " 2   isCab          1554055 non-null  object \n",
      " 3   make_name      1554055 non-null  object \n",
      " 4   mileage        1554055 non-null  float64\n",
      " 5   model_name     1554055 non-null  object \n",
      " 6   price          1554055 non-null  float64\n",
      " 7   year           1554055 non-null  int64  \n",
      " 8   name           1554055 non-null  object \n",
      "dtypes: float64(2), int64(2), object(5)\n",
      "memory usage: 118.6+ MB\n"
     ]
    }
   ],
   "source": [
    "df.info()"
   ]
  },
  {
   "cell_type": "markdown",
   "id": "acab6208-b8d6-40f3-970a-56594ebb572b",
   "metadata": {},
   "source": [
    "Aineistossa on yhä liki 1,6 miljoonaa riviä, kun siitä on poistettu tyhjiä arvoja sisältävät rivit.   \n",
    "\n",
    "Muutetaan seuraavaksi *'object'*-tyypin sarakkeiden *'has_accidents'* ja *'isCab'* tietotyypiksi *'Boolean'*:"
   ]
  },
  {
   "cell_type": "code",
   "execution_count": 10,
   "id": "ab9a60a2-2b9a-4377-b6ae-80ac00d5328b",
   "metadata": {
    "tags": []
   },
   "outputs": [
    {
     "data": {
      "text/plain": [
       "array([False, True], dtype=object)"
      ]
     },
     "execution_count": 10,
     "metadata": {},
     "output_type": "execute_result"
    }
   ],
   "source": [
    "df['isCab'].unique()"
   ]
  },
  {
   "cell_type": "code",
   "execution_count": 11,
   "id": "e7c3be25-d3bc-47f7-8a7a-78f96fa56a82",
   "metadata": {
    "tags": []
   },
   "outputs": [
    {
     "data": {
      "text/plain": [
       "array([False, True], dtype=object)"
      ]
     },
     "execution_count": 11,
     "metadata": {},
     "output_type": "execute_result"
    }
   ],
   "source": [
    "df['isCab'].unique()"
   ]
  },
  {
   "cell_type": "code",
   "execution_count": 12,
   "id": "e91dd7aa-814d-4c28-88fb-7bdab5e9e164",
   "metadata": {
    "tags": []
   },
   "outputs": [],
   "source": [
    "df['has_accidents'] = df['has_accidents'].astype(bool)\n",
    "df['isCab'] = df['isCab'].astype(bool)"
   ]
  },
  {
   "cell_type": "code",
   "execution_count": 13,
   "id": "3ac876c6-1a6f-4003-8320-0790715aa027",
   "metadata": {
    "tags": []
   },
   "outputs": [
    {
     "name": "stdout",
     "output_type": "stream",
     "text": [
      "<class 'pandas.core.frame.DataFrame'>\n",
      "Index: 1554055 entries, 5 to 3000039\n",
      "Data columns (total 9 columns):\n",
      " #   Column         Non-Null Count    Dtype  \n",
      "---  ------         --------------    -----  \n",
      " 0   daysonmarket   1554055 non-null  int64  \n",
      " 1   has_accidents  1554055 non-null  bool   \n",
      " 2   isCab          1554055 non-null  bool   \n",
      " 3   make_name      1554055 non-null  object \n",
      " 4   mileage        1554055 non-null  float64\n",
      " 5   model_name     1554055 non-null  object \n",
      " 6   price          1554055 non-null  float64\n",
      " 7   year           1554055 non-null  int64  \n",
      " 8   name           1554055 non-null  object \n",
      "dtypes: bool(2), float64(2), int64(2), object(3)\n",
      "memory usage: 97.8+ MB\n"
     ]
    }
   ],
   "source": [
    "df.info()"
   ]
  },
  {
   "cell_type": "markdown",
   "id": "00539dac-b53b-4c07-a932-58d0ce4706e1",
   "metadata": {},
   "source": [
    "### Identtisten rivien poisto \n",
    "\n",
    "Jos datassa on identtisiä rivejä, poistetaan ne."
   ]
  },
  {
   "cell_type": "code",
   "execution_count": 14,
   "id": "e7009cd4-56dc-4012-80ad-f40680ac7332",
   "metadata": {
    "tags": []
   },
   "outputs": [
    {
     "name": "stdout",
     "output_type": "stream",
     "text": [
      "<class 'pandas.core.frame.DataFrame'>\n",
      "Index: 1551707 entries, 5 to 3000039\n",
      "Data columns (total 9 columns):\n",
      " #   Column         Non-Null Count    Dtype  \n",
      "---  ------         --------------    -----  \n",
      " 0   daysonmarket   1551707 non-null  int64  \n",
      " 1   has_accidents  1551707 non-null  bool   \n",
      " 2   isCab          1551707 non-null  bool   \n",
      " 3   make_name      1551707 non-null  object \n",
      " 4   mileage        1551707 non-null  float64\n",
      " 5   model_name     1551707 non-null  object \n",
      " 6   price          1551707 non-null  float64\n",
      " 7   year           1551707 non-null  int64  \n",
      " 8   name           1551707 non-null  object \n",
      "dtypes: bool(2), float64(2), int64(2), object(3)\n",
      "memory usage: 97.7+ MB\n"
     ]
    }
   ],
   "source": [
    "df1 = df.drop_duplicates()\n",
    "df1.info()"
   ]
  },
  {
   "cell_type": "code",
   "execution_count": 15,
   "id": "3132ffad-b1ea-46da-95e0-9e6610b28b87",
   "metadata": {
    "tags": []
   },
   "outputs": [
    {
     "data": {
      "text/html": [
       "<div>\n",
       "<style scoped>\n",
       "    .dataframe tbody tr th:only-of-type {\n",
       "        vertical-align: middle;\n",
       "    }\n",
       "\n",
       "    .dataframe tbody tr th {\n",
       "        vertical-align: top;\n",
       "    }\n",
       "\n",
       "    .dataframe thead th {\n",
       "        text-align: right;\n",
       "    }\n",
       "</style>\n",
       "<table border=\"1\" class=\"dataframe\">\n",
       "  <thead>\n",
       "    <tr style=\"text-align: right;\">\n",
       "      <th></th>\n",
       "      <th>daysonmarket</th>\n",
       "      <th>has_accidents</th>\n",
       "      <th>isCab</th>\n",
       "      <th>make_name</th>\n",
       "      <th>mileage</th>\n",
       "      <th>model_name</th>\n",
       "      <th>price</th>\n",
       "      <th>year</th>\n",
       "      <th>name</th>\n",
       "    </tr>\n",
       "  </thead>\n",
       "  <tbody>\n",
       "    <tr>\n",
       "      <th>5</th>\n",
       "      <td>242</td>\n",
       "      <td>False</td>\n",
       "      <td>False</td>\n",
       "      <td>Land Rover</td>\n",
       "      <td>12.0</td>\n",
       "      <td>Range Rover Velar</td>\n",
       "      <td>66903.0</td>\n",
       "      <td>2020</td>\n",
       "      <td>Land Rover Range Rover Velar</td>\n",
       "    </tr>\n",
       "    <tr>\n",
       "      <th>9</th>\n",
       "      <td>510</td>\n",
       "      <td>False</td>\n",
       "      <td>False</td>\n",
       "      <td>Land Rover</td>\n",
       "      <td>254.0</td>\n",
       "      <td>Range Rover Evoque</td>\n",
       "      <td>84399.0</td>\n",
       "      <td>2020</td>\n",
       "      <td>Land Rover Range Rover Evoque</td>\n",
       "    </tr>\n",
       "    <tr>\n",
       "      <th>10</th>\n",
       "      <td>1252</td>\n",
       "      <td>False</td>\n",
       "      <td>False</td>\n",
       "      <td>Alfa Romeo</td>\n",
       "      <td>301.0</td>\n",
       "      <td>4C</td>\n",
       "      <td>97579.0</td>\n",
       "      <td>2015</td>\n",
       "      <td>Alfa Romeo 4C</td>\n",
       "    </tr>\n",
       "    <tr>\n",
       "      <th>12</th>\n",
       "      <td>1233</td>\n",
       "      <td>False</td>\n",
       "      <td>False</td>\n",
       "      <td>BMW</td>\n",
       "      <td>6903.0</td>\n",
       "      <td>3 Series</td>\n",
       "      <td>58995.0</td>\n",
       "      <td>2016</td>\n",
       "      <td>BMW 3 Series</td>\n",
       "    </tr>\n",
       "    <tr>\n",
       "      <th>36</th>\n",
       "      <td>33</td>\n",
       "      <td>False</td>\n",
       "      <td>False</td>\n",
       "      <td>Hyundai</td>\n",
       "      <td>30707.0</td>\n",
       "      <td>Elantra</td>\n",
       "      <td>13324.0</td>\n",
       "      <td>2017</td>\n",
       "      <td>Hyundai Elantra</td>\n",
       "    </tr>\n",
       "  </tbody>\n",
       "</table>\n",
       "</div>"
      ],
      "text/plain": [
       "    daysonmarket  has_accidents  isCab   make_name  mileage  \\\n",
       "5            242          False  False  Land Rover     12.0   \n",
       "9            510          False  False  Land Rover    254.0   \n",
       "10          1252          False  False  Alfa Romeo    301.0   \n",
       "12          1233          False  False         BMW   6903.0   \n",
       "36            33          False  False     Hyundai  30707.0   \n",
       "\n",
       "            model_name    price  year                           name  \n",
       "5    Range Rover Velar  66903.0  2020   Land Rover Range Rover Velar  \n",
       "9   Range Rover Evoque  84399.0  2020  Land Rover Range Rover Evoque  \n",
       "10                  4C  97579.0  2015                  Alfa Romeo 4C  \n",
       "12            3 Series  58995.0  2016                   BMW 3 Series  \n",
       "36             Elantra  13324.0  2017                Hyundai Elantra  "
      ]
     },
     "execution_count": 15,
     "metadata": {},
     "output_type": "execute_result"
    }
   ],
   "source": [
    "df = df1\n",
    "df.head()"
   ]
  },
  {
   "cell_type": "markdown",
   "id": "748ad91c-727a-4796-85cd-fa4dd9e04bb7",
   "metadata": {},
   "source": [
    "### Aineiston rajaaminen \n",
    "\n",
    "Katsotaan ensin, kuinka moni aineiston autoista on ollut taksi- ja ei-taksikäytössä:"
   ]
  },
  {
   "cell_type": "code",
   "execution_count": 16,
   "id": "d63d1c52-5eb1-49ff-bc6b-663934018cfc",
   "metadata": {
    "tags": []
   },
   "outputs": [
    {
     "data": {
      "text/plain": [
       "isCab\n",
       "False    1265950\n",
       "True      285757\n",
       "Name: count, dtype: int64"
      ]
     },
     "execution_count": 16,
     "metadata": {},
     "output_type": "execute_result"
    }
   ],
   "source": [
    "df['isCab'].value_counts()"
   ]
  },
  {
   "cell_type": "markdown",
   "id": "dab4691d-7d91-4877-8b72-db36ef55112a",
   "metadata": {
    "tags": []
   },
   "source": [
    "Tässä tehtävässä ollaan kiinnostuneita vain niistä automalleista, joita on käytetty sekä takseina että ei-takseina. Rajataan aineistoa siten, että se kattaa vain ne automallit (*'name'*), jotka ovat olleet sekä taksikäytössä että ei-taksikäytössä.    \n",
    "\n",
    "Aloitetaan tallentamalla uniikit automallit muuttujaan *'uniikit_autot'*, ja käydään sitä läpi malli kerrallaan. Tarkastetaan, onko kyseinen automalli ollut sekä taksi- että ei-taksikäytössä, ja tallennetaan tällaiset automallit listaan *'autolista'*:"
   ]
  },
  {
   "cell_type": "code",
   "execution_count": 17,
   "id": "160fdc48-fe57-4606-81f7-b9bc294f29a2",
   "metadata": {
    "tags": []
   },
   "outputs": [],
   "source": [
    "uniikit_autot = df['name'].unique() \n",
    "\n",
    "autolista = []\n",
    "\n",
    "for malli in uniikit_autot:\n",
    "    taksi = df[(df['name'] == malli) & (df['isCab'] == True)]\n",
    "    eitaksi = df[(df['name'] == malli) & (df['isCab'] == False)]\n",
    "\n",
    "    if len(taksi) > 0 and len(eitaksi) > 0:\n",
    "        autolista.append(malli)"
   ]
  },
  {
   "cell_type": "code",
   "execution_count": 18,
   "id": "3d1e963f-4737-49c3-b4e5-fc4f6d6b320a",
   "metadata": {
    "tags": []
   },
   "outputs": [
    {
     "data": {
      "text/plain": [
       "578"
      ]
     },
     "execution_count": 18,
     "metadata": {},
     "output_type": "execute_result"
    }
   ],
   "source": [
    "len(autolista)"
   ]
  },
  {
   "cell_type": "code",
   "execution_count": 19,
   "id": "152645a6-d18a-4c5f-822a-feac09445fea",
   "metadata": {
    "tags": []
   },
   "outputs": [
    {
     "data": {
      "text/plain": [
       "1426"
      ]
     },
     "execution_count": 19,
     "metadata": {},
     "output_type": "execute_result"
    }
   ],
   "source": [
    "df['name'].nunique()"
   ]
  },
  {
   "cell_type": "markdown",
   "id": "38070a01-54ee-4389-b878-e70776c71516",
   "metadata": {},
   "source": [
    "Sopivia automalleja on 578, kun niitä datakehikossa *'df'* on kaikkiaan 1426. Suodatetaan datakehikkoa siten, että vain *'autolista'*:n mukaiset mallit ovat mukana:"
   ]
  },
  {
   "cell_type": "code",
   "execution_count": 20,
   "id": "4eecff50-613c-455f-95ac-8892fba93912",
   "metadata": {
    "tags": []
   },
   "outputs": [],
   "source": [
    "autot_df = df[df['name'].isin(autolista)]"
   ]
  },
  {
   "cell_type": "code",
   "execution_count": 21,
   "id": "97a9a5cc-c235-4c78-889f-e10c8ef44ca8",
   "metadata": {
    "tags": []
   },
   "outputs": [
    {
     "data": {
      "text/html": [
       "<div>\n",
       "<style scoped>\n",
       "    .dataframe tbody tr th:only-of-type {\n",
       "        vertical-align: middle;\n",
       "    }\n",
       "\n",
       "    .dataframe tbody tr th {\n",
       "        vertical-align: top;\n",
       "    }\n",
       "\n",
       "    .dataframe thead th {\n",
       "        text-align: right;\n",
       "    }\n",
       "</style>\n",
       "<table border=\"1\" class=\"dataframe\">\n",
       "  <thead>\n",
       "    <tr style=\"text-align: right;\">\n",
       "      <th></th>\n",
       "      <th>daysonmarket</th>\n",
       "      <th>has_accidents</th>\n",
       "      <th>isCab</th>\n",
       "      <th>make_name</th>\n",
       "      <th>mileage</th>\n",
       "      <th>model_name</th>\n",
       "      <th>price</th>\n",
       "      <th>year</th>\n",
       "      <th>name</th>\n",
       "    </tr>\n",
       "  </thead>\n",
       "  <tbody>\n",
       "    <tr>\n",
       "      <th>5</th>\n",
       "      <td>242</td>\n",
       "      <td>False</td>\n",
       "      <td>False</td>\n",
       "      <td>Land Rover</td>\n",
       "      <td>12.0</td>\n",
       "      <td>Range Rover Velar</td>\n",
       "      <td>66903.0</td>\n",
       "      <td>2020</td>\n",
       "      <td>Land Rover Range Rover Velar</td>\n",
       "    </tr>\n",
       "    <tr>\n",
       "      <th>9</th>\n",
       "      <td>510</td>\n",
       "      <td>False</td>\n",
       "      <td>False</td>\n",
       "      <td>Land Rover</td>\n",
       "      <td>254.0</td>\n",
       "      <td>Range Rover Evoque</td>\n",
       "      <td>84399.0</td>\n",
       "      <td>2020</td>\n",
       "      <td>Land Rover Range Rover Evoque</td>\n",
       "    </tr>\n",
       "    <tr>\n",
       "      <th>12</th>\n",
       "      <td>1233</td>\n",
       "      <td>False</td>\n",
       "      <td>False</td>\n",
       "      <td>BMW</td>\n",
       "      <td>6903.0</td>\n",
       "      <td>3 Series</td>\n",
       "      <td>58995.0</td>\n",
       "      <td>2016</td>\n",
       "      <td>BMW 3 Series</td>\n",
       "    </tr>\n",
       "    <tr>\n",
       "      <th>36</th>\n",
       "      <td>33</td>\n",
       "      <td>False</td>\n",
       "      <td>False</td>\n",
       "      <td>Hyundai</td>\n",
       "      <td>30707.0</td>\n",
       "      <td>Elantra</td>\n",
       "      <td>13324.0</td>\n",
       "      <td>2017</td>\n",
       "      <td>Hyundai Elantra</td>\n",
       "    </tr>\n",
       "    <tr>\n",
       "      <th>38</th>\n",
       "      <td>55</td>\n",
       "      <td>False</td>\n",
       "      <td>True</td>\n",
       "      <td>Chevrolet</td>\n",
       "      <td>42394.0</td>\n",
       "      <td>Malibu</td>\n",
       "      <td>14639.0</td>\n",
       "      <td>2018</td>\n",
       "      <td>Chevrolet Malibu</td>\n",
       "    </tr>\n",
       "  </tbody>\n",
       "</table>\n",
       "</div>"
      ],
      "text/plain": [
       "    daysonmarket  has_accidents  isCab   make_name  mileage  \\\n",
       "5            242          False  False  Land Rover     12.0   \n",
       "9            510          False  False  Land Rover    254.0   \n",
       "12          1233          False  False         BMW   6903.0   \n",
       "36            33          False  False     Hyundai  30707.0   \n",
       "38            55          False   True   Chevrolet  42394.0   \n",
       "\n",
       "            model_name    price  year                           name  \n",
       "5    Range Rover Velar  66903.0  2020   Land Rover Range Rover Velar  \n",
       "9   Range Rover Evoque  84399.0  2020  Land Rover Range Rover Evoque  \n",
       "12            3 Series  58995.0  2016                   BMW 3 Series  \n",
       "36             Elantra  13324.0  2017                Hyundai Elantra  \n",
       "38              Malibu  14639.0  2018               Chevrolet Malibu  "
      ]
     },
     "execution_count": 21,
     "metadata": {},
     "output_type": "execute_result"
    }
   ],
   "source": [
    "autot_df.head()"
   ]
  },
  {
   "cell_type": "code",
   "execution_count": 22,
   "id": "7fb92919-596e-4110-a92c-8eaa96f6de7f",
   "metadata": {
    "tags": []
   },
   "outputs": [
    {
     "name": "stdout",
     "output_type": "stream",
     "text": [
      "<class 'pandas.core.frame.DataFrame'>\n",
      "Index: 1494497 entries, 5 to 3000039\n",
      "Data columns (total 9 columns):\n",
      " #   Column         Non-Null Count    Dtype  \n",
      "---  ------         --------------    -----  \n",
      " 0   daysonmarket   1494497 non-null  int64  \n",
      " 1   has_accidents  1494497 non-null  bool   \n",
      " 2   isCab          1494497 non-null  bool   \n",
      " 3   make_name      1494497 non-null  object \n",
      " 4   mileage        1494497 non-null  float64\n",
      " 5   model_name     1494497 non-null  object \n",
      " 6   price          1494497 non-null  float64\n",
      " 7   year           1494497 non-null  int64  \n",
      " 8   name           1494497 non-null  object \n",
      "dtypes: bool(2), float64(2), int64(2), object(3)\n",
      "memory usage: 94.1+ MB\n"
     ]
    }
   ],
   "source": [
    "autot_df.info()"
   ]
  },
  {
   "cell_type": "markdown",
   "id": "327e76f8-c52f-44a4-8020-ae3fe528de94",
   "metadata": {},
   "source": [
    "Muutetaan vielä boolean-tietotyypin sarakkeet *'has_accidents'* ja *'isCab'* numeerisiksi koneoppimismalleja varten:"
   ]
  },
  {
   "cell_type": "code",
   "execution_count": 23,
   "id": "1c0229de-398f-4d6e-8f70-9776c3c45033",
   "metadata": {
    "tags": []
   },
   "outputs": [],
   "source": [
    "autot_df.loc[:, 'has_accidents'] = autot_df['has_accidents'].astype(int)\n",
    "autot_df.loc[:, 'isCab'] = autot_df['isCab'].astype(int)"
   ]
  },
  {
   "cell_type": "code",
   "execution_count": 24,
   "id": "24ef17dc-a105-4ce4-8ed3-e255f827e2d4",
   "metadata": {
    "tags": []
   },
   "outputs": [
    {
     "name": "stdout",
     "output_type": "stream",
     "text": [
      "<class 'pandas.core.frame.DataFrame'>\n",
      "Index: 1494497 entries, 5 to 3000039\n",
      "Data columns (total 9 columns):\n",
      " #   Column         Non-Null Count    Dtype  \n",
      "---  ------         --------------    -----  \n",
      " 0   daysonmarket   1494497 non-null  int64  \n",
      " 1   has_accidents  1494497 non-null  int64  \n",
      " 2   isCab          1494497 non-null  int64  \n",
      " 3   make_name      1494497 non-null  object \n",
      " 4   mileage        1494497 non-null  float64\n",
      " 5   model_name     1494497 non-null  object \n",
      " 6   price          1494497 non-null  float64\n",
      " 7   year           1494497 non-null  int64  \n",
      " 8   name           1494497 non-null  object \n",
      "dtypes: float64(2), int64(4), object(3)\n",
      "memory usage: 114.0+ MB\n"
     ]
    }
   ],
   "source": [
    "autot_df.info()"
   ]
  },
  {
   "cell_type": "markdown",
   "id": "d8e6d810-bb37-4286-9079-f8358e8003d0",
   "metadata": {},
   "source": [
    "Aineistossa on mukana nyt noin 1,5 miljoonaa datariviä, eli suunnilleen puolet alkuperäisestä aineistosta. "
   ]
  },
  {
   "cell_type": "markdown",
   "id": "ca28702a-9e1b-4cf5-b071-a3d41f805fc2",
   "metadata": {
    "tags": []
   },
   "source": [
    "Tutkitaan seuraavaksi, kuinka suuri osuus eri automallien autoista on ollut aiemmin taksikäytössä. Muodostetaan tätä varten sarake *'cabRatio'*. Lasketaan samalla kuinka monta myytyä autoa kyseistä automallia on aineistossa kaikkiaan (*'count'*)."
   ]
  },
  {
   "cell_type": "code",
   "execution_count": 26,
   "id": "402327ff-097e-43d1-b9d2-ea539adaf210",
   "metadata": {
    "tags": []
   },
   "outputs": [
    {
     "name": "stdout",
     "output_type": "stream",
     "text": [
      "Suurin taksien osuus: \n",
      "                        cabRatio  count\n",
      "name                                  \n",
      "Honda Civic Coupe         0.000   2938\n",
      "Acura TLX                 0.000   2816\n",
      "Acura MDX                 0.000   5534\n",
      "Lexus NX 200t             0.001   1992\n",
      "Honda Civic Hatchback     0.001   1835\n",
      "Lexus IS                  0.001   1832\n",
      "Honda Ridgeline           0.001   1204\n",
      "Lexus RX 350              0.001   6087\n",
      "GMC Sierra 3500HD         0.001    807\n",
      "Scion tC                  0.001    756\n",
      "\n",
      "\n",
      "Pienin taksien osuus: \n",
      "                           cabRatio  count\n",
      "name                                     \n",
      "Ford Fusion Hybrid           0.608   6159\n",
      "Cadillac XT4                 0.612   1067\n",
      "Chrysler Voyager             0.667    117\n",
      "Oldsmobile Ciera             0.667      3\n",
      "Dodge Grand Caravan          0.711  16427\n",
      "Chevrolet Express            0.712   3117\n",
      "Mitsubishi Eclipse Cross     0.718   1167\n",
      "Chevrolet Impala Limited     0.803    686\n",
      "Chevrolet Classic            0.942     52\n",
      "Chevrolet Captiva Sport      0.957    607\n"
     ]
    }
   ],
   "source": [
    "# Ryhmitellään mallin ('name') perusteella, ja lasketaan autojen lukumäärät ('count') sekä 'cabRatio':\n",
    "tulos_df = autot_df.groupby(['name']).agg(\n",
    "    cabRatio = ('isCab', 'mean'),\n",
    "    count = ('price', 'count')\n",
    ")\n",
    "\n",
    "# Järjestetään rivit nousevaan järjestykseen 'cabRatio' perusteella:\n",
    "tulos_df.sort_values('cabRatio', inplace = True)\n",
    "\n",
    "# Pyöristetään sarakkeen 'isCabRatio' tulokset kolmen desimaalin tarkkuuteen:\n",
    "tulos_df['cabRatio'] = tulos_df['cabRatio'].round(3)\n",
    "\n",
    "print(\"Suurin taksien osuus: \\n\", tulos_df.head(10))\n",
    "print(\"\\n\\nPienin taksien osuus: \\n\", tulos_df.tail(10))"
   ]
  },
  {
   "cell_type": "code",
   "execution_count": 27,
   "id": "24666d5d-7e03-4d1f-b8dd-1d4cf41d7005",
   "metadata": {},
   "outputs": [
    {
     "data": {
      "text/plain": [
       "<Axes: xlabel='name'>"
      ]
     },
     "execution_count": 27,
     "metadata": {},
     "output_type": "execute_result"
    },
    {
     "data": {
      "image/png": "[encoded data removed]",
      "text/plain": [
       "<Figure size 640x480 with 1 Axes>"
      ]
     },
     "metadata": {},
     "output_type": "display_data"
    }
   ],
   "source": [
    "tulos_df['cabRatio'].plot()"
   ]
  },
  {
   "cell_type": "markdown",
   "id": "dfa8f4c9-649f-4fb7-9e37-f5d6338ee9b0",
   "metadata": {},
   "source": [
    "Tuloksista nähdään, että aiemmin taksikäytössä olleiden autojen osuus vaihtelee automalleittain suuresti. Suurin taksien osuus myydyistä autoista (*'cabRatio'*) on malleilla *Chevrolet Captiva Sport* (96 %), *Chevrolet Classic* (94 %) ja *Chevrolet Impala Limited* (80 %) mallien autoja, kun taas pienin takseina toimineiden autojen osuus on malleilla *Honda Civic Coupe* (0 %), *Acura TLX* (0 %) ja *Acura MDX* (0 %).   \n",
    "\n",
    "Jotta hintaeroa taksikäytössä olleiden ja ei-taksien välillä voidaan tarkastella, suodatetaan aineistosta mukaan vain sellaiset automallit, joiden myytyjen autojen kokonaismäärästä on ollut taksikäytössä vähintään 20 prosenttia ja enintään 80 prosenttia. Jotta mukaan ei satu harvinaisia yksittäistarpauksia, rajataan mukana pidettäviä automalleja vielä siten, että kyseistä automallia on pitänyt olla myynnissä yhteensä vähintään 100 kappaletta. "
   ]
  },
  {
   "cell_type": "code",
   "execution_count": 32,
   "id": "766df8a0-6d82-403e-908c-a993bd71c081",
   "metadata": {
    "tags": []
   },
   "outputs": [
    {
     "data": {
      "text/plain": [
       "<Axes: xlabel='name'>"
      ]
     },
     "execution_count": 32,
     "metadata": {},
     "output_type": "execute_result"
    },
    {
     "data": {
      "image/png": "[encoded data removed]",
      "text/plain": [
       "<Figure size 640x480 with 1 Axes>"
      ]
     },
     "metadata": {},
     "output_type": "display_data"
    }
   ],
   "source": [
    "autot2 = tulos_df.loc[(tulos_df['cabRatio'] >= 0.2) & (tulos_df['cabRatio'] <= 0.8) & (tulos_df['count'] >= 100)]\n",
    "autot2['cabRatio'].plot()"
   ]
  },
  {
   "cell_type": "code",
   "execution_count": 45,
   "id": "8a67e1f5-6ef5-4428-a73e-d19ca33664cf",
   "metadata": {
    "tags": []
   },
   "outputs": [],
   "source": [
    "# Resetoidaan indeksi, jotta 'name' saadaan indeksistä sarakkeeksi:\n",
    "autot2 = autot2.reset_index()"
   ]
  },
  {
   "cell_type": "code",
   "execution_count": 52,
   "id": "854ec3af-ede0-445c-855b-166b3c8c6f75",
   "metadata": {
    "tags": []
   },
   "outputs": [
    {
     "data": {
      "text/plain": [
       "0                  INFINITI Q70\n",
       "1           Ford Crown Victoria\n",
       "2                    GMC Acadia\n",
       "3         Chevrolet Trailblazer\n",
       "4                   Kia Spectra\n",
       "                 ...           \n",
       "113                Cadillac XT4\n",
       "114            Chrysler Voyager\n",
       "115         Dodge Grand Caravan\n",
       "116           Chevrolet Express\n",
       "117    Mitsubishi Eclipse Cross\n",
       "Name: name, Length: 118, dtype: object"
      ]
     },
     "execution_count": 52,
     "metadata": {},
     "output_type": "execute_result"
    }
   ],
   "source": [
    "sopivat_autot = autot2['name']\n",
    "sopivat_autot"
   ]
  },
  {
   "cell_type": "markdown",
   "id": "fc45548d-d22d-4eec-b1a5-99917ddaf383",
   "metadata": {},
   "source": [
    "Lopputuloksena saatiin 118 erilaista automallia, joita on myyty vähintään 100 kappaletta, ja joista 20-80 prosenttia on ollut aiemmin taksikäytössä. Tallennetaan aineisto datakehikkoon *'taksit'*, ja käytetään näitä automalleja myöhemmin analyysissä."
   ]
  },
  {
   "cell_type": "code",
   "execution_count": 56,
   "id": "f2736aef-06a8-4434-a6c6-5bd1b1d537cc",
   "metadata": {
    "tags": []
   },
   "outputs": [
    {
     "name": "stdout",
     "output_type": "stream",
     "text": [
      "<class 'pandas.core.frame.DataFrame'>\n",
      "Index: 598588 entries, 5 to 3000039\n",
      "Data columns (total 9 columns):\n",
      " #   Column         Non-Null Count   Dtype  \n",
      "---  ------         --------------   -----  \n",
      " 0   daysonmarket   598588 non-null  int64  \n",
      " 1   has_accidents  598588 non-null  int64  \n",
      " 2   isCab          598588 non-null  int64  \n",
      " 3   make_name      598588 non-null  object \n",
      " 4   mileage        598588 non-null  float64\n",
      " 5   model_name     598588 non-null  object \n",
      " 6   price          598588 non-null  float64\n",
      " 7   year           598588 non-null  int64  \n",
      " 8   name           598588 non-null  object \n",
      "dtypes: float64(2), int64(4), object(3)\n",
      "memory usage: 45.7+ MB\n"
     ]
    }
   ],
   "source": [
    "taksit_df = autot_df[autot_df['name'].isin(sopivat_autot)]\n",
    "    \n",
    "taksit_df.info()"
   ]
  },
  {
   "cell_type": "markdown",
   "id": "f705919f-e5b3-4150-b1ba-2c43513d743b",
   "metadata": {},
   "source": [
    "Analysoitavaan aineistoon jää myyntitiedot 600000 autosta, eli noin 20 prosenttia alkuperäisestä aineistosta. Tallennetaan data tiedostoon *'taksit.csv'*:"
   ]
  },
  {
   "cell_type": "code",
   "execution_count": 57,
   "id": "aec26652-e85e-4bb6-bb96-d0e5f8186d27",
   "metadata": {
    "tags": []
   },
   "outputs": [],
   "source": [
    "taksit_df.to_csv('taksit.csv', index = False)"
   ]
  },
  {
   "cell_type": "markdown",
   "id": "8cd18b80-4ac1-48cb-93fd-b147eda5c28b",
   "metadata": {},
   "source": [
    "### Datan kuvailu \n",
    "\n",
    "Luetaan aiemmin tallennettu csv-tiedosto *'taksit.csv'* datakehikkoon *'df'*, ja tutustutaan siihen tarkemmin tilastollisten tunnuslukujen avulla. "
   ]
  },
  {
   "cell_type": "code",
   "execution_count": 81,
   "id": "07d496ed-1584-4e80-8b9a-6810d6e9c764",
   "metadata": {
    "tags": []
   },
   "outputs": [
    {
     "data": {
      "text/html": [
       "<div>\n",
       "<style scoped>\n",
       "    .dataframe tbody tr th:only-of-type {\n",
       "        vertical-align: middle;\n",
       "    }\n",
       "\n",
       "    .dataframe tbody tr th {\n",
       "        vertical-align: top;\n",
       "    }\n",
       "\n",
       "    .dataframe thead th {\n",
       "        text-align: right;\n",
       "    }\n",
       "</style>\n",
       "<table border=\"1\" class=\"dataframe\">\n",
       "  <thead>\n",
       "    <tr style=\"text-align: right;\">\n",
       "      <th></th>\n",
       "      <th>daysonmarket</th>\n",
       "      <th>has_accidents</th>\n",
       "      <th>isCab</th>\n",
       "      <th>mileage</th>\n",
       "      <th>price</th>\n",
       "      <th>year</th>\n",
       "    </tr>\n",
       "  </thead>\n",
       "  <tbody>\n",
       "    <tr>\n",
       "      <th>count</th>\n",
       "      <td>598588.000000</td>\n",
       "      <td>598588.000000</td>\n",
       "      <td>598588.000000</td>\n",
       "      <td>598588.000000</td>\n",
       "      <td>5.985880e+05</td>\n",
       "      <td>598588.000000</td>\n",
       "    </tr>\n",
       "    <tr>\n",
       "      <th>mean</th>\n",
       "      <td>57.598370</td>\n",
       "      <td>0.157033</td>\n",
       "      <td>0.343822</td>\n",
       "      <td>54423.963466</td>\n",
       "      <td>1.934238e+04</td>\n",
       "      <td>2016.258448</td>\n",
       "    </tr>\n",
       "    <tr>\n",
       "      <th>std</th>\n",
       "      <td>96.963631</td>\n",
       "      <td>0.363832</td>\n",
       "      <td>0.474983</td>\n",
       "      <td>43402.601522</td>\n",
       "      <td>1.217399e+04</td>\n",
       "      <td>3.818566</td>\n",
       "    </tr>\n",
       "    <tr>\n",
       "      <th>min</th>\n",
       "      <td>0.000000</td>\n",
       "      <td>0.000000</td>\n",
       "      <td>0.000000</td>\n",
       "      <td>0.000000</td>\n",
       "      <td>1.650000e+02</td>\n",
       "      <td>1947.000000</td>\n",
       "    </tr>\n",
       "    <tr>\n",
       "      <th>25%</th>\n",
       "      <td>13.000000</td>\n",
       "      <td>0.000000</td>\n",
       "      <td>0.000000</td>\n",
       "      <td>25467.000000</td>\n",
       "      <td>1.278875e+04</td>\n",
       "      <td>2015.000000</td>\n",
       "    </tr>\n",
       "    <tr>\n",
       "      <th>50%</th>\n",
       "      <td>30.000000</td>\n",
       "      <td>0.000000</td>\n",
       "      <td>0.000000</td>\n",
       "      <td>39263.000000</td>\n",
       "      <td>1.749000e+04</td>\n",
       "      <td>2017.000000</td>\n",
       "    </tr>\n",
       "    <tr>\n",
       "      <th>75%</th>\n",
       "      <td>60.000000</td>\n",
       "      <td>0.000000</td>\n",
       "      <td>1.000000</td>\n",
       "      <td>76056.250000</td>\n",
       "      <td>2.348100e+04</td>\n",
       "      <td>2019.000000</td>\n",
       "    </tr>\n",
       "    <tr>\n",
       "      <th>max</th>\n",
       "      <td>3599.000000</td>\n",
       "      <td>1.000000</td>\n",
       "      <td>1.000000</td>\n",
       "      <td>398654.000000</td>\n",
       "      <td>2.698500e+06</td>\n",
       "      <td>2021.000000</td>\n",
       "    </tr>\n",
       "  </tbody>\n",
       "</table>\n",
       "</div>"
      ],
      "text/plain": [
       "        daysonmarket  has_accidents          isCab        mileage  \\\n",
       "count  598588.000000  598588.000000  598588.000000  598588.000000   \n",
       "mean       57.598370       0.157033       0.343822   54423.963466   \n",
       "std        96.963631       0.363832       0.474983   43402.601522   \n",
       "min         0.000000       0.000000       0.000000       0.000000   \n",
       "25%        13.000000       0.000000       0.000000   25467.000000   \n",
       "50%        30.000000       0.000000       0.000000   39263.000000   \n",
       "75%        60.000000       0.000000       1.000000   76056.250000   \n",
       "max      3599.000000       1.000000       1.000000  398654.000000   \n",
       "\n",
       "              price           year  \n",
       "count  5.985880e+05  598588.000000  \n",
       "mean   1.934238e+04    2016.258448  \n",
       "std    1.217399e+04       3.818566  \n",
       "min    1.650000e+02    1947.000000  \n",
       "25%    1.278875e+04    2015.000000  \n",
       "50%    1.749000e+04    2017.000000  \n",
       "75%    2.348100e+04    2019.000000  \n",
       "max    2.698500e+06    2021.000000  "
      ]
     },
     "execution_count": 81,
     "metadata": {},
     "output_type": "execute_result"
    }
   ],
   "source": [
    "taksit_df = pd.read_csv('taksit.csv')\n",
    "\n",
    "taksit_df.describe()"
   ]
  },
  {
   "cell_type": "markdown",
   "id": "beacdf50-1c38-49b3-814c-1412bd819d05",
   "metadata": {},
   "source": [
    "Keskimääräinen myyntiaika autoilla on noin 58 vuorokautta, mutta myyntiajan vaihteluväli on 0-3599 vuorokautta, ja keskihajonta 97 vuorokautta. 50 prosenttia autoista on myyty 30 vuorokaudessa ja 75 proenttia autoista on myynnissä korkeintaan 60 vuorokautta, mutta joku tai jokunen erittäin pitkään myytävänä ollut auto nostaa keskiarvon verrattain korkeaksi.   \n",
    "\n",
    "Mittarilukeman keskiarvo on noin 54 000 mailia, ja vaihteluväli nollasta liki neljäänsataan tuhanteen mailiin. Keskihajonta on 43 000, 50 %:n kvartiili 39 000 ja 75 %:n 76 000.    \n",
    "\n",
    "Myyntihinnan keskiarvo on noin 1900 dollaria vaihteluvälin ollessa 165-2698500 dollaria. Keskiharjonta on 12173 dollaria, 50 %:n kvartiili 17490 dollaria ja 75 %:n kvartiili 23481 dollaria.   \n",
    "\n",
    "Autojen vuosimallien keskiarvo on 2016, ja vaihteluväli 1947-2021. Keskiharjonta on 3.8, 50 %:n kvartiili 2017 ja 75 % kvartiili 2019. Valtaosa autoista (75 %) on siis korkeintaan vuoden 2019 vuosimallia.   \n",
    "\n",
    "Edellisten jakaumia taksien ja ei-taksien välillä havainnollistavat seuraavat boxplot-kaaviot:  \n",
    "\n",
    "**Myyntiaika**"
   ]
  },
  {
   "cell_type": "code",
   "execution_count": 82,
   "id": "8677bd18-e1f8-4556-a453-6705943ed795",
   "metadata": {
    "tags": []
   },
   "outputs": [
    {
     "data": {
      "text/plain": [
       "<Axes: xlabel='isCab', ylabel='daysonmarket'>"
      ]
     },
     "execution_count": 82,
     "metadata": {},
     "output_type": "execute_result"
    },
    {
     "data": {
      "image/png": "[encoded data removed]",
      "text/plain": [
       "<Figure size 640x480 with 1 Axes>"
      ]
     },
     "metadata": {},
     "output_type": "display_data"
    }
   ],
   "source": [
    "sns.boxplot(x = 'isCab', y = 'daysonmarket', data = taksit_df)"
   ]
  },
  {
   "cell_type": "markdown",
   "id": "cf25062a-68ee-46ab-a371-29742b759115",
   "metadata": {},
   "source": [
    "**Mittarilukema**"
   ]
  },
  {
   "cell_type": "code",
   "execution_count": 83,
   "id": "1240ba1a-20c5-40c6-87a5-018a2a3c803f",
   "metadata": {
    "tags": []
   },
   "outputs": [
    {
     "data": {
      "text/plain": [
       "<Axes: xlabel='isCab', ylabel='mileage'>"
      ]
     },
     "execution_count": 83,
     "metadata": {},
     "output_type": "execute_result"
    },
    {
     "data": {
      "image/png": "[encoded data removed]",
      "text/plain": [
       "<Figure size 640x480 with 1 Axes>"
      ]
     },
     "metadata": {},
     "output_type": "display_data"
    }
   ],
   "source": [
    "sns.boxplot(x = 'isCab', y = 'mileage', data = taksit_df)"
   ]
  },
  {
   "cell_type": "markdown",
   "id": "010f0aa5-c6ab-4664-900d-7ab63132cbc0",
   "metadata": {},
   "source": [
    "**Hinta**"
   ]
  },
  {
   "cell_type": "code",
   "execution_count": 84,
   "id": "5f310711-7577-454e-8096-219db9ef13cd",
   "metadata": {
    "tags": []
   },
   "outputs": [
    {
     "data": {
      "text/plain": [
       "<Axes: xlabel='isCab', ylabel='price'>"
      ]
     },
     "execution_count": 84,
     "metadata": {},
     "output_type": "execute_result"
    },
    {
     "data": {
      "image/png": "[encoded data removed]",
      "text/plain": [
       "<Figure size 640x480 with 1 Axes>"
      ]
     },
     "metadata": {},
     "output_type": "display_data"
    }
   ],
   "source": [
    "sns.boxplot(x = 'isCab', y = 'price', data = taksit_df)"
   ]
  },
  {
   "cell_type": "markdown",
   "id": "3249f67f-a91a-46de-9925-672a11a934c2",
   "metadata": {},
   "source": [
    "**Vuosimalli**"
   ]
  },
  {
   "cell_type": "code",
   "execution_count": 85,
   "id": "d111ea86-dc1a-4668-b103-7e0da88d100f",
   "metadata": {
    "tags": []
   },
   "outputs": [
    {
     "data": {
      "text/plain": [
       "<Axes: xlabel='isCab', ylabel='year'>"
      ]
     },
     "execution_count": 85,
     "metadata": {},
     "output_type": "execute_result"
    },
    {
     "data": {
      "image/png": "[encoded data removed]",
      "text/plain": [
       "<Figure size 640x480 with 1 Axes>"
      ]
     },
     "metadata": {},
     "output_type": "display_data"
    }
   ],
   "source": [
    "sns.boxplot(x = 'isCab', y = 'year', data = taksit_df)"
   ]
  },
  {
   "cell_type": "code",
   "execution_count": 86,
   "id": "bf668f55-1f1b-49f0-977d-70043a5485cc",
   "metadata": {
    "tags": []
   },
   "outputs": [
    {
     "data": {
      "image/png": "[encoded data removed]",
      "text/plain": [
       "<Figure size 640x480 with 2 Axes>"
      ]
     },
     "metadata": {},
     "output_type": "display_data"
    }
   ],
   "source": [
    "# Korrelaatiomatriisi sarakkeista 'mileage', 'year', ja 'price':\n",
    "correlation_matrix = taksit_df[['daysonmarket', 'mileage', 'price', 'year', 'isCab']].corr()\n",
    "sns.heatmap(correlation_matrix, annot=True, cmap='coolwarm')\n",
    "plt.show()"
   ]
  },
  {
   "cell_type": "code",
   "execution_count": 87,
   "id": "4bc0c48a-2013-4477-bc07-8e3deaed4a0a",
   "metadata": {
    "tags": []
   },
   "outputs": [
    {
     "data": {
      "text/plain": [
       "<Axes: xlabel='year,isCab'>"
      ]
     },
     "execution_count": 87,
     "metadata": {},
     "output_type": "execute_result"
    },
    {
     "data": {
      "image/png": "[encoded data removed]",
      "text/plain": [
       "<Figure size 640x480 with 1 Axes>"
      ]
     },
     "metadata": {},
     "output_type": "display_data"
    }
   ],
   "source": [
    "hinta_vuosi_taksi = taksit_df.groupby(['year', 'isCab']).agg(\n",
    "    avg_price = ('price', 'mean')\n",
    ")\n",
    "\n",
    "hinta_vuosi_taksi.plot()"
   ]
  },
  {
   "cell_type": "markdown",
   "id": "5ecdd9fb-688b-4d71-8865-f295d8e0ec74",
   "metadata": {},
   "source": [
    "## Koulutus- ja testiaineistoon jako ja datan skaalaus\n",
    "\n",
    "Määritellään X- ja y-muuttujat, jaetaan data koulutus- ja testiaineistoon ja skaalataan data:"
   ]
  },
  {
   "cell_type": "code",
   "execution_count": 88,
   "id": "5a89cf0a-7c40-4ae0-98a7-bd0a6e5f483e",
   "metadata": {
    "tags": []
   },
   "outputs": [],
   "source": [
    "from sklearn.preprocessing import LabelEncoder \n",
    "\n",
    "# Enkoodataan 'name' sarakkeen arvot: \n",
    "le = LabelEncoder() \n",
    "\n",
    "taksit_df['namelabel'] = le.fit_transform(taksit_df['name'])\n",
    "#taksit_df['name'].unique()"
   ]
  },
  {
   "cell_type": "code",
   "execution_count": 92,
   "id": "9e8d35e1-234d-45da-bc42-3bd390938b1f",
   "metadata": {
    "tags": []
   },
   "outputs": [
    {
     "name": "stdout",
     "output_type": "stream",
     "text": [
      "Index(['daysonmarket', 'has_accidents', 'isCab', 'mileage', 'year',\n",
      "       'namelabel'],\n",
      "      dtype='object')\n"
     ]
    }
   ],
   "source": [
    "#  Määritellään X- ja y-muuttujat: \n",
    "X = taksit_df.drop(['price', 'make_name', 'model_name', 'name'], axis = 1)\n",
    "y = taksit_df['price']\n",
    "\n",
    "print(X.columns)"
   ]
  },
  {
   "cell_type": "code",
   "execution_count": 90,
   "id": "8642b696-7a87-4646-8420-79f43e1c85e8",
   "metadata": {
    "tags": []
   },
   "outputs": [],
   "source": [
    "from sklearn.model_selection import train_test_split\n",
    "from sklearn.preprocessing import StandardScaler"
   ]
  },
  {
   "cell_type": "code",
   "execution_count": 94,
   "id": "df56e695-1ffa-40c6-9d9e-67fb9b807ccc",
   "metadata": {
    "tags": []
   },
   "outputs": [],
   "source": [
    "# Jaetaan aineisto opetus- ja testausaineistoksi:\n",
    "X_train, X_test, y_train, y_test = train_test_split(X, y, test_size = 0.2, random_state = 42)\n",
    "\n",
    "# Skaalataan arvot:\n",
    "ss = StandardScaler()\n",
    "ss.fit(X_train)\n",
    "X_train = ss.transform(X_train)\n",
    "X_test = ss.transform(X_test)"
   ]
  },
  {
   "cell_type": "markdown",
   "id": "4ed2c94a-314f-41d0-a1f8-bf918b2a07eb",
   "metadata": {
    "tags": []
   },
   "source": [
    "## CRISP-DM vaihe 4: Mallinnus"
   ]
  },
  {
   "cell_type": "markdown",
   "id": "c7f10a33-1234-4703-bd41-47d1f6d2b429",
   "metadata": {},
   "source": [
    "### Lineaarinen regressiomalli\n",
    "\n",
    "Käytetään mallintamiseen lineaarista regressiomallia, jossa hintaa selitetään kaikilla aineistoon valituilla muuttujilla *'daysonmarket'*, *'has_accidents'*, *'isCab'*, *'mileage'* ja *'year'*. Mallin avulla saadaan selville, millainen vaikutus näillä tekijöillä on auton myyntihintaan."
   ]
  },
  {
   "cell_type": "code",
   "execution_count": null,
   "id": "063593ed-fc57-4552-b57e-62e05d37c822",
   "metadata": {
    "tags": []
   },
   "outputs": [],
   "source": [
    "from sklearn import linear_model\n",
    "from sklearn.metrics import mean_squared_error, r2_score"
   ]
  },
  {
   "cell_type": "code",
   "execution_count": 95,
   "id": "ce1ac54f-54f7-42c1-8022-bd91597dcfb6",
   "metadata": {
    "tags": []
   },
   "outputs": [],
   "source": [
    "# Luodaan lineaarisen regression objekti:\n",
    "regr = linear_model.LinearRegression()\n",
    "\n",
    "# Sovitetaan malli opetusaineistoon:\n",
    "regr.fit(X_train, y_train)\n",
    "\n",
    "# Ennustetaan testiaineiston arvoja:\n",
    "y_pred = regr.predict(X_test)"
   ]
  },
  {
   "cell_type": "code",
   "execution_count": 96,
   "id": "539a3a22-a0c3-4064-ba0e-47982aa91cbd",
   "metadata": {
    "tags": []
   },
   "outputs": [
    {
     "name": "stdout",
     "output_type": "stream",
     "text": [
      "Kertoimet: \n",
      " [ -144.66452076  -609.36226187  -381.68621729 -4338.54858503\n",
      "  2016.75800373 -1851.30589271]\n",
      "\n",
      "Keskihajonta: 137003133.98\n",
      "\n",
      "Selitysaste (Rˆ2): 0.22\n"
     ]
    }
   ],
   "source": [
    "# Kertoimet:\n",
    "print(\"Kertoimet: \\n\", regr.coef_)\n",
    "\n",
    "# Keskihajonta:\n",
    "print(\"\\nKeskihajonta: %.2f\" % mean_squared_error(y_test, y_pred))\n",
    "\n",
    "# Selitysaste:\n",
    "print(\"\\nSelitysaste (Rˆ2): %.2f\" % r2_score(y_test, y_pred))\n"
   ]
  },
  {
   "cell_type": "code",
   "execution_count": 97,
   "id": "fad2a402-ec9b-49a3-aea8-0cc3eefb2d7b",
   "metadata": {
    "tags": []
   },
   "outputs": [
    {
     "data": {
      "image/png": "[encoded data removed]",
      "text/plain": [
       "<Figure size 1000x600 with 1 Axes>"
      ]
     },
     "metadata": {},
     "output_type": "display_data"
    }
   ],
   "source": [
    "kertoimet = pd.DataFrame({\n",
    "    'Piirre': ['daysonmarket', 'has_accidents', 'isCab', 'mileage', 'year', 'namelabel'],\n",
    "    'Kerroin': regr.coef_\n",
    "})\n",
    "\n",
    "# Kaavio kertoimista:\n",
    "plt.figure(figsize=(10, 6))\n",
    "sns.barplot(x='Kerroin', y='Piirre', data=kertoimet, orient='h')\n",
    "plt.title('Lineaarisen regressiomallin kertoimet')\n",
    "plt.xlabel('Kertoimen arvo')\n",
    "plt.ylabel('Piirre')\n",
    "\n",
    "plt.show()"
   ]
  },
  {
   "cell_type": "markdown",
   "id": "55e0ba9b-2db1-46c2-905d-e1e458f21757",
   "metadata": {},
   "source": [
    "Tutkitaan, minkälainen vaikutus auton hintaan on sillä, että auton on ollut taksikäytössä:"
   ]
  },
  {
   "cell_type": "code",
   "execution_count": 98,
   "id": "3f2a3f74-c631-4914-9076-dcac4459fc62",
   "metadata": {
    "tags": []
   },
   "outputs": [],
   "source": [
    "#  Määritellään X- ja y-muuttujat: \n",
    "X2 = taksit_df['isCab'].values.reshape(-1, 1)\n",
    "y2 = taksit_df['price']\n",
    "\n",
    "# Jaetaan aineisto:\n",
    "X2_train, X2_test, y2_train, y2_test = train_test_split(X2, y2, test_size = 0.2, random_state = 42)"
   ]
  },
  {
   "cell_type": "code",
   "execution_count": 99,
   "id": "63db0cee-5343-4ce6-944b-747aab6b9d6f",
   "metadata": {
    "tags": []
   },
   "outputs": [],
   "source": [
    "# Lineaarisen regressiomallin objekti:\n",
    "regr2 = linear_model.LinearRegression()\n",
    "\n",
    "# Sovitetaan malli opetusaineistoon:\n",
    "regr2.fit(X2_train, y2_train)\n",
    "\n",
    "# Ennustetaan testiaineiston arvoja:\n",
    "y2_pred = regr2.predict(X2_test)"
   ]
  },
  {
   "cell_type": "code",
   "execution_count": 100,
   "id": "aea38a7d-a24b-4035-ba67-e44cba353a2d",
   "metadata": {
    "tags": []
   },
   "outputs": [
    {
     "name": "stdout",
     "output_type": "stream",
     "text": [
      "Kertoimet: \n",
      " [1450.29659087]\n",
      "\n",
      "Keskihajonta: 175107594.30\n",
      "\n",
      "Selitysaste (Rˆ2): 0.00\n"
     ]
    }
   ],
   "source": [
    "# Kertoimet:\n",
    "print(\"Kertoimet: \\n\", regr2.coef_)\n",
    "\n",
    "# Keskihajonta:\n",
    "print(\"\\nKeskihajonta: %.2f\" % mean_squared_error(y2_test, y2_pred))\n",
    "\n",
    "# Selitysaste:\n",
    "print(\"\\nSelitysaste (Rˆ2): %.2f\" % r2_score(y2_test, y2_pred))\n"
   ]
  },
  {
   "cell_type": "markdown",
   "id": "00f68066-f852-4434-8269-51b9e903b7bd",
   "metadata": {
    "tags": []
   },
   "source": [
    "Kokeiltujen regressiomallien selitysasteet (Rˆ2) jäävät niin alhaisiksi (0.22 ja 0.00), ettei mallin piirteiden voida katsoa selittävän hintaa käytännössä lainkaan. Tulos tuntuu epäuskottavalta, joten syytä mallin heikkouteen kannattaa etsiä aineistosta. Aiemmin tarkastelluista jakaumakaavioista ja tilastollisista tunnusluvuista voidaan päätellä, että yksittäiset liian suuret tai pienet havainnot sotkevat regressioanalyysiä. Voi olla tarpeen myös tarkastella huolellisemmin, mitkä automallit kannattaa ottaa mukaan analyysiin.     \n",
    "\n",
    "## CRISP-DM vaihe 3: Datan esikäsittely\n",
    "\n",
    "Palataan takaisin datan esikäsittelyyn, ja rajataan aineistoa tarkemmin. Aloitetaan rajaamalla myyntiaika vuoteen, toisin sanoen 365 vuorokauteen. Tällä pääsemme eroon kohtuuttoman pitkän myyntiajan autoista (max. 3599 vuorokautta, eli noin 10 vuotta). Rajataan autoja myös vuosimallin perusteella siten, että poistetaan aineistosta autot, jotka ovat vanhempaa vuosimallia kuin 1995. Poistetaan myös kolaroidut autot, ts. rivit, joissa *'has_accident'* saa arvon 1."
   ]
  },
  {
   "cell_type": "code",
   "execution_count": 101,
   "id": "f55a1369-96f3-4824-88d1-fe115518d993",
   "metadata": {
    "tags": []
   },
   "outputs": [
    {
     "data": {
      "text/html": [
       "<div>\n",
       "<style scoped>\n",
       "    .dataframe tbody tr th:only-of-type {\n",
       "        vertical-align: middle;\n",
       "    }\n",
       "\n",
       "    .dataframe tbody tr th {\n",
       "        vertical-align: top;\n",
       "    }\n",
       "\n",
       "    .dataframe thead th {\n",
       "        text-align: right;\n",
       "    }\n",
       "</style>\n",
       "<table border=\"1\" class=\"dataframe\">\n",
       "  <thead>\n",
       "    <tr style=\"text-align: right;\">\n",
       "      <th></th>\n",
       "      <th>daysonmarket</th>\n",
       "      <th>has_accidents</th>\n",
       "      <th>isCab</th>\n",
       "      <th>make_name</th>\n",
       "      <th>mileage</th>\n",
       "      <th>model_name</th>\n",
       "      <th>price</th>\n",
       "      <th>year</th>\n",
       "      <th>name</th>\n",
       "      <th>namelabel</th>\n",
       "    </tr>\n",
       "  </thead>\n",
       "  <tbody>\n",
       "    <tr>\n",
       "      <th>0</th>\n",
       "      <td>242</td>\n",
       "      <td>0</td>\n",
       "      <td>0</td>\n",
       "      <td>Land Rover</td>\n",
       "      <td>12.0</td>\n",
       "      <td>Range Rover Velar</td>\n",
       "      <td>66903.0</td>\n",
       "      <td>2020</td>\n",
       "      <td>Land Rover Range Rover Velar</td>\n",
       "      <td>79</td>\n",
       "    </tr>\n",
       "    <tr>\n",
       "      <th>1</th>\n",
       "      <td>33</td>\n",
       "      <td>0</td>\n",
       "      <td>0</td>\n",
       "      <td>Hyundai</td>\n",
       "      <td>30707.0</td>\n",
       "      <td>Elantra</td>\n",
       "      <td>13324.0</td>\n",
       "      <td>2017</td>\n",
       "      <td>Hyundai Elantra</td>\n",
       "      <td>54</td>\n",
       "    </tr>\n",
       "    <tr>\n",
       "      <th>2</th>\n",
       "      <td>55</td>\n",
       "      <td>0</td>\n",
       "      <td>1</td>\n",
       "      <td>Chevrolet</td>\n",
       "      <td>42394.0</td>\n",
       "      <td>Malibu</td>\n",
       "      <td>14639.0</td>\n",
       "      <td>2018</td>\n",
       "      <td>Chevrolet Malibu</td>\n",
       "      <td>18</td>\n",
       "    </tr>\n",
       "    <tr>\n",
       "      <th>3</th>\n",
       "      <td>27</td>\n",
       "      <td>0</td>\n",
       "      <td>0</td>\n",
       "      <td>Chevrolet</td>\n",
       "      <td>36410.0</td>\n",
       "      <td>Traverse</td>\n",
       "      <td>23723.0</td>\n",
       "      <td>2018</td>\n",
       "      <td>Chevrolet Traverse</td>\n",
       "      <td>23</td>\n",
       "    </tr>\n",
       "    <tr>\n",
       "      <th>4</th>\n",
       "      <td>27</td>\n",
       "      <td>1</td>\n",
       "      <td>0</td>\n",
       "      <td>Chevrolet</td>\n",
       "      <td>36055.0</td>\n",
       "      <td>Traverse</td>\n",
       "      <td>22422.0</td>\n",
       "      <td>2017</td>\n",
       "      <td>Chevrolet Traverse</td>\n",
       "      <td>23</td>\n",
       "    </tr>\n",
       "  </tbody>\n",
       "</table>\n",
       "</div>"
      ],
      "text/plain": [
       "   daysonmarket  has_accidents  isCab   make_name  mileage         model_name  \\\n",
       "0           242              0      0  Land Rover     12.0  Range Rover Velar   \n",
       "1            33              0      0     Hyundai  30707.0            Elantra   \n",
       "2            55              0      1   Chevrolet  42394.0             Malibu   \n",
       "3            27              0      0   Chevrolet  36410.0           Traverse   \n",
       "4            27              1      0   Chevrolet  36055.0           Traverse   \n",
       "\n",
       "     price  year                          name  namelabel  \n",
       "0  66903.0  2020  Land Rover Range Rover Velar         79  \n",
       "1  13324.0  2017               Hyundai Elantra         54  \n",
       "2  14639.0  2018              Chevrolet Malibu         18  \n",
       "3  23723.0  2018            Chevrolet Traverse         23  \n",
       "4  22422.0  2017            Chevrolet Traverse         23  "
      ]
     },
     "execution_count": 101,
     "metadata": {},
     "output_type": "execute_result"
    }
   ],
   "source": [
    "taksit_df.head()"
   ]
  },
  {
   "cell_type": "code",
   "execution_count": 102,
   "id": "2c6d3890-8f84-43a9-8caa-fde7b2205515",
   "metadata": {
    "tags": []
   },
   "outputs": [],
   "source": [
    "taksit2_df = taksit_df[(taksit_df['daysonmarket'] <= 365) & (taksit_df['year'] >= 1995) & (taksit_df['has_accidents'] == 0)] "
   ]
  },
  {
   "cell_type": "markdown",
   "id": "331249df-f205-40b0-ab64-3525d13f0786",
   "metadata": {},
   "source": [
    "Tarkastetaan, että näiden rajausten jälkeen aineistoon ei ole jäänyt automalleja, joissa taksien osuus on liian suuri tai pieni (ts. yli 80 tai alle 20 prosenttia), tai niitä on myyty lukumäärällisesti liian vähän (alle 100 kpl). "
   ]
  },
  {
   "cell_type": "code",
   "execution_count": 103,
   "id": "9292ffb3-f57f-458e-bca1-584a864a8f8d",
   "metadata": {
    "tags": []
   },
   "outputs": [
    {
     "name": "stdout",
     "output_type": "stream",
     "text": [
      "Pienin taksien osuus: \n",
      "                         cabRatio  count\n",
      "name                                   \n",
      "INFINITI Q70               0.172    163\n",
      "Ford Focus                 0.186   8136\n",
      "Chevrolet Trailblazer      0.188    666\n",
      "Chevrolet Traverse         0.206  10697\n",
      "Ford Edge                  0.207  15502\n",
      "Buick Rendezvous           0.209    110\n",
      "Hyundai Santa Fe Sport     0.210   3958\n",
      "Ford Fusion                0.210  18319\n",
      "GMC Acadia                 0.215   9708\n",
      "Saturn Outlook             0.219    114\n",
      "\n",
      "Suurin taksien osuus: \n",
      "                           cabRatio  count\n",
      "name                                     \n",
      "Mitsubishi Outlander         0.583   2862\n",
      "Ford Transit Passenger       0.590   2435\n",
      "Chevrolet Impala             0.598   6457\n",
      "Lincoln MKT                  0.603    677\n",
      "Ford Fusion Hybrid           0.612   5564\n",
      "Cadillac XT4                 0.636   1010\n",
      "Chrysler Voyager             0.663    101\n",
      "Dodge Grand Caravan          0.732  13968\n",
      "Chevrolet Express            0.743   2668\n",
      "Mitsubishi Eclipse Cross     0.751   1068\n"
     ]
    }
   ],
   "source": [
    "# Ryhmitellään mallin ('name') perusteella, ja lasketaan autojen lukumäärät ('count') sekä 'cabRatio':\n",
    "tulos4_df = taksit2_df.groupby(['name']).agg(\n",
    "    cabRatio = ('isCab', 'mean'),\n",
    "    count = ('price', 'count')\n",
    ")\n",
    "\n",
    "# Järjestetään rivit nousevaan järjestykseen 'cabRatio' perusteella:\n",
    "tulos4_df.sort_values('cabRatio', inplace = True)\n",
    "\n",
    "# Pyöristetään sarakkeen 'isCabRatio' tulokset kolmen desimaalin tarkkuuteen:\n",
    "tulos4_df['cabRatio'] = tulos4_df['cabRatio'].round(3)\n",
    "\n",
    "print(\"Pienin taksien osuus: \\n\", tulos4_df.head(10))\n",
    "print(\"\\nSuurin taksien osuus: \\n\", tulos4_df.tail(10))"
   ]
  },
  {
   "cell_type": "markdown",
   "id": "82220bd8-e899-4c0c-8688-c743569dc4ab",
   "metadata": {},
   "source": [
    "Aineiston rajaamisen jälkeen taksien osuus jää alle 20 prosenttiin mall3illa *INFINITI Q70*, *Ford Focus* ja *Chevrolet Trailblazer* (cabRatio: 0.195, count: 200). Poistetaan nämä autot aineistosta."
   ]
  },
  {
   "cell_type": "code",
   "execution_count": 104,
   "id": "a559af5f-92a6-48cc-88f6-798ca0d28546",
   "metadata": {
    "tags": []
   },
   "outputs": [],
   "source": [
    "taksit2_df = taksit2_df[(taksit2_df['name'] != 'INFINITI Q70') | (taksit2_df['name'] != 'Ford Focus') | (taksit2_df['name'] != 'Chevrolet Trailblazer')] \n",
    "#taksit2_df['name'].unique()"
   ]
  },
  {
   "cell_type": "markdown",
   "id": "c671382d-5495-4922-a304-c6ebfdd46644",
   "metadata": {},
   "source": [
    "Tarkastellaan, miltä aineisto vaikuttaa nyt:"
   ]
  },
  {
   "cell_type": "code",
   "execution_count": 105,
   "id": "97d481da-947e-40f9-9ec4-90e6861cb36d",
   "metadata": {
    "tags": []
   },
   "outputs": [
    {
     "name": "stdout",
     "output_type": "stream",
     "text": [
      "<class 'pandas.core.frame.DataFrame'>\n",
      "Index: 495789 entries, 0 to 598587\n",
      "Data columns (total 10 columns):\n",
      " #   Column         Non-Null Count   Dtype  \n",
      "---  ------         --------------   -----  \n",
      " 0   daysonmarket   495789 non-null  int64  \n",
      " 1   has_accidents  495789 non-null  int64  \n",
      " 2   isCab          495789 non-null  int64  \n",
      " 3   make_name      495789 non-null  object \n",
      " 4   mileage        495789 non-null  float64\n",
      " 5   model_name     495789 non-null  object \n",
      " 6   price          495789 non-null  float64\n",
      " 7   year           495789 non-null  int64  \n",
      " 8   name           495789 non-null  object \n",
      " 9   namelabel      495789 non-null  int64  \n",
      "dtypes: float64(2), int64(5), object(3)\n",
      "memory usage: 41.6+ MB\n"
     ]
    }
   ],
   "source": [
    "taksit2_df.info()"
   ]
  },
  {
   "cell_type": "code",
   "execution_count": 106,
   "id": "13cf368a-1eee-433b-b466-fe45ad7c9258",
   "metadata": {
    "tags": []
   },
   "outputs": [
    {
     "data": {
      "text/html": [
       "<div>\n",
       "<style scoped>\n",
       "    .dataframe tbody tr th:only-of-type {\n",
       "        vertical-align: middle;\n",
       "    }\n",
       "\n",
       "    .dataframe tbody tr th {\n",
       "        vertical-align: top;\n",
       "    }\n",
       "\n",
       "    .dataframe thead th {\n",
       "        text-align: right;\n",
       "    }\n",
       "</style>\n",
       "<table border=\"1\" class=\"dataframe\">\n",
       "  <thead>\n",
       "    <tr style=\"text-align: right;\">\n",
       "      <th></th>\n",
       "      <th>daysonmarket</th>\n",
       "      <th>has_accidents</th>\n",
       "      <th>isCab</th>\n",
       "      <th>mileage</th>\n",
       "      <th>price</th>\n",
       "      <th>year</th>\n",
       "      <th>namelabel</th>\n",
       "    </tr>\n",
       "  </thead>\n",
       "  <tbody>\n",
       "    <tr>\n",
       "      <th>count</th>\n",
       "      <td>495789.000000</td>\n",
       "      <td>495789.0</td>\n",
       "      <td>495789.000000</td>\n",
       "      <td>495789.000000</td>\n",
       "      <td>4.957890e+05</td>\n",
       "      <td>495789.000000</td>\n",
       "      <td>495789.000000</td>\n",
       "    </tr>\n",
       "    <tr>\n",
       "      <th>mean</th>\n",
       "      <td>47.315608</td>\n",
       "      <td>0.0</td>\n",
       "      <td>0.355556</td>\n",
       "      <td>50037.808570</td>\n",
       "      <td>2.019605e+04</td>\n",
       "      <td>2016.671624</td>\n",
       "      <td>59.586391</td>\n",
       "    </tr>\n",
       "    <tr>\n",
       "      <th>std</th>\n",
       "      <td>57.192034</td>\n",
       "      <td>0.0</td>\n",
       "      <td>0.478682</td>\n",
       "      <td>40658.547296</td>\n",
       "      <td>1.240519e+04</td>\n",
       "      <td>3.302812</td>\n",
       "      <td>31.727899</td>\n",
       "    </tr>\n",
       "    <tr>\n",
       "      <th>min</th>\n",
       "      <td>0.000000</td>\n",
       "      <td>0.0</td>\n",
       "      <td>0.000000</td>\n",
       "      <td>0.000000</td>\n",
       "      <td>1.650000e+02</td>\n",
       "      <td>1995.000000</td>\n",
       "      <td>0.000000</td>\n",
       "    </tr>\n",
       "    <tr>\n",
       "      <th>25%</th>\n",
       "      <td>13.000000</td>\n",
       "      <td>0.0</td>\n",
       "      <td>0.000000</td>\n",
       "      <td>23827.000000</td>\n",
       "      <td>1.375900e+04</td>\n",
       "      <td>2016.000000</td>\n",
       "      <td>36.000000</td>\n",
       "    </tr>\n",
       "    <tr>\n",
       "      <th>50%</th>\n",
       "      <td>29.000000</td>\n",
       "      <td>0.0</td>\n",
       "      <td>0.000000</td>\n",
       "      <td>37013.000000</td>\n",
       "      <td>1.799700e+04</td>\n",
       "      <td>2017.000000</td>\n",
       "      <td>54.000000</td>\n",
       "    </tr>\n",
       "    <tr>\n",
       "      <th>75%</th>\n",
       "      <td>56.000000</td>\n",
       "      <td>0.0</td>\n",
       "      <td>1.000000</td>\n",
       "      <td>66867.000000</td>\n",
       "      <td>2.415400e+04</td>\n",
       "      <td>2019.000000</td>\n",
       "      <td>94.000000</td>\n",
       "    </tr>\n",
       "    <tr>\n",
       "      <th>max</th>\n",
       "      <td>365.000000</td>\n",
       "      <td>0.0</td>\n",
       "      <td>1.000000</td>\n",
       "      <td>387347.000000</td>\n",
       "      <td>2.698500e+06</td>\n",
       "      <td>2021.000000</td>\n",
       "      <td>117.000000</td>\n",
       "    </tr>\n",
       "  </tbody>\n",
       "</table>\n",
       "</div>"
      ],
      "text/plain": [
       "        daysonmarket  has_accidents          isCab        mileage  \\\n",
       "count  495789.000000       495789.0  495789.000000  495789.000000   \n",
       "mean       47.315608            0.0       0.355556   50037.808570   \n",
       "std        57.192034            0.0       0.478682   40658.547296   \n",
       "min         0.000000            0.0       0.000000       0.000000   \n",
       "25%        13.000000            0.0       0.000000   23827.000000   \n",
       "50%        29.000000            0.0       0.000000   37013.000000   \n",
       "75%        56.000000            0.0       1.000000   66867.000000   \n",
       "max       365.000000            0.0       1.000000  387347.000000   \n",
       "\n",
       "              price           year      namelabel  \n",
       "count  4.957890e+05  495789.000000  495789.000000  \n",
       "mean   2.019605e+04    2016.671624      59.586391  \n",
       "std    1.240519e+04       3.302812      31.727899  \n",
       "min    1.650000e+02    1995.000000       0.000000  \n",
       "25%    1.375900e+04    2016.000000      36.000000  \n",
       "50%    1.799700e+04    2017.000000      54.000000  \n",
       "75%    2.415400e+04    2019.000000      94.000000  \n",
       "max    2.698500e+06    2021.000000     117.000000  "
      ]
     },
     "execution_count": 106,
     "metadata": {},
     "output_type": "execute_result"
    }
   ],
   "source": [
    "taksit2_df.describe()"
   ]
  },
  {
   "cell_type": "code",
   "execution_count": 107,
   "id": "754e7de5-0c9a-48ba-b080-2316db4f4629",
   "metadata": {
    "tags": []
   },
   "outputs": [
    {
     "data": {
      "text/plain": [
       "<Axes: xlabel='isCab', ylabel='daysonmarket'>"
      ]
     },
     "execution_count": 107,
     "metadata": {},
     "output_type": "execute_result"
    },
    {
     "data": {
      "image/png": "[encoded data removed]",
      "text/plain": [
       "<Figure size 640x480 with 1 Axes>"
      ]
     },
     "metadata": {},
     "output_type": "display_data"
    }
   ],
   "source": [
    "sns.boxplot(x = 'isCab', y = 'daysonmarket', data = taksit2_df)"
   ]
  },
  {
   "cell_type": "code",
   "execution_count": 108,
   "id": "f0b098a7-3d2a-43d4-8d73-0751a61ec9df",
   "metadata": {
    "tags": []
   },
   "outputs": [
    {
     "data": {
      "text/plain": [
       "<Axes: xlabel='isCab', ylabel='mileage'>"
      ]
     },
     "execution_count": 108,
     "metadata": {},
     "output_type": "execute_result"
    },
    {
     "data": {
      "image/png": "[encoded data removed]",
      "text/plain": [
       "<Figure size 640x480 with 1 Axes>"
      ]
     },
     "metadata": {},
     "output_type": "display_data"
    }
   ],
   "source": [
    "sns.boxplot(x = 'isCab', y = 'mileage', data = taksit2_df)"
   ]
  },
  {
   "cell_type": "code",
   "execution_count": 109,
   "id": "5a579382-8801-45fd-b4ea-6f314d2989ec",
   "metadata": {
    "tags": []
   },
   "outputs": [
    {
     "data": {
      "text/plain": [
       "<Axes: xlabel='isCab', ylabel='year'>"
      ]
     },
     "execution_count": 109,
     "metadata": {},
     "output_type": "execute_result"
    },
    {
     "data": {
      "image/png": "[encoded data removed]",
      "text/plain": [
       "<Figure size 640x480 with 1 Axes>"
      ]
     },
     "metadata": {},
     "output_type": "display_data"
    }
   ],
   "source": [
    "sns.boxplot(x = 'isCab', y = 'year', data = taksit2_df)"
   ]
  },
  {
   "cell_type": "code",
   "execution_count": 110,
   "id": "cb1a7955-c0c6-48c5-968a-37a90be3ee66",
   "metadata": {
    "tags": []
   },
   "outputs": [
    {
     "data": {
      "image/png": "[encoded data removed]",
      "text/plain": [
       "<Figure size 640x480 with 2 Axes>"
      ]
     },
     "metadata": {},
     "output_type": "display_data"
    }
   ],
   "source": [
    "# Korrelaatiomatriisi sarakkeista 'mileage', 'year', ja 'price':\n",
    "correlation_matrix = taksit2_df[['daysonmarket', 'mileage', 'price', 'year', 'isCab']].corr()\n",
    "sns.heatmap(correlation_matrix, annot=True, cmap='coolwarm')\n",
    "plt.show()"
   ]
  },
  {
   "cell_type": "markdown",
   "id": "bed6d1e4-2345-4454-9ba9-f79efcce6a00",
   "metadata": {},
   "source": [
    "Katsotaan vielä visuaalisesti, millä aineiston automalleilla on suurin 'cabRatio', eli mistä malleista suurin osa on ollut taksikäytössä:"
   ]
  },
  {
   "cell_type": "code",
   "execution_count": 111,
   "id": "60575946-9953-4d05-adf0-aaf6aba41f22",
   "metadata": {
    "tags": []
   },
   "outputs": [
    {
     "data": {
      "text/html": [
       "<div>\n",
       "<style scoped>\n",
       "    .dataframe tbody tr th:only-of-type {\n",
       "        vertical-align: middle;\n",
       "    }\n",
       "\n",
       "    .dataframe tbody tr th {\n",
       "        vertical-align: top;\n",
       "    }\n",
       "\n",
       "    .dataframe thead th {\n",
       "        text-align: right;\n",
       "    }\n",
       "</style>\n",
       "<table border=\"1\" class=\"dataframe\">\n",
       "  <thead>\n",
       "    <tr style=\"text-align: right;\">\n",
       "      <th></th>\n",
       "      <th>name</th>\n",
       "      <th>cabRatio</th>\n",
       "      <th>count</th>\n",
       "    </tr>\n",
       "  </thead>\n",
       "  <tbody>\n",
       "    <tr>\n",
       "      <th>14</th>\n",
       "      <td>Mitsubishi Eclipse Cross</td>\n",
       "      <td>0.751</td>\n",
       "      <td>1068</td>\n",
       "    </tr>\n",
       "    <tr>\n",
       "      <th>13</th>\n",
       "      <td>Chevrolet Express</td>\n",
       "      <td>0.743</td>\n",
       "      <td>2668</td>\n",
       "    </tr>\n",
       "    <tr>\n",
       "      <th>12</th>\n",
       "      <td>Dodge Grand Caravan</td>\n",
       "      <td>0.732</td>\n",
       "      <td>13968</td>\n",
       "    </tr>\n",
       "    <tr>\n",
       "      <th>11</th>\n",
       "      <td>Chrysler Voyager</td>\n",
       "      <td>0.663</td>\n",
       "      <td>101</td>\n",
       "    </tr>\n",
       "    <tr>\n",
       "      <th>10</th>\n",
       "      <td>Cadillac XT4</td>\n",
       "      <td>0.636</td>\n",
       "      <td>1010</td>\n",
       "    </tr>\n",
       "    <tr>\n",
       "      <th>9</th>\n",
       "      <td>Ford Fusion Hybrid</td>\n",
       "      <td>0.612</td>\n",
       "      <td>5564</td>\n",
       "    </tr>\n",
       "    <tr>\n",
       "      <th>8</th>\n",
       "      <td>Lincoln MKT</td>\n",
       "      <td>0.603</td>\n",
       "      <td>677</td>\n",
       "    </tr>\n",
       "    <tr>\n",
       "      <th>7</th>\n",
       "      <td>Chevrolet Impala</td>\n",
       "      <td>0.598</td>\n",
       "      <td>6457</td>\n",
       "    </tr>\n",
       "    <tr>\n",
       "      <th>6</th>\n",
       "      <td>Ford Transit Passenger</td>\n",
       "      <td>0.590</td>\n",
       "      <td>2435</td>\n",
       "    </tr>\n",
       "    <tr>\n",
       "      <th>5</th>\n",
       "      <td>Mitsubishi Outlander</td>\n",
       "      <td>0.583</td>\n",
       "      <td>2862</td>\n",
       "    </tr>\n",
       "    <tr>\n",
       "      <th>4</th>\n",
       "      <td>Nissan Versa Note</td>\n",
       "      <td>0.577</td>\n",
       "      <td>1036</td>\n",
       "    </tr>\n",
       "    <tr>\n",
       "      <th>3</th>\n",
       "      <td>Hyundai Accent</td>\n",
       "      <td>0.571</td>\n",
       "      <td>2474</td>\n",
       "    </tr>\n",
       "    <tr>\n",
       "      <th>2</th>\n",
       "      <td>Nissan Versa</td>\n",
       "      <td>0.570</td>\n",
       "      <td>5117</td>\n",
       "    </tr>\n",
       "    <tr>\n",
       "      <th>1</th>\n",
       "      <td>Nissan Armada</td>\n",
       "      <td>0.557</td>\n",
       "      <td>3321</td>\n",
       "    </tr>\n",
       "    <tr>\n",
       "      <th>0</th>\n",
       "      <td>Chrysler 300</td>\n",
       "      <td>0.538</td>\n",
       "      <td>5238</td>\n",
       "    </tr>\n",
       "  </tbody>\n",
       "</table>\n",
       "</div>"
      ],
      "text/plain": [
       "                        name  cabRatio  count\n",
       "14  Mitsubishi Eclipse Cross     0.751   1068\n",
       "13         Chevrolet Express     0.743   2668\n",
       "12       Dodge Grand Caravan     0.732  13968\n",
       "11          Chrysler Voyager     0.663    101\n",
       "10              Cadillac XT4     0.636   1010\n",
       "9         Ford Fusion Hybrid     0.612   5564\n",
       "8                Lincoln MKT     0.603    677\n",
       "7           Chevrolet Impala     0.598   6457\n",
       "6     Ford Transit Passenger     0.590   2435\n",
       "5       Mitsubishi Outlander     0.583   2862\n",
       "4          Nissan Versa Note     0.577   1036\n",
       "3             Hyundai Accent     0.571   2474\n",
       "2               Nissan Versa     0.570   5117\n",
       "1              Nissan Armada     0.557   3321\n",
       "0               Chrysler 300     0.538   5238"
      ]
     },
     "execution_count": 111,
     "metadata": {},
     "output_type": "execute_result"
    }
   ],
   "source": [
    "tulos5_df = tulos4_df.tail(15)\n",
    "tulos5_df.reset_index().sort_values('cabRatio', ascending = False)"
   ]
  },
  {
   "cell_type": "code",
   "execution_count": 112,
   "id": "329deffa-f37b-40be-9933-4ae7597145c9",
   "metadata": {
    "tags": []
   },
   "outputs": [
    {
     "data": {
      "image/png": "[encoded data removed]",
      "text/plain": [
       "<Figure size 1100x800 with 1 Axes>"
      ]
     },
     "metadata": {},
     "output_type": "display_data"
    }
   ],
   "source": [
    "suurin_cr = tulos4_df.tail(15).reset_index().sort_values('cabRatio', ascending = True)\n",
    " \n",
    "# Luodaan horisontaalinen pylväskaavio:\n",
    "plt.figure(figsize=(11, 8))\n",
    "bars = plt.barh(suurin_cr['name'], suurin_cr['cabRatio'], color='skyblue')\n",
    "\n",
    "# Asetetaan otsikko ja selitteet:\n",
    "plt.xlabel('cabRatio')\n",
    "plt.ylabel('Name')\n",
    "plt.title('Suurin \\'cabRatio\\' automalleittain')\n",
    "\n",
    "plt.show()"
   ]
  },
  {
   "cell_type": "markdown",
   "id": "d2d9845c-c389-4961-8da3-5b1b28c0f713",
   "metadata": {},
   "source": [
    "Data vaikuttaa nyt siistimmältä, ja korrelaatiomatriisikin antaa toivoa tarkemmasta mallintamisesta. Tehdään siis tällä aineistolla aiempi lineaarinen regressiomalli uudestaan. \n",
    "\n",
    "## CRISP-DM vaihe 4: Mallinnus  \n",
    "\n",
    "### Lineaarinen regressiomalli"
   ]
  },
  {
   "cell_type": "code",
   "execution_count": 113,
   "id": "ed6c3ed4-7167-415a-8096-8294377b4a56",
   "metadata": {
    "tags": []
   },
   "outputs": [
    {
     "data": {
      "text/plain": [
       "Index(['daysonmarket', 'isCab', 'mileage', 'year', 'namelabel'], dtype='object')"
      ]
     },
     "execution_count": 113,
     "metadata": {},
     "output_type": "execute_result"
    }
   ],
   "source": [
    "#  Määritellään X- ja y-muuttujat: \n",
    "X3 = taksit2_df.drop(['price', 'has_accidents', 'make_name', 'model_name', 'name'], axis = 1)\n",
    "y3 = taksit2_df['price']\n",
    "\n",
    "X3.columns"
   ]
  },
  {
   "cell_type": "code",
   "execution_count": 114,
   "id": "f3abbf68-93bd-4d38-a9ab-3a0064bac635",
   "metadata": {
    "tags": []
   },
   "outputs": [],
   "source": [
    "# Jaetaan aineisto opetus- ja testausaineistoksi:\n",
    "X3_train, X3_test, y3_train, y3_test = train_test_split(X3, y3, test_size = 0.2, random_state = 42)\n",
    "\n",
    "# Skaalataan arvot:\n",
    "ss3 = StandardScaler()\n",
    "ss3.fit(X3_train)\n",
    "X3_train = ss3.fit_transform(X3_train)\n",
    "X3_test = ss3.transform(X3_test)\n"
   ]
  },
  {
   "cell_type": "code",
   "execution_count": 115,
   "id": "8ee6ba9a-b8c3-4077-9947-d8ed581e05db",
   "metadata": {
    "tags": []
   },
   "outputs": [],
   "source": [
    "# Luodaan lineaarisen regression objekti:\n",
    "regr3 = linear_model.LinearRegression()\n",
    "\n",
    "# Sovitetaan malli opetusaineistoon:\n",
    "regr3.fit(X3_train, y3_train)\n",
    "\n",
    "# Ennustetaan testiaineiston arvoja:\n",
    "y3_pred = regr3.predict(X3_test)"
   ]
  },
  {
   "cell_type": "code",
   "execution_count": 116,
   "id": "ec38e9e8-5a5d-4bb5-a837-a7b812d7fa9d",
   "metadata": {
    "tags": []
   },
   "outputs": [
    {
     "name": "stdout",
     "output_type": "stream",
     "text": [
      "Kertoimet: \n",
      " [ -279.43160906  -770.60032595 -2973.92851732  3578.26474356\n",
      " -1985.64181372]\n",
      "\n",
      "Keskihajonta: 128896552.64\n",
      "\n",
      "Selitysaste (Rˆ2): 0.23\n"
     ]
    }
   ],
   "source": [
    "# Kertoimet:\n",
    "print(\"Kertoimet: \\n\", regr3.coef_)\n",
    "\n",
    "# Keskihajonta:\n",
    "print(\"\\nKeskihajonta: %.2f\" % mean_squared_error(y3_test, y3_pred))\n",
    "\n",
    "# Selitysaste:\n",
    "print(\"\\nSelitysaste (Rˆ2): %.2f\" % r2_score(y3_test, y3_pred))\n"
   ]
  },
  {
   "cell_type": "code",
   "execution_count": 118,
   "id": "4361060f-04a8-44a0-9699-f5b53fc0a637",
   "metadata": {
    "tags": []
   },
   "outputs": [
    {
     "data": {
      "image/png": "[encoded data removed]",
      "text/plain": [
       "<Figure size 1000x600 with 1 Axes>"
      ]
     },
     "metadata": {},
     "output_type": "display_data"
    }
   ],
   "source": [
    "kertoimet3 = pd.DataFrame({\n",
    "    'Piirre': ['daysonmarket', 'isCab', 'mileage', 'year', 'namelabel'],\n",
    "    'Kerroin': regr3.coef_\n",
    "})\n",
    "\n",
    "# Kaavio kertoimista:\n",
    "plt.figure(figsize=(10, 6))\n",
    "sns.barplot(x='Kerroin', y='Piirre', data=kertoimet3, orient='h')\n",
    "plt.title('Lineaarisen regressiomallin kertoimet')\n",
    "plt.xlabel('Kertoimen arvo')\n",
    "plt.ylabel('Piirre')\n",
    "\n",
    "plt.show()"
   ]
  },
  {
   "cell_type": "markdown",
   "id": "e0b621dc-8706-44cd-b85d-901d73f57761",
   "metadata": {},
   "source": [
    "Vaikka kertoimista voitaisiin päätellä, että vuosimallilla on hintaan positiivinen, ja mittarilukemalla, taksikäytössä olemisella ja myyntiajan pituudella negatiivinen vaikutus hintaan, tämänkin mallin selitysaste Rˆ2 on niin heikko (0.23), ettei se todellisuudessa selitä hinnan vaihtelua. Aineiston hiominen ei parantanut mallin selitysastetta juuri lainkaan, joten voidaan epäillä, ettei lineaarinen malli sovellu tähän tehtävään lainkaan. \n",
    "\n",
    "Kokeillaan seuraavaksi, miten epälineaariset mallit päätöspuu ja satunnaismetsä selviytyvät samasta tehtävästä.   \n",
    "\n",
    "### Päätöspuu "
   ]
  },
  {
   "cell_type": "code",
   "execution_count": null,
   "id": "50f260f5-d6fb-41fc-8518-1ff57a6d0b6f",
   "metadata": {
    "tags": []
   },
   "outputs": [],
   "source": [
    "from sklearn.tree import DecisionTreeRegressor"
   ]
  },
  {
   "cell_type": "code",
   "execution_count": 119,
   "id": "790f80cf-d860-4960-8af3-14352d5e1cb2",
   "metadata": {
    "tags": []
   },
   "outputs": [],
   "source": [
    "# Alustetaan ja koulutetaan luokittelija:\n",
    "regr_dt = DecisionTreeRegressor(random_state=42)\n",
    "regr_dt.fit(X3_train, y3_train)\n",
    "\n",
    "# Ennustetaan testiaineiston arvoja:\n",
    "y_pred_dt = regr_dt.predict(X3_test)\n"
   ]
  },
  {
   "cell_type": "code",
   "execution_count": 120,
   "id": "fb3c9fa5-aa40-40c7-84c4-94be19b35758",
   "metadata": {
    "tags": []
   },
   "outputs": [
    {
     "name": "stdout",
     "output_type": "stream",
     "text": [
      "Päätöspuun keskineliövirhe (MSE): 193011100.1659888\n",
      "Päätöspuun selitysaste (Rˆ2): -0.1464233498750882\n"
     ]
    }
   ],
   "source": [
    "from sklearn.metrics import mean_squared_error, r2_score\n",
    "\n",
    "# Arvioidaan mallia:\n",
    "mse_dt = mean_squared_error(y3_test, y_pred_dt)\n",
    "r2_dt = r2_score(y3_test, y_pred_dt)\n",
    "\n",
    "print(f'Päätöspuun keskineliövirhe (MSE): {mse_dt}')\n",
    "print(f'Päätöspuun selitysaste (Rˆ2): {r2_dt}') \n"
   ]
  },
  {
   "cell_type": "markdown",
   "id": "9e6e3288-38fe-4275-b4ab-7b4ccede1a10",
   "metadata": {},
   "source": [
    "Päätöspuun suuri keskineliövirhe ja negatiivinen selitysaste viittaavat siihen, ettei tämäkään malli toimi hyvin. Ennusteet eivät ole tarkkoja, eikä selittäjät muuttujat selitä hinnan vaihtelua hyvin.   \n",
    "\n",
    "Kokeillaan seuraavaksi satunnaismetsämenetelmää. \n",
    "\n",
    "## Satunnaismetsä"
   ]
  },
  {
   "cell_type": "code",
   "execution_count": 121,
   "id": "5316fe8b-2193-48b8-88b3-1d5a176bc877",
   "metadata": {
    "tags": []
   },
   "outputs": [],
   "source": [
    "from sklearn.ensemble import RandomForestRegressor\n",
    "\n",
    "# Alustetaan ja koulutetaan luokittelija:\n",
    "regr_rf = RandomForestRegressor(n_estimators=100, random_state=42)\n",
    "regr_rf.fit(X3_train, y3_train)\n",
    "\n",
    "# Ennustetaan testiaineiston arvoja: \n",
    "y_pred_rf = regr_rf.predict(X3_test)"
   ]
  },
  {
   "cell_type": "code",
   "execution_count": 122,
   "id": "32fda35a-6e96-4bf0-939f-55acb0a48bf6",
   "metadata": {
    "tags": []
   },
   "outputs": [
    {
     "name": "stdout",
     "output_type": "stream",
     "text": [
      "Random Forest - Mean Squared Error: 82659069.32751091\n",
      "Random Forest - R-squared: 0.5090319309381325\n"
     ]
    }
   ],
   "source": [
    "# Arvioidaan mallia:\n",
    "mse_rf = mean_squared_error(y3_test, y_pred_rf)\n",
    "r2_rf = r2_score(y3_test, y_pred_rf)\n",
    "\n",
    "print(f'Random Forest - Mean Squared Error: {mse_rf}')\n",
    "print(f'Random Forest - R-squared: {r2_rf}')\n"
   ]
  },
  {
   "cell_type": "code",
   "execution_count": 124,
   "id": "b55ed1ea-31bc-4f8f-aff6-64a0f14c2977",
   "metadata": {
    "tags": []
   },
   "outputs": [
    {
     "data": {
      "image/png": "[encoded data removed]",
      "text/plain": [
       "<Figure size 1000x600 with 1 Axes>"
      ]
     },
     "metadata": {},
     "output_type": "display_data"
    }
   ],
   "source": [
    "# Tutkitaan tärkeimpiä piirteitä:\n",
    "feature_importances = pd.DataFrame({'Feature': X3.columns, 'Importance': regr_rf.feature_importances_})\n",
    "feature_importances = feature_importances.sort_values(by='Importance', ascending=False)\n",
    "\n",
    "# Piirretään kaavio:\n",
    "plt.figure(figsize=(10, 6))\n",
    "sns.barplot(x='Importance', y='Feature', data=feature_importances)\n",
    "plt.title('Feature Importances')\n",
    "plt.show()"
   ]
  },
  {
   "cell_type": "code",
   "execution_count": null,
   "id": "f790264b-1e87-4c09-8468-79347abc50d9",
   "metadata": {},
   "outputs": [],
   "source": []
  }
 ],
 "metadata": {
  "kernelspec": {
   "display_name": "Python 3 (ipykernel)",
   "language": "python",
   "name": "python3"
  },
  "language_info": {
   "codemirror_mode": {
    "name": "ipython",
    "version": 3
   },
   "file_extension": ".py",
   "mimetype": "text/x-python",
   "name": "python",
   "nbconvert_exporter": "python",
   "pygments_lexer": "ipython3",
   "version": "3.9.18"
  }
 },
 "nbformat": 4,
 "nbformat_minor": 5
}
