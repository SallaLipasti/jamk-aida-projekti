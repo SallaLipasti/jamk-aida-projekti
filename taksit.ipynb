{
 "cells": [
  {
   "cell_type": "markdown",
   "id": "2579ff82-12ed-4049-bc05-332f5dc7b957",
   "metadata": {},
   "source": [
    "# Taksit \n",
    "\n",
    "Selvitetään, onko ollut vaikutusta auton hintaan, jos auto on ollut aiemmin taksikäytössä. \n",
    "\n"
   ]
  },
  {
   "cell_type": "markdown",
   "id": "a5f6e5b8-dd84-4232-994a-038b000857fb",
   "metadata": {},
   "source": [
    "## CRISP-DM vaiheet 2 ja 3: Datan ymmärtäminen ja esikäsittely    \n",
    "\n",
    "Tässä vaiheessa ladataan käytettävä CSV-aineisto, ja puhdistetaan ja muokataan se eheäksi ja tarkoituksenmukaiseksi myöhempää analyysi- ja mallinnusvaihetta varten. Aloitetaan lataamalla aineisto ja siitä tehtävän kannalta relevantit sarakkeet Ladataan aineistosta sarakkeet *'make_name'* (merkki), *'model_name'* (mallin nimi), *'mileage'* (mittarilukema), *'year'* (vuosimalli), *'price'* (myyntihinta), *'isCab'* (onko auto ollut taksikäytössä), *'daysonmarket'* (montako päivää auto oli myynnissä) ja *'has_accidents'* (onko auto joutunut onnettomuuteen) datakehikkoon *'df'*:"
   ]
  },
  {
   "cell_type": "code",
   "execution_count": 1,
   "id": "aae60688-f9ac-4086-92d4-a126529833da",
   "metadata": {
    "tags": []
   },
   "outputs": [],
   "source": [
    "import pandas as pd\n",
    "import numpy as np\n",
    "import matplotlib.pyplot as plt\n",
    "import seaborn as sns"
   ]
  },
  {
   "cell_type": "code",
   "execution_count": 2,
   "id": "7385f491-88d4-4802-85b2-562e08cf95ee",
   "metadata": {
    "tags": []
   },
   "outputs": [],
   "source": [
    "# Tiedoston polku: \n",
    "file_path = '/Volumes/AIDA/AIDA-projekti/used_cars_data.csv' \n",
    "\n",
    "# Valitut sarakkeet:\n",
    "sarakkeet = ['make_name', 'model_name', 'mileage', 'year', 'price', 'isCab', 'daysonmarket', 'has_accidents']\n",
    "\n",
    "# Luetaan aineistosta vain halutut sarakkeet datakehikkoon:\n",
    "df = pd.read_csv(file_path, usecols = sarakkeet) "
   ]
  },
  {
   "cell_type": "markdown",
   "id": "54069672-20c0-4dca-a4bf-3e0b934670c8",
   "metadata": {},
   "source": [
    "Tutkitaan saatua datakehikkoa."
   ]
  },
  {
   "cell_type": "code",
   "execution_count": 3,
   "id": "af437d35-cf98-4505-afc0-1076d2de42e2",
   "metadata": {
    "tags": []
   },
   "outputs": [
    {
     "data": {
      "text/html": [
       "<div>\n",
       "<style scoped>\n",
       "    .dataframe tbody tr th:only-of-type {\n",
       "        vertical-align: middle;\n",
       "    }\n",
       "\n",
       "    .dataframe tbody tr th {\n",
       "        vertical-align: top;\n",
       "    }\n",
       "\n",
       "    .dataframe thead th {\n",
       "        text-align: right;\n",
       "    }\n",
       "</style>\n",
       "<table border=\"1\" class=\"dataframe\">\n",
       "  <thead>\n",
       "    <tr style=\"text-align: right;\">\n",
       "      <th></th>\n",
       "      <th>daysonmarket</th>\n",
       "      <th>has_accidents</th>\n",
       "      <th>isCab</th>\n",
       "      <th>make_name</th>\n",
       "      <th>mileage</th>\n",
       "      <th>model_name</th>\n",
       "      <th>price</th>\n",
       "      <th>year</th>\n",
       "    </tr>\n",
       "  </thead>\n",
       "  <tbody>\n",
       "    <tr>\n",
       "      <th>2212523</th>\n",
       "      <td>69</td>\n",
       "      <td>NaN</td>\n",
       "      <td>NaN</td>\n",
       "      <td>Lincoln</td>\n",
       "      <td>0.0</td>\n",
       "      <td>Aviator</td>\n",
       "      <td>53465.0</td>\n",
       "      <td>2020</td>\n",
       "    </tr>\n",
       "    <tr>\n",
       "      <th>2168227</th>\n",
       "      <td>421</td>\n",
       "      <td>False</td>\n",
       "      <td>False</td>\n",
       "      <td>Chrysler</td>\n",
       "      <td>32503.0</td>\n",
       "      <td>Pacifica</td>\n",
       "      <td>27995.0</td>\n",
       "      <td>2018</td>\n",
       "    </tr>\n",
       "    <tr>\n",
       "      <th>1574704</th>\n",
       "      <td>210</td>\n",
       "      <td>NaN</td>\n",
       "      <td>NaN</td>\n",
       "      <td>Jeep</td>\n",
       "      <td>0.0</td>\n",
       "      <td>Grand Cherokee</td>\n",
       "      <td>28799.0</td>\n",
       "      <td>2020</td>\n",
       "    </tr>\n",
       "    <tr>\n",
       "      <th>682845</th>\n",
       "      <td>202</td>\n",
       "      <td>False</td>\n",
       "      <td>False</td>\n",
       "      <td>Lincoln</td>\n",
       "      <td>71.0</td>\n",
       "      <td>Corsair</td>\n",
       "      <td>43483.0</td>\n",
       "      <td>2020</td>\n",
       "    </tr>\n",
       "    <tr>\n",
       "      <th>62283</th>\n",
       "      <td>38</td>\n",
       "      <td>False</td>\n",
       "      <td>False</td>\n",
       "      <td>Lincoln</td>\n",
       "      <td>84291.0</td>\n",
       "      <td>MKZ Hybrid</td>\n",
       "      <td>13999.0</td>\n",
       "      <td>2014</td>\n",
       "    </tr>\n",
       "    <tr>\n",
       "      <th>2647614</th>\n",
       "      <td>79</td>\n",
       "      <td>False</td>\n",
       "      <td>True</td>\n",
       "      <td>Kia</td>\n",
       "      <td>17000.0</td>\n",
       "      <td>Optima</td>\n",
       "      <td>16997.0</td>\n",
       "      <td>2020</td>\n",
       "    </tr>\n",
       "    <tr>\n",
       "      <th>2626192</th>\n",
       "      <td>77</td>\n",
       "      <td>False</td>\n",
       "      <td>True</td>\n",
       "      <td>Chevrolet</td>\n",
       "      <td>37101.0</td>\n",
       "      <td>Malibu</td>\n",
       "      <td>16594.0</td>\n",
       "      <td>2018</td>\n",
       "    </tr>\n",
       "    <tr>\n",
       "      <th>1544392</th>\n",
       "      <td>28</td>\n",
       "      <td>False</td>\n",
       "      <td>False</td>\n",
       "      <td>Cadillac</td>\n",
       "      <td>134181.0</td>\n",
       "      <td>SRX</td>\n",
       "      <td>9995.0</td>\n",
       "      <td>2012</td>\n",
       "    </tr>\n",
       "    <tr>\n",
       "      <th>604857</th>\n",
       "      <td>6</td>\n",
       "      <td>False</td>\n",
       "      <td>True</td>\n",
       "      <td>Ford</td>\n",
       "      <td>39240.0</td>\n",
       "      <td>Fiesta</td>\n",
       "      <td>10900.0</td>\n",
       "      <td>2019</td>\n",
       "    </tr>\n",
       "    <tr>\n",
       "      <th>963173</th>\n",
       "      <td>43</td>\n",
       "      <td>NaN</td>\n",
       "      <td>NaN</td>\n",
       "      <td>Chevrolet</td>\n",
       "      <td>3.0</td>\n",
       "      <td>Silverado 1500</td>\n",
       "      <td>47246.0</td>\n",
       "      <td>2020</td>\n",
       "    </tr>\n",
       "  </tbody>\n",
       "</table>\n",
       "</div>"
      ],
      "text/plain": [
       "         daysonmarket has_accidents  isCab  make_name   mileage  \\\n",
       "2212523            69           NaN    NaN    Lincoln       0.0   \n",
       "2168227           421         False  False   Chrysler   32503.0   \n",
       "1574704           210           NaN    NaN       Jeep       0.0   \n",
       "682845            202         False  False    Lincoln      71.0   \n",
       "62283              38         False  False    Lincoln   84291.0   \n",
       "2647614            79         False   True        Kia   17000.0   \n",
       "2626192            77         False   True  Chevrolet   37101.0   \n",
       "1544392            28         False  False   Cadillac  134181.0   \n",
       "604857              6         False   True       Ford   39240.0   \n",
       "963173             43           NaN    NaN  Chevrolet       3.0   \n",
       "\n",
       "             model_name    price  year  \n",
       "2212523         Aviator  53465.0  2020  \n",
       "2168227        Pacifica  27995.0  2018  \n",
       "1574704  Grand Cherokee  28799.0  2020  \n",
       "682845          Corsair  43483.0  2020  \n",
       "62283        MKZ Hybrid  13999.0  2014  \n",
       "2647614          Optima  16997.0  2020  \n",
       "2626192          Malibu  16594.0  2018  \n",
       "1544392             SRX   9995.0  2012  \n",
       "604857           Fiesta  10900.0  2019  \n",
       "963173   Silverado 1500  47246.0  2020  "
      ]
     },
     "execution_count": 3,
     "metadata": {},
     "output_type": "execute_result"
    }
   ],
   "source": [
    "df.sample(10)"
   ]
  },
  {
   "cell_type": "markdown",
   "id": "766ee16a-1481-446c-bb10-4a3970dd189c",
   "metadata": {},
   "source": [
    "### Uuden sarakkeen luominen\n",
    "\n",
    "Yhdistetään *'make_name'* ja *'model_name'* yhdeksi sarakkeeksi *'name'*, joka kuvaa auton merkkiä ja mallia:"
   ]
  },
  {
   "cell_type": "code",
   "execution_count": 4,
   "id": "23ae9b5a-bcb0-4f33-99a7-e18c00050767",
   "metadata": {
    "tags": []
   },
   "outputs": [
    {
     "data": {
      "text/html": [
       "<div>\n",
       "<style scoped>\n",
       "    .dataframe tbody tr th:only-of-type {\n",
       "        vertical-align: middle;\n",
       "    }\n",
       "\n",
       "    .dataframe tbody tr th {\n",
       "        vertical-align: top;\n",
       "    }\n",
       "\n",
       "    .dataframe thead th {\n",
       "        text-align: right;\n",
       "    }\n",
       "</style>\n",
       "<table border=\"1\" class=\"dataframe\">\n",
       "  <thead>\n",
       "    <tr style=\"text-align: right;\">\n",
       "      <th></th>\n",
       "      <th>daysonmarket</th>\n",
       "      <th>has_accidents</th>\n",
       "      <th>isCab</th>\n",
       "      <th>make_name</th>\n",
       "      <th>mileage</th>\n",
       "      <th>model_name</th>\n",
       "      <th>price</th>\n",
       "      <th>year</th>\n",
       "      <th>name</th>\n",
       "    </tr>\n",
       "  </thead>\n",
       "  <tbody>\n",
       "    <tr>\n",
       "      <th>0</th>\n",
       "      <td>522</td>\n",
       "      <td>NaN</td>\n",
       "      <td>NaN</td>\n",
       "      <td>Jeep</td>\n",
       "      <td>7.0</td>\n",
       "      <td>Renegade</td>\n",
       "      <td>23141.0</td>\n",
       "      <td>2019</td>\n",
       "      <td>Jeep Renegade</td>\n",
       "    </tr>\n",
       "    <tr>\n",
       "      <th>1</th>\n",
       "      <td>207</td>\n",
       "      <td>NaN</td>\n",
       "      <td>NaN</td>\n",
       "      <td>Land Rover</td>\n",
       "      <td>8.0</td>\n",
       "      <td>Discovery Sport</td>\n",
       "      <td>46500.0</td>\n",
       "      <td>2020</td>\n",
       "      <td>Land Rover Discovery Sport</td>\n",
       "    </tr>\n",
       "    <tr>\n",
       "      <th>2</th>\n",
       "      <td>1233</td>\n",
       "      <td>False</td>\n",
       "      <td>False</td>\n",
       "      <td>Subaru</td>\n",
       "      <td>NaN</td>\n",
       "      <td>WRX STI</td>\n",
       "      <td>46995.0</td>\n",
       "      <td>2016</td>\n",
       "      <td>Subaru WRX STI</td>\n",
       "    </tr>\n",
       "    <tr>\n",
       "      <th>3</th>\n",
       "      <td>196</td>\n",
       "      <td>NaN</td>\n",
       "      <td>NaN</td>\n",
       "      <td>Land Rover</td>\n",
       "      <td>11.0</td>\n",
       "      <td>Discovery</td>\n",
       "      <td>67430.0</td>\n",
       "      <td>2020</td>\n",
       "      <td>Land Rover Discovery</td>\n",
       "    </tr>\n",
       "    <tr>\n",
       "      <th>4</th>\n",
       "      <td>137</td>\n",
       "      <td>NaN</td>\n",
       "      <td>NaN</td>\n",
       "      <td>Land Rover</td>\n",
       "      <td>7.0</td>\n",
       "      <td>Discovery Sport</td>\n",
       "      <td>48880.0</td>\n",
       "      <td>2020</td>\n",
       "      <td>Land Rover Discovery Sport</td>\n",
       "    </tr>\n",
       "  </tbody>\n",
       "</table>\n",
       "</div>"
      ],
      "text/plain": [
       "   daysonmarket has_accidents  isCab   make_name  mileage       model_name  \\\n",
       "0           522           NaN    NaN        Jeep      7.0         Renegade   \n",
       "1           207           NaN    NaN  Land Rover      8.0  Discovery Sport   \n",
       "2          1233         False  False      Subaru      NaN          WRX STI   \n",
       "3           196           NaN    NaN  Land Rover     11.0        Discovery   \n",
       "4           137           NaN    NaN  Land Rover      7.0  Discovery Sport   \n",
       "\n",
       "     price  year                        name  \n",
       "0  23141.0  2019               Jeep Renegade  \n",
       "1  46500.0  2020  Land Rover Discovery Sport  \n",
       "2  46995.0  2016              Subaru WRX STI  \n",
       "3  67430.0  2020        Land Rover Discovery  \n",
       "4  48880.0  2020  Land Rover Discovery Sport  "
      ]
     },
     "execution_count": 4,
     "metadata": {},
     "output_type": "execute_result"
    }
   ],
   "source": [
    "df['name'] = df['make_name'] + \" \" + df['model_name']\n",
    "df.head()"
   ]
  },
  {
   "cell_type": "markdown",
   "id": "9bb4c5ef-0c8a-4f9f-8d13-58d6e253ac5b",
   "metadata": {
    "tags": []
   },
   "source": [
    "### Tyhjien arvojen käsittely\n",
    "\n",
    "Tässä kysymyksessä on olennaista tietää, onko auto ollut taksikäytössä. Tutkitaan siis ensimmäiseksi, onko sarakkeessa *'isCab'* tyhjiä arvoja, ja poistetaan tarvittaessa tällaiset rivit. "
   ]
  },
  {
   "cell_type": "code",
   "execution_count": 5,
   "id": "1e7221b9-c85e-4c99-8adb-02ba2d7a6000",
   "metadata": {
    "tags": []
   },
   "outputs": [
    {
     "data": {
      "text/plain": [
       "array([nan, False, True], dtype=object)"
      ]
     },
     "execution_count": 5,
     "metadata": {},
     "output_type": "execute_result"
    }
   ],
   "source": [
    "df['isCab'].unique()"
   ]
  },
  {
   "cell_type": "code",
   "execution_count": 6,
   "id": "efc7ebf1-7b3a-421b-999f-5e695252b7a5",
   "metadata": {
    "tags": []
   },
   "outputs": [
    {
     "data": {
      "text/plain": [
       "1426595"
      ]
     },
     "execution_count": 6,
     "metadata": {},
     "output_type": "execute_result"
    }
   ],
   "source": [
    "# Tarkastetaan, montako tyhjää arvoa sarakkeessa 'isCab' on:\n",
    "df['isCab'].isna().sum()"
   ]
  },
  {
   "cell_type": "code",
   "execution_count": 7,
   "id": "d2ea725d-b223-442f-8de1-b42e287423c7",
   "metadata": {
    "tags": []
   },
   "outputs": [
    {
     "data": {
      "text/plain": [
       "daysonmarket         0\n",
       "has_accidents        0\n",
       "isCab                0\n",
       "make_name            0\n",
       "mileage          19390\n",
       "model_name           0\n",
       "price                0\n",
       "year                 0\n",
       "name                 0\n",
       "dtype: int64"
      ]
     },
     "execution_count": 7,
     "metadata": {},
     "output_type": "execute_result"
    }
   ],
   "source": [
    "# Poistetaan sarakkeessa 'isCab' tyhjän arvon sisältävät rivit:\n",
    "df.dropna(subset=['isCab'], inplace=True)\n",
    "\n",
    "# Tarkastetaan uudelleen tyhjien arvojen määrät sarakkeittain:\n",
    "df.isna().sum()"
   ]
  },
  {
   "cell_type": "markdown",
   "id": "522dac7c-5b49-4a56-abb5-33677d6ed4d1",
   "metadata": {
    "tags": []
   },
   "source": [
    "Aineisto sisältää yhä tyhjiä arvoja sarakkeessa *'mileage'*. Sopivia keskilukuja näiden korvaamiseksi on vaikea päätellä, joten poistetaan myös nämä rivit."
   ]
  },
  {
   "cell_type": "code",
   "execution_count": 8,
   "id": "9e148e1f-d5ef-4404-9578-064f886860a8",
   "metadata": {
    "tags": []
   },
   "outputs": [
    {
     "data": {
      "text/plain": [
       "daysonmarket     0\n",
       "has_accidents    0\n",
       "isCab            0\n",
       "make_name        0\n",
       "mileage          0\n",
       "model_name       0\n",
       "price            0\n",
       "year             0\n",
       "name             0\n",
       "dtype: int64"
      ]
     },
     "execution_count": 8,
     "metadata": {},
     "output_type": "execute_result"
    }
   ],
   "source": [
    "df.dropna(subset=['mileage'], inplace=True)\n",
    "\n",
    "df.isna().sum()"
   ]
  },
  {
   "cell_type": "markdown",
   "id": "05c338af-fa24-4a50-8fc9-a89abb6b6738",
   "metadata": {},
   "source": [
    "### Tietotyyppien tarkastelu"
   ]
  },
  {
   "cell_type": "code",
   "execution_count": 9,
   "id": "7ae05119-2bbd-4e8a-afcd-e30dcff8812a",
   "metadata": {
    "tags": []
   },
   "outputs": [
    {
     "name": "stdout",
     "output_type": "stream",
     "text": [
      "<class 'pandas.core.frame.DataFrame'>\n",
      "Index: 1554055 entries, 5 to 3000039\n",
      "Data columns (total 9 columns):\n",
      " #   Column         Non-Null Count    Dtype  \n",
      "---  ------         --------------    -----  \n",
      " 0   daysonmarket   1554055 non-null  int64  \n",
      " 1   has_accidents  1554055 non-null  object \n",
      " 2   isCab          1554055 non-null  object \n",
      " 3   make_name      1554055 non-null  object \n",
      " 4   mileage        1554055 non-null  float64\n",
      " 5   model_name     1554055 non-null  object \n",
      " 6   price          1554055 non-null  float64\n",
      " 7   year           1554055 non-null  int64  \n",
      " 8   name           1554055 non-null  object \n",
      "dtypes: float64(2), int64(2), object(5)\n",
      "memory usage: 118.6+ MB\n"
     ]
    }
   ],
   "source": [
    "df.info()"
   ]
  },
  {
   "cell_type": "markdown",
   "id": "acab6208-b8d6-40f3-970a-56594ebb572b",
   "metadata": {},
   "source": [
    "Aineistossa on yhä liki 1,6 miljoonaa riviä, kun siitä on poistettu tyhjiä arvoja sisältävät rivit.   \n",
    "\n",
    "Muutetaan seuraavaksi *'object'*-tyypin sarakkeiden *'has_accidents'* ja *'isCab'* tietotyypiksi *'Boolean'*:"
   ]
  },
  {
   "cell_type": "code",
   "execution_count": 10,
   "id": "ab9a60a2-2b9a-4377-b6ae-80ac00d5328b",
   "metadata": {
    "tags": []
   },
   "outputs": [
    {
     "data": {
      "text/plain": [
       "array([False, True], dtype=object)"
      ]
     },
     "execution_count": 10,
     "metadata": {},
     "output_type": "execute_result"
    }
   ],
   "source": [
    "df['isCab'].unique()"
   ]
  },
  {
   "cell_type": "code",
   "execution_count": 11,
   "id": "e7c3be25-d3bc-47f7-8a7a-78f96fa56a82",
   "metadata": {
    "tags": []
   },
   "outputs": [
    {
     "data": {
      "text/plain": [
       "array([False, True], dtype=object)"
      ]
     },
     "execution_count": 11,
     "metadata": {},
     "output_type": "execute_result"
    }
   ],
   "source": [
    "df['isCab'].unique()"
   ]
  },
  {
   "cell_type": "code",
   "execution_count": 12,
   "id": "e91dd7aa-814d-4c28-88fb-7bdab5e9e164",
   "metadata": {
    "tags": []
   },
   "outputs": [],
   "source": [
    "df['has_accidents'] = df['has_accidents'].astype(bool)\n",
    "df['isCab'] = df['isCab'].astype(bool)"
   ]
  },
  {
   "cell_type": "code",
   "execution_count": 13,
   "id": "3ac876c6-1a6f-4003-8320-0790715aa027",
   "metadata": {
    "tags": []
   },
   "outputs": [
    {
     "name": "stdout",
     "output_type": "stream",
     "text": [
      "<class 'pandas.core.frame.DataFrame'>\n",
      "Index: 1554055 entries, 5 to 3000039\n",
      "Data columns (total 9 columns):\n",
      " #   Column         Non-Null Count    Dtype  \n",
      "---  ------         --------------    -----  \n",
      " 0   daysonmarket   1554055 non-null  int64  \n",
      " 1   has_accidents  1554055 non-null  bool   \n",
      " 2   isCab          1554055 non-null  bool   \n",
      " 3   make_name      1554055 non-null  object \n",
      " 4   mileage        1554055 non-null  float64\n",
      " 5   model_name     1554055 non-null  object \n",
      " 6   price          1554055 non-null  float64\n",
      " 7   year           1554055 non-null  int64  \n",
      " 8   name           1554055 non-null  object \n",
      "dtypes: bool(2), float64(2), int64(2), object(3)\n",
      "memory usage: 97.8+ MB\n"
     ]
    }
   ],
   "source": [
    "df.info()"
   ]
  },
  {
   "cell_type": "markdown",
   "id": "00539dac-b53b-4c07-a932-58d0ce4706e1",
   "metadata": {},
   "source": [
    "### Identtisten rivien poisto \n",
    "\n",
    "Jos datassa on identtisiä rivejä, poistetaan ne."
   ]
  },
  {
   "cell_type": "code",
   "execution_count": 14,
   "id": "e7009cd4-56dc-4012-80ad-f40680ac7332",
   "metadata": {
    "tags": []
   },
   "outputs": [
    {
     "name": "stdout",
     "output_type": "stream",
     "text": [
      "<class 'pandas.core.frame.DataFrame'>\n",
      "Index: 1551707 entries, 5 to 3000039\n",
      "Data columns (total 9 columns):\n",
      " #   Column         Non-Null Count    Dtype  \n",
      "---  ------         --------------    -----  \n",
      " 0   daysonmarket   1551707 non-null  int64  \n",
      " 1   has_accidents  1551707 non-null  bool   \n",
      " 2   isCab          1551707 non-null  bool   \n",
      " 3   make_name      1551707 non-null  object \n",
      " 4   mileage        1551707 non-null  float64\n",
      " 5   model_name     1551707 non-null  object \n",
      " 6   price          1551707 non-null  float64\n",
      " 7   year           1551707 non-null  int64  \n",
      " 8   name           1551707 non-null  object \n",
      "dtypes: bool(2), float64(2), int64(2), object(3)\n",
      "memory usage: 97.7+ MB\n"
     ]
    }
   ],
   "source": [
    "df1 = df.drop_duplicates()\n",
    "df1.info()"
   ]
  },
  {
   "cell_type": "code",
   "execution_count": 15,
   "id": "3132ffad-b1ea-46da-95e0-9e6610b28b87",
   "metadata": {
    "tags": []
   },
   "outputs": [
    {
     "data": {
      "text/html": [
       "<div>\n",
       "<style scoped>\n",
       "    .dataframe tbody tr th:only-of-type {\n",
       "        vertical-align: middle;\n",
       "    }\n",
       "\n",
       "    .dataframe tbody tr th {\n",
       "        vertical-align: top;\n",
       "    }\n",
       "\n",
       "    .dataframe thead th {\n",
       "        text-align: right;\n",
       "    }\n",
       "</style>\n",
       "<table border=\"1\" class=\"dataframe\">\n",
       "  <thead>\n",
       "    <tr style=\"text-align: right;\">\n",
       "      <th></th>\n",
       "      <th>daysonmarket</th>\n",
       "      <th>has_accidents</th>\n",
       "      <th>isCab</th>\n",
       "      <th>make_name</th>\n",
       "      <th>mileage</th>\n",
       "      <th>model_name</th>\n",
       "      <th>price</th>\n",
       "      <th>year</th>\n",
       "      <th>name</th>\n",
       "    </tr>\n",
       "  </thead>\n",
       "  <tbody>\n",
       "    <tr>\n",
       "      <th>5</th>\n",
       "      <td>242</td>\n",
       "      <td>False</td>\n",
       "      <td>False</td>\n",
       "      <td>Land Rover</td>\n",
       "      <td>12.0</td>\n",
       "      <td>Range Rover Velar</td>\n",
       "      <td>66903.0</td>\n",
       "      <td>2020</td>\n",
       "      <td>Land Rover Range Rover Velar</td>\n",
       "    </tr>\n",
       "    <tr>\n",
       "      <th>9</th>\n",
       "      <td>510</td>\n",
       "      <td>False</td>\n",
       "      <td>False</td>\n",
       "      <td>Land Rover</td>\n",
       "      <td>254.0</td>\n",
       "      <td>Range Rover Evoque</td>\n",
       "      <td>84399.0</td>\n",
       "      <td>2020</td>\n",
       "      <td>Land Rover Range Rover Evoque</td>\n",
       "    </tr>\n",
       "    <tr>\n",
       "      <th>10</th>\n",
       "      <td>1252</td>\n",
       "      <td>False</td>\n",
       "      <td>False</td>\n",
       "      <td>Alfa Romeo</td>\n",
       "      <td>301.0</td>\n",
       "      <td>4C</td>\n",
       "      <td>97579.0</td>\n",
       "      <td>2015</td>\n",
       "      <td>Alfa Romeo 4C</td>\n",
       "    </tr>\n",
       "    <tr>\n",
       "      <th>12</th>\n",
       "      <td>1233</td>\n",
       "      <td>False</td>\n",
       "      <td>False</td>\n",
       "      <td>BMW</td>\n",
       "      <td>6903.0</td>\n",
       "      <td>3 Series</td>\n",
       "      <td>58995.0</td>\n",
       "      <td>2016</td>\n",
       "      <td>BMW 3 Series</td>\n",
       "    </tr>\n",
       "    <tr>\n",
       "      <th>36</th>\n",
       "      <td>33</td>\n",
       "      <td>False</td>\n",
       "      <td>False</td>\n",
       "      <td>Hyundai</td>\n",
       "      <td>30707.0</td>\n",
       "      <td>Elantra</td>\n",
       "      <td>13324.0</td>\n",
       "      <td>2017</td>\n",
       "      <td>Hyundai Elantra</td>\n",
       "    </tr>\n",
       "  </tbody>\n",
       "</table>\n",
       "</div>"
      ],
      "text/plain": [
       "    daysonmarket  has_accidents  isCab   make_name  mileage  \\\n",
       "5            242          False  False  Land Rover     12.0   \n",
       "9            510          False  False  Land Rover    254.0   \n",
       "10          1252          False  False  Alfa Romeo    301.0   \n",
       "12          1233          False  False         BMW   6903.0   \n",
       "36            33          False  False     Hyundai  30707.0   \n",
       "\n",
       "            model_name    price  year                           name  \n",
       "5    Range Rover Velar  66903.0  2020   Land Rover Range Rover Velar  \n",
       "9   Range Rover Evoque  84399.0  2020  Land Rover Range Rover Evoque  \n",
       "10                  4C  97579.0  2015                  Alfa Romeo 4C  \n",
       "12            3 Series  58995.0  2016                   BMW 3 Series  \n",
       "36             Elantra  13324.0  2017                Hyundai Elantra  "
      ]
     },
     "execution_count": 15,
     "metadata": {},
     "output_type": "execute_result"
    }
   ],
   "source": [
    "df = df1\n",
    "df.head()"
   ]
  },
  {
   "cell_type": "markdown",
   "id": "748ad91c-727a-4796-85cd-fa4dd9e04bb7",
   "metadata": {},
   "source": [
    "### Aineiston rajaaminen \n",
    "\n",
    "Katsotaan ensin, kuinka moni aineiston autoista on ollut taksi- ja ei-taksikäytössä:"
   ]
  },
  {
   "cell_type": "code",
   "execution_count": 16,
   "id": "d63d1c52-5eb1-49ff-bc6b-663934018cfc",
   "metadata": {
    "tags": []
   },
   "outputs": [
    {
     "data": {
      "text/plain": [
       "isCab\n",
       "False    1265950\n",
       "True      285757\n",
       "Name: count, dtype: int64"
      ]
     },
     "execution_count": 16,
     "metadata": {},
     "output_type": "execute_result"
    }
   ],
   "source": [
    "df['isCab'].value_counts()"
   ]
  },
  {
   "cell_type": "markdown",
   "id": "dab4691d-7d91-4877-8b72-db36ef55112a",
   "metadata": {
    "tags": []
   },
   "source": [
    "Tässä tehtävässä ollaan kiinnostuneita vain niistä automalleista, joita on käytetty sekä takseina että ei-takseina. Rajataan aineistoa siten, että se kattaa vain ne automallit (*'name'*), jotka ovat olleet sekä taksikäytössä että ei-taksikäytössä.    \n",
    "\n",
    "Aloitetaan tallentamalla uniikit automallit muuttujaan *'uniikit_autot'*, ja käydään sitä läpi malli kerrallaan. Tarkastetaan, onko kyseinen automalli ollut sekä taksi- että ei-taksikäytössä, ja tallennetaan tällaiset automallit listaan *'autolista'*:"
   ]
  },
  {
   "cell_type": "code",
   "execution_count": 17,
   "id": "160fdc48-fe57-4606-81f7-b9bc294f29a2",
   "metadata": {
    "tags": []
   },
   "outputs": [],
   "source": [
    "uniikit_autot = df['name'].unique() \n",
    "\n",
    "autolista = []\n",
    "\n",
    "for malli in uniikit_autot:\n",
    "    taksi = df[(df['name'] == malli) & (df['isCab'] == True)]\n",
    "    eitaksi = df[(df['name'] == malli) & (df['isCab'] == False)]\n",
    "\n",
    "    if len(taksi) > 0 and len(eitaksi) > 0:\n",
    "        autolista.append(malli)"
   ]
  },
  {
   "cell_type": "code",
   "execution_count": 18,
   "id": "3d1e963f-4737-49c3-b4e5-fc4f6d6b320a",
   "metadata": {
    "tags": []
   },
   "outputs": [
    {
     "data": {
      "text/plain": [
       "578"
      ]
     },
     "execution_count": 18,
     "metadata": {},
     "output_type": "execute_result"
    }
   ],
   "source": [
    "len(autolista)"
   ]
  },
  {
   "cell_type": "code",
   "execution_count": 19,
   "id": "152645a6-d18a-4c5f-822a-feac09445fea",
   "metadata": {
    "tags": []
   },
   "outputs": [
    {
     "data": {
      "text/plain": [
       "1426"
      ]
     },
     "execution_count": 19,
     "metadata": {},
     "output_type": "execute_result"
    }
   ],
   "source": [
    "df['name'].nunique()"
   ]
  },
  {
   "cell_type": "markdown",
   "id": "38070a01-54ee-4389-b878-e70776c71516",
   "metadata": {},
   "source": [
    "Sopivia automalleja on 578, kun niitä datakehikossa *'df'* on kaikkiaan 1426. Suodatetaan datakehikkoa siten, että vain *'autolista'*:n mukaiset mallit ovat mukana:"
   ]
  },
  {
   "cell_type": "code",
   "execution_count": 20,
   "id": "4eecff50-613c-455f-95ac-8892fba93912",
   "metadata": {
    "tags": []
   },
   "outputs": [],
   "source": [
    "autot_df = df[df['name'].isin(autolista)]"
   ]
  },
  {
   "cell_type": "code",
   "execution_count": 21,
   "id": "97a9a5cc-c235-4c78-889f-e10c8ef44ca8",
   "metadata": {
    "tags": []
   },
   "outputs": [
    {
     "data": {
      "text/html": [
       "<div>\n",
       "<style scoped>\n",
       "    .dataframe tbody tr th:only-of-type {\n",
       "        vertical-align: middle;\n",
       "    }\n",
       "\n",
       "    .dataframe tbody tr th {\n",
       "        vertical-align: top;\n",
       "    }\n",
       "\n",
       "    .dataframe thead th {\n",
       "        text-align: right;\n",
       "    }\n",
       "</style>\n",
       "<table border=\"1\" class=\"dataframe\">\n",
       "  <thead>\n",
       "    <tr style=\"text-align: right;\">\n",
       "      <th></th>\n",
       "      <th>daysonmarket</th>\n",
       "      <th>has_accidents</th>\n",
       "      <th>isCab</th>\n",
       "      <th>make_name</th>\n",
       "      <th>mileage</th>\n",
       "      <th>model_name</th>\n",
       "      <th>price</th>\n",
       "      <th>year</th>\n",
       "      <th>name</th>\n",
       "    </tr>\n",
       "  </thead>\n",
       "  <tbody>\n",
       "    <tr>\n",
       "      <th>5</th>\n",
       "      <td>242</td>\n",
       "      <td>False</td>\n",
       "      <td>False</td>\n",
       "      <td>Land Rover</td>\n",
       "      <td>12.0</td>\n",
       "      <td>Range Rover Velar</td>\n",
       "      <td>66903.0</td>\n",
       "      <td>2020</td>\n",
       "      <td>Land Rover Range Rover Velar</td>\n",
       "    </tr>\n",
       "    <tr>\n",
       "      <th>9</th>\n",
       "      <td>510</td>\n",
       "      <td>False</td>\n",
       "      <td>False</td>\n",
       "      <td>Land Rover</td>\n",
       "      <td>254.0</td>\n",
       "      <td>Range Rover Evoque</td>\n",
       "      <td>84399.0</td>\n",
       "      <td>2020</td>\n",
       "      <td>Land Rover Range Rover Evoque</td>\n",
       "    </tr>\n",
       "    <tr>\n",
       "      <th>12</th>\n",
       "      <td>1233</td>\n",
       "      <td>False</td>\n",
       "      <td>False</td>\n",
       "      <td>BMW</td>\n",
       "      <td>6903.0</td>\n",
       "      <td>3 Series</td>\n",
       "      <td>58995.0</td>\n",
       "      <td>2016</td>\n",
       "      <td>BMW 3 Series</td>\n",
       "    </tr>\n",
       "    <tr>\n",
       "      <th>36</th>\n",
       "      <td>33</td>\n",
       "      <td>False</td>\n",
       "      <td>False</td>\n",
       "      <td>Hyundai</td>\n",
       "      <td>30707.0</td>\n",
       "      <td>Elantra</td>\n",
       "      <td>13324.0</td>\n",
       "      <td>2017</td>\n",
       "      <td>Hyundai Elantra</td>\n",
       "    </tr>\n",
       "    <tr>\n",
       "      <th>38</th>\n",
       "      <td>55</td>\n",
       "      <td>False</td>\n",
       "      <td>True</td>\n",
       "      <td>Chevrolet</td>\n",
       "      <td>42394.0</td>\n",
       "      <td>Malibu</td>\n",
       "      <td>14639.0</td>\n",
       "      <td>2018</td>\n",
       "      <td>Chevrolet Malibu</td>\n",
       "    </tr>\n",
       "  </tbody>\n",
       "</table>\n",
       "</div>"
      ],
      "text/plain": [
       "    daysonmarket  has_accidents  isCab   make_name  mileage  \\\n",
       "5            242          False  False  Land Rover     12.0   \n",
       "9            510          False  False  Land Rover    254.0   \n",
       "12          1233          False  False         BMW   6903.0   \n",
       "36            33          False  False     Hyundai  30707.0   \n",
       "38            55          False   True   Chevrolet  42394.0   \n",
       "\n",
       "            model_name    price  year                           name  \n",
       "5    Range Rover Velar  66903.0  2020   Land Rover Range Rover Velar  \n",
       "9   Range Rover Evoque  84399.0  2020  Land Rover Range Rover Evoque  \n",
       "12            3 Series  58995.0  2016                   BMW 3 Series  \n",
       "36             Elantra  13324.0  2017                Hyundai Elantra  \n",
       "38              Malibu  14639.0  2018               Chevrolet Malibu  "
      ]
     },
     "execution_count": 21,
     "metadata": {},
     "output_type": "execute_result"
    }
   ],
   "source": [
    "autot_df.head()"
   ]
  },
  {
   "cell_type": "code",
   "execution_count": 22,
   "id": "7fb92919-596e-4110-a92c-8eaa96f6de7f",
   "metadata": {
    "tags": []
   },
   "outputs": [
    {
     "name": "stdout",
     "output_type": "stream",
     "text": [
      "<class 'pandas.core.frame.DataFrame'>\n",
      "Index: 1494497 entries, 5 to 3000039\n",
      "Data columns (total 9 columns):\n",
      " #   Column         Non-Null Count    Dtype  \n",
      "---  ------         --------------    -----  \n",
      " 0   daysonmarket   1494497 non-null  int64  \n",
      " 1   has_accidents  1494497 non-null  bool   \n",
      " 2   isCab          1494497 non-null  bool   \n",
      " 3   make_name      1494497 non-null  object \n",
      " 4   mileage        1494497 non-null  float64\n",
      " 5   model_name     1494497 non-null  object \n",
      " 6   price          1494497 non-null  float64\n",
      " 7   year           1494497 non-null  int64  \n",
      " 8   name           1494497 non-null  object \n",
      "dtypes: bool(2), float64(2), int64(2), object(3)\n",
      "memory usage: 94.1+ MB\n"
     ]
    }
   ],
   "source": [
    "autot_df.info()"
   ]
  },
  {
   "cell_type": "markdown",
   "id": "327e76f8-c52f-44a4-8020-ae3fe528de94",
   "metadata": {},
   "source": [
    "Muutetaan vielä boolean-tietotyypin sarakkeet *'has_accidents'* ja *'isCab'* numeerisiksi koneoppimismalleja varten:"
   ]
  },
  {
   "cell_type": "code",
   "execution_count": 23,
   "id": "1c0229de-398f-4d6e-8f70-9776c3c45033",
   "metadata": {
    "tags": []
   },
   "outputs": [],
   "source": [
    "autot_df.loc[:, 'has_accidents'] = autot_df['has_accidents'].astype(int)\n",
    "autot_df.loc[:, 'isCab'] = autot_df['isCab'].astype(int)"
   ]
  },
  {
   "cell_type": "code",
   "execution_count": 24,
   "id": "24ef17dc-a105-4ce4-8ed3-e255f827e2d4",
   "metadata": {
    "tags": []
   },
   "outputs": [
    {
     "name": "stdout",
     "output_type": "stream",
     "text": [
      "<class 'pandas.core.frame.DataFrame'>\n",
      "Index: 1494497 entries, 5 to 3000039\n",
      "Data columns (total 9 columns):\n",
      " #   Column         Non-Null Count    Dtype  \n",
      "---  ------         --------------    -----  \n",
      " 0   daysonmarket   1494497 non-null  int64  \n",
      " 1   has_accidents  1494497 non-null  int64  \n",
      " 2   isCab          1494497 non-null  int64  \n",
      " 3   make_name      1494497 non-null  object \n",
      " 4   mileage        1494497 non-null  float64\n",
      " 5   model_name     1494497 non-null  object \n",
      " 6   price          1494497 non-null  float64\n",
      " 7   year           1494497 non-null  int64  \n",
      " 8   name           1494497 non-null  object \n",
      "dtypes: float64(2), int64(4), object(3)\n",
      "memory usage: 114.0+ MB\n"
     ]
    }
   ],
   "source": [
    "autot_df.info()"
   ]
  },
  {
   "cell_type": "markdown",
   "id": "d8e6d810-bb37-4286-9079-f8358e8003d0",
   "metadata": {},
   "source": [
    "Aineistossa on mukana nyt noin 1,5 miljoonaa datariviä, eli suunnilleen puolet alkuperäisestä aineistosta. "
   ]
  },
  {
   "cell_type": "markdown",
   "id": "ca28702a-9e1b-4cf5-b071-a3d41f805fc2",
   "metadata": {
    "tags": []
   },
   "source": [
    "Tutkitaan seuraavaksi, kuinka suuri osuus eri automallien autoista on ollut aiemmin taksikäytössä. Muodostetaan tätä varten sarake *'cabRatio'*. Lasketaan samalla kuinka monta myytyä autoa kyseistä automallia on aineistossa kaikkiaan (*'count'*)."
   ]
  },
  {
   "cell_type": "code",
   "execution_count": 26,
   "id": "402327ff-097e-43d1-b9d2-ea539adaf210",
   "metadata": {
    "tags": []
   },
   "outputs": [
    {
     "name": "stdout",
     "output_type": "stream",
     "text": [
      "Suurin taksien osuus: \n",
      "                        cabRatio  count\n",
      "name                                  \n",
      "Honda Civic Coupe         0.000   2938\n",
      "Acura TLX                 0.000   2816\n",
      "Acura MDX                 0.000   5534\n",
      "Lexus NX 200t             0.001   1992\n",
      "Honda Civic Hatchback     0.001   1835\n",
      "Lexus IS                  0.001   1832\n",
      "Honda Ridgeline           0.001   1204\n",
      "Lexus RX 350              0.001   6087\n",
      "GMC Sierra 3500HD         0.001    807\n",
      "Scion tC                  0.001    756\n",
      "\n",
      "\n",
      "Pienin taksien osuus: \n",
      "                           cabRatio  count\n",
      "name                                     \n",
      "Ford Fusion Hybrid           0.608   6159\n",
      "Cadillac XT4                 0.612   1067\n",
      "Chrysler Voyager             0.667    117\n",
      "Oldsmobile Ciera             0.667      3\n",
      "Dodge Grand Caravan          0.711  16427\n",
      "Chevrolet Express            0.712   3117\n",
      "Mitsubishi Eclipse Cross     0.718   1167\n",
      "Chevrolet Impala Limited     0.803    686\n",
      "Chevrolet Classic            0.942     52\n",
      "Chevrolet Captiva Sport      0.957    607\n"
     ]
    }
   ],
   "source": [
    "# Ryhmitellään mallin ('name') perusteella, ja lasketaan autojen lukumäärät ('count') sekä 'cabRatio':\n",
    "tulos_df = autot_df.groupby(['name']).agg(\n",
    "    cabRatio = ('isCab', 'mean'),\n",
    "    count = ('price', 'count')\n",
    ")\n",
    "\n",
    "# Järjestetään rivit nousevaan järjestykseen 'cabRatio' perusteella:\n",
    "tulos_df.sort_values('cabRatio', inplace = True)\n",
    "\n",
    "# Pyöristetään sarakkeen 'isCabRatio' tulokset kolmen desimaalin tarkkuuteen:\n",
    "tulos_df['cabRatio'] = tulos_df['cabRatio'].round(3)\n",
    "\n",
    "print(\"Suurin taksien osuus: \\n\", tulos_df.head(10))\n",
    "print(\"\\n\\nPienin taksien osuus: \\n\", tulos_df.tail(10))"
   ]
  },
  {
   "cell_type": "code",
   "execution_count": 27,
   "id": "24666d5d-7e03-4d1f-b8dd-1d4cf41d7005",
   "metadata": {},
   "outputs": [
    {
     "data": {
      "text/plain": [
       "<Axes: xlabel='name'>"
      ]
     },
     "execution_count": 27,
     "metadata": {},
     "output_type": "execute_result"
    },
    {
     "data": {
      "image/png": "[encoded data removed]",
      "text/plain": [
       "<Figure size 640x480 with 1 Axes>"
      ]
     },
     "metadata": {},
     "output_type": "display_data"
    }
   ],
   "source": [
    "tulos_df['cabRatio'].plot()"
   ]
  },
  {
   "cell_type": "markdown",
   "id": "dfa8f4c9-649f-4fb7-9e37-f5d6338ee9b0",
   "metadata": {},
   "source": [
    "Tuloksista nähdään, että aiemmin taksikäytössä olleiden autojen osuus vaihtelee automalleittain suuresti. Suurin taksien osuus myydyistä autoista (*'cabRatio'*) on malleilla *Chevrolet Captiva Sport* (96 %), *Chevrolet Classic* (94 %) ja *Chevrolet Impala Limited* (80 %) mallien autoja, kun taas pienin takseina toimineiden autojen osuus on malleilla *Honda Civic Coupe* (0 %), *Acura TLX* (0 %) ja *Acura MDX* (0 %).   \n",
    "\n",
    "Jotta hintaeroa taksikäytössä olleiden ja ei-taksien välillä voidaan tarkastella, suodatetaan aineistosta mukaan vain sellaiset automallit, joiden myytyjen autojen kokonaismäärästä on ollut taksikäytössä vähintään 20 prosenttia ja enintään 80 prosenttia. Jotta mukaan ei satu harvinaisia yksittäistarpauksia, rajataan mukana pidettäviä automalleja vielä siten, että kyseistä automallia on pitänyt olla myynnissä yhteensä vähintään 100 kappaletta. "
   ]
  },
  {
   "cell_type": "code",
   "execution_count": 32,
   "id": "766df8a0-6d82-403e-908c-a993bd71c081",
   "metadata": {
    "tags": []
   },
   "outputs": [
    {
     "data": {
      "text/plain": [
       "<Axes: xlabel='name'>"
      ]
     },
     "execution_count": 32,
     "metadata": {},
     "output_type": "execute_result"
    },
    {
     "data": {
      "image/png": "[encoded data removed]",
      "text/plain": [
       "<Figure size 640x480 with 1 Axes>"
      ]
     },
     "metadata": {},
     "output_type": "display_data"
    }
   ],
   "source": [
    "autot2 = tulos_df.loc[(tulos_df['cabRatio'] >= 0.2) & (tulos_df['cabRatio'] <= 0.8) & (tulos_df['count'] >= 100)]\n",
    "autot2['cabRatio'].plot()"
   ]
  },
  {
   "cell_type": "code",
   "execution_count": 45,
   "id": "8a67e1f5-6ef5-4428-a73e-d19ca33664cf",
   "metadata": {
    "tags": []
   },
   "outputs": [],
   "source": [
    "# Resetoidaan indeksi, jotta 'name' saadaan indeksistä sarakkeeksi:\n",
    "autot2 = autot2.reset_index()"
   ]
  },
  {
   "cell_type": "code",
   "execution_count": 52,
   "id": "854ec3af-ede0-445c-855b-166b3c8c6f75",
   "metadata": {
    "tags": []
   },
   "outputs": [
    {
     "data": {
      "text/plain": [
       "0                  INFINITI Q70\n",
       "1           Ford Crown Victoria\n",
       "2                    GMC Acadia\n",
       "3         Chevrolet Trailblazer\n",
       "4                   Kia Spectra\n",
       "                 ...           \n",
       "113                Cadillac XT4\n",
       "114            Chrysler Voyager\n",
       "115         Dodge Grand Caravan\n",
       "116           Chevrolet Express\n",
       "117    Mitsubishi Eclipse Cross\n",
       "Name: name, Length: 118, dtype: object"
      ]
     },
     "execution_count": 52,
     "metadata": {},
     "output_type": "execute_result"
    }
   ],
   "source": [
    "sopivat_autot = autot2['name']\n",
    "sopivat_autot"
   ]
  },
  {
   "cell_type": "markdown",
   "id": "fc45548d-d22d-4eec-b1a5-99917ddaf383",
   "metadata": {},
   "source": [
    "Lopputuloksena saatiin 118 erilaista automallia, joita on myyty vähintään 100 kappaletta, ja joista 20-80 prosenttia on ollut aiemmin taksikäytössä. Tallennetaan aineisto datakehikkoon *'taksit'*, ja käytetään näitä automalleja myöhemmin analyysissä."
   ]
  },
  {
   "cell_type": "code",
   "execution_count": 56,
   "id": "f2736aef-06a8-4434-a6c6-5bd1b1d537cc",
   "metadata": {
    "tags": []
   },
   "outputs": [
    {
     "name": "stdout",
     "output_type": "stream",
     "text": [
      "<class 'pandas.core.frame.DataFrame'>\n",
      "Index: 598588 entries, 5 to 3000039\n",
      "Data columns (total 9 columns):\n",
      " #   Column         Non-Null Count   Dtype  \n",
      "---  ------         --------------   -----  \n",
      " 0   daysonmarket   598588 non-null  int64  \n",
      " 1   has_accidents  598588 non-null  int64  \n",
      " 2   isCab          598588 non-null  int64  \n",
      " 3   make_name      598588 non-null  object \n",
      " 4   mileage        598588 non-null  float64\n",
      " 5   model_name     598588 non-null  object \n",
      " 6   price          598588 non-null  float64\n",
      " 7   year           598588 non-null  int64  \n",
      " 8   name           598588 non-null  object \n",
      "dtypes: float64(2), int64(4), object(3)\n",
      "memory usage: 45.7+ MB\n"
     ]
    }
   ],
   "source": [
    "taksit_df = autot_df[autot_df['name'].isin(sopivat_autot)]\n",
    "    \n",
    "taksit_df.info()"
   ]
  },
  {
   "cell_type": "markdown",
   "id": "f705919f-e5b3-4150-b1ba-2c43513d743b",
   "metadata": {},
   "source": [
    "Analysoitavaan aineistoon jää myyntitiedot 600000 autosta, eli noin 20 prosenttia alkuperäisestä aineistosta. Tallennetaan data tiedostoon *'taksit.csv'*:"
   ]
  },
  {
   "cell_type": "code",
   "execution_count": 57,
   "id": "aec26652-e85e-4bb6-bb96-d0e5f8186d27",
   "metadata": {
    "tags": []
   },
   "outputs": [],
   "source": [
    "taksit_df.to_csv('taksit.csv', index = False)"
   ]
  },
  {
   "cell_type": "code",
   "execution_count": null,
   "id": "ec29648b-0bb4-4b1d-9d31-f7def731a63c",
   "metadata": {},
   "outputs": [],
   "source": []
  },
  {
   "cell_type": "code",
   "execution_count": null,
   "id": "8ba8eb7b-e41d-40a9-9369-e90b4c4ee089",
   "metadata": {},
   "outputs": [],
   "source": []
  },
  {
   "cell_type": "markdown",
   "id": "a0a5f23d-0b3f-436a-a0d5-3a3f05d9028c",
   "metadata": {},
   "source": [
    "Tutustutaan seuraavaksi tarkemmin datakehikkoon *'autot_df'* tilastollisten tunnuslukujen avulla.   \n",
    "\n",
    "### Tilastolliset tunnusluvut"
   ]
  },
  {
   "cell_type": "code",
   "execution_count": 50,
   "id": "07d496ed-1584-4e80-8b9a-6810d6e9c764",
   "metadata": {
    "tags": []
   },
   "outputs": [
    {
     "data": {
      "text/html": [
       "<div>\n",
       "<style scoped>\n",
       "    .dataframe tbody tr th:only-of-type {\n",
       "        vertical-align: middle;\n",
       "    }\n",
       "\n",
       "    .dataframe tbody tr th {\n",
       "        vertical-align: top;\n",
       "    }\n",
       "\n",
       "    .dataframe thead th {\n",
       "        text-align: right;\n",
       "    }\n",
       "</style>\n",
       "<table border=\"1\" class=\"dataframe\">\n",
       "  <thead>\n",
       "    <tr style=\"text-align: right;\">\n",
       "      <th></th>\n",
       "      <th>cabRatio</th>\n",
       "      <th>count</th>\n",
       "    </tr>\n",
       "  </thead>\n",
       "  <tbody>\n",
       "    <tr>\n",
       "      <th>count</th>\n",
       "      <td>118.000000</td>\n",
       "      <td>118.000000</td>\n",
       "    </tr>\n",
       "    <tr>\n",
       "      <th>mean</th>\n",
       "      <td>0.350008</td>\n",
       "      <td>5072.779661</td>\n",
       "    </tr>\n",
       "    <tr>\n",
       "      <th>std</th>\n",
       "      <td>0.124055</td>\n",
       "      <td>6066.291093</td>\n",
       "    </tr>\n",
       "    <tr>\n",
       "      <th>min</th>\n",
       "      <td>0.200000</td>\n",
       "      <td>117.000000</td>\n",
       "    </tr>\n",
       "    <tr>\n",
       "      <th>25%</th>\n",
       "      <td>0.252250</td>\n",
       "      <td>651.750000</td>\n",
       "    </tr>\n",
       "    <tr>\n",
       "      <th>50%</th>\n",
       "      <td>0.319500</td>\n",
       "      <td>2405.500000</td>\n",
       "    </tr>\n",
       "    <tr>\n",
       "      <th>75%</th>\n",
       "      <td>0.406500</td>\n",
       "      <td>7387.750000</td>\n",
       "    </tr>\n",
       "    <tr>\n",
       "      <th>max</th>\n",
       "      <td>0.718000</td>\n",
       "      <td>25296.000000</td>\n",
       "    </tr>\n",
       "  </tbody>\n",
       "</table>\n",
       "</div>"
      ],
      "text/plain": [
       "         cabRatio         count\n",
       "count  118.000000    118.000000\n",
       "mean     0.350008   5072.779661\n",
       "std      0.124055   6066.291093\n",
       "min      0.200000    117.000000\n",
       "25%      0.252250    651.750000\n",
       "50%      0.319500   2405.500000\n",
       "75%      0.406500   7387.750000\n",
       "max      0.718000  25296.000000"
      ]
     },
     "execution_count": 50,
     "metadata": {},
     "output_type": "execute_result"
    }
   ],
   "source": [
    "autot2.describe()"
   ]
  },
  {
   "cell_type": "code",
   "execution_count": null,
   "id": "d8296c0f-8200-42ec-9448-266cbc608afd",
   "metadata": {},
   "outputs": [],
   "source": []
  },
  {
   "cell_type": "markdown",
   "id": "de8ebbc5-5ac5-42c1-83c7-c4f679b8ce80",
   "metadata": {},
   "source": [
    "Pair plotit:"
   ]
  },
  {
   "cell_type": "code",
   "execution_count": 49,
   "id": "afaa7b22-9a06-424f-9309-64ce5ac0fe6b",
   "metadata": {
    "tags": []
   },
   "outputs": [],
   "source": [
    "#sns.pairplot(autot_df, hue = 'isCab')\n",
    "#plt.show()"
   ]
  },
  {
   "cell_type": "code",
   "execution_count": null,
   "id": "36f2ca35-6c65-4c3b-8e9d-448f8f09d7d1",
   "metadata": {},
   "outputs": [],
   "source": []
  },
  {
   "cell_type": "code",
   "execution_count": null,
   "id": "936db171-2be6-47ba-a1df-fa0076ccfbe8",
   "metadata": {},
   "outputs": [],
   "source": []
  },
  {
   "cell_type": "code",
   "execution_count": null,
   "id": "42eacddb-fffe-4242-a413-08b67d7341d2",
   "metadata": {},
   "outputs": [],
   "source": []
  },
  {
   "cell_type": "code",
   "execution_count": null,
   "id": "1aee3071-2391-4701-8359-425033ae0265",
   "metadata": {
    "tags": []
   },
   "outputs": [],
   "source": [
    "# Korrelaatiomatriisi sarakkeista 'mileage', 'year', ja 'price':\n",
    "correlation_matrix = autot_df[['daysonmarket', 'mileage', 'price', 'year']].corr()\n",
    "sns.heatmap(correlation_matrix, annot=True, cmap='coolwarm')\n",
    "plt.show()"
   ]
  },
  {
   "cell_type": "markdown",
   "id": "8cf7845d-cf59-4aae-beda-7fda78fd334b",
   "metadata": {},
   "source": [
    "### Hintojen jakaumat \n",
    "\n",
    "Tarkastellaan seuraavaksi, kuinka hinnat jakautuvat taksien ja ei-taksien kesken. Käytetään tässä boxplot-kaaviota:"
   ]
  },
  {
   "cell_type": "code",
   "execution_count": null,
   "id": "1058fec8-c4ae-404f-a78d-b783fba0728e",
   "metadata": {},
   "outputs": [],
   "source": []
  },
  {
   "cell_type": "code",
   "execution_count": null,
   "id": "cd19f1b8-fb96-4cba-b654-65dd6f776f31",
   "metadata": {
    "tags": []
   },
   "outputs": [],
   "source": [
    "sns.boxplot(x = 'isCab', y = 'price', data = autot_df)\n",
    "plt.show()"
   ]
  },
  {
   "cell_type": "markdown",
   "id": "20322970-fb40-4deb-a224-1adeaa17a56a",
   "metadata": {},
   "source": [
    "Kaaviosta voidaan päätellä, että taksikäytössä olleiden autojen hinta vaihtelee vähemmän, kuin ei-taksikäytössä olleiden autojen, joilla jakauman häntä kalliimpaan suuntaan on paljon takseina toimineita autoja pidempi. Joidenkin takseina toimineiden autojen hinta on muita takseja merkittävästi korkeampi, muttei siltikään yhtä korkea, kuin ei-takseina toimineilla. "
   ]
  },
  {
   "cell_type": "markdown",
   "id": "e29a1459-edb3-4272-b71d-aa9405e59693",
   "metadata": {},
   "source": [
    "### Aineiston tallentaminen tiedostoon\n",
    "\n",
    "Data on nyt valmis analyysiä varten. Tallennetaan se myöhempää käyttöä varten uudeksi CSV-tiedostoksi *'taksi_data.csv'*:"
   ]
  },
  {
   "cell_type": "code",
   "execution_count": null,
   "id": "ebcbb320-f400-4cb5-9d67-0a3d9625d3b9",
   "metadata": {
    "tags": []
   },
   "outputs": [],
   "source": [
    "#df.to_csv(\"taksi_data.csv\", index = False)"
   ]
  },
  {
   "cell_type": "markdown",
   "id": "4ed2c94a-314f-41d0-a1f8-bf918b2a07eb",
   "metadata": {
    "tags": []
   },
   "source": [
    "## CRISP-DM vaihe 4: Mallinnus"
   ]
  },
  {
   "cell_type": "code",
   "execution_count": null,
   "id": "9c5ba788-88f5-4d02-81b8-1d7879675df6",
   "metadata": {},
   "outputs": [],
   "source": []
  }
 ],
 "metadata": {
  "kernelspec": {
   "display_name": "Python 3 (ipykernel)",
   "language": "python",
   "name": "python3"
  },
  "language_info": {
   "codemirror_mode": {
    "name": "ipython",
    "version": 3
   },
   "file_extension": ".py",
   "mimetype": "text/x-python",
   "name": "python",
   "nbconvert_exporter": "python",
   "pygments_lexer": "ipython3",
   "version": "3.9.18"
  }
 },
 "nbformat": 4,
 "nbformat_minor": 5
}
