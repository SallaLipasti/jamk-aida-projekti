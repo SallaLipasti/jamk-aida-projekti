{
 "cells": [
  {
   "cell_type": "markdown",
   "id": "2579ff82-12ed-4049-bc05-332f5dc7b957",
   "metadata": {},
   "source": [
    "# Taksit \n",
    "\n",
    "Selvitetään, onko ollut vaikutusta auton hintaan, jos auto on ollut aiemmin taksikäytössä. \n",
    "\n"
   ]
  },
  {
   "cell_type": "markdown",
   "id": "a5f6e5b8-dd84-4232-994a-038b000857fb",
   "metadata": {},
   "source": [
    "## CRISP-DM vaiheet 2 ja 3: Datan ymmärtäminen ja esikäsittely    \n",
    "\n",
    "Tässä vaiheessa ladataan käytettävä CSV-aineisto, ja puhdistetaan ja muokataan se eheäksi ja tarkoituksenmukaiseksi myöhempää analyysi- ja mallinnusvaihetta varten. Aloitetaan lataamalla aineisto ja siitä tehtävän kannalta relevantit sarakkeet Ladataan aineistosta sarakkeet *'make_name'* (merkki), *'model_name'* (mallin nimi), *'mileage'* (mittarilukema), *'year'* (käyttöönottovuosi), *'price'* (myyntihinta), *'isCab'* (onko auto ollut taksikäytössä), *'daysonmarket'* (montako päivää auto oli myynnissä) ja *'has_accidents'* (onko auto joutunut onnettomuuteen) datakehikkoon *'df'*:"
   ]
  },
  {
   "cell_type": "code",
   "execution_count": 91,
   "id": "aae60688-f9ac-4086-92d4-a126529833da",
   "metadata": {
    "tags": []
   },
   "outputs": [],
   "source": [
    "import pandas as pd\n",
    "import numpy as np\n",
    "import matplotlib.pyplot as plt\n",
    "import seaborn as sns"
   ]
  },
  {
   "cell_type": "code",
   "execution_count": 92,
   "id": "7385f491-88d4-4802-85b2-562e08cf95ee",
   "metadata": {
    "tags": []
   },
   "outputs": [],
   "source": [
    "# Tiedoston polku: \n",
    "file_path = '/Volumes/AIDA/AIDA-projekti/used_cars_data.csv' \n",
    "\n",
    "# Valitut sarakkeet:\n",
    "sarakkeet = ['make_name', 'model_name', 'mileage', 'year', 'price', 'isCab', 'daysonmarket', 'has_accidents']\n",
    "\n",
    "# Luetaan aineistosta vain halutut sarakkeet datakehikkoon:\n",
    "df = pd.read_csv(file_path, usecols = sarakkeet) "
   ]
  },
  {
   "cell_type": "markdown",
   "id": "54069672-20c0-4dca-a4bf-3e0b934670c8",
   "metadata": {},
   "source": [
    "Tutkitaan saatua datakehikkoa."
   ]
  },
  {
   "cell_type": "code",
   "execution_count": 93,
   "id": "af437d35-cf98-4505-afc0-1076d2de42e2",
   "metadata": {
    "tags": []
   },
   "outputs": [
    {
     "data": {
      "text/html": [
       "<div>\n",
       "<style scoped>\n",
       "    .dataframe tbody tr th:only-of-type {\n",
       "        vertical-align: middle;\n",
       "    }\n",
       "\n",
       "    .dataframe tbody tr th {\n",
       "        vertical-align: top;\n",
       "    }\n",
       "\n",
       "    .dataframe thead th {\n",
       "        text-align: right;\n",
       "    }\n",
       "</style>\n",
       "<table border=\"1\" class=\"dataframe\">\n",
       "  <thead>\n",
       "    <tr style=\"text-align: right;\">\n",
       "      <th></th>\n",
       "      <th>daysonmarket</th>\n",
       "      <th>has_accidents</th>\n",
       "      <th>isCab</th>\n",
       "      <th>make_name</th>\n",
       "      <th>mileage</th>\n",
       "      <th>model_name</th>\n",
       "      <th>price</th>\n",
       "      <th>year</th>\n",
       "    </tr>\n",
       "  </thead>\n",
       "  <tbody>\n",
       "    <tr>\n",
       "      <th>672257</th>\n",
       "      <td>110</td>\n",
       "      <td>False</td>\n",
       "      <td>False</td>\n",
       "      <td>Ford</td>\n",
       "      <td>35169.0</td>\n",
       "      <td>Focus</td>\n",
       "      <td>11995.0</td>\n",
       "      <td>2017</td>\n",
       "    </tr>\n",
       "    <tr>\n",
       "      <th>1124718</th>\n",
       "      <td>18</td>\n",
       "      <td>NaN</td>\n",
       "      <td>NaN</td>\n",
       "      <td>GMC</td>\n",
       "      <td>0.0</td>\n",
       "      <td>Sierra 1500</td>\n",
       "      <td>69720.0</td>\n",
       "      <td>2020</td>\n",
       "    </tr>\n",
       "    <tr>\n",
       "      <th>2359766</th>\n",
       "      <td>16</td>\n",
       "      <td>NaN</td>\n",
       "      <td>NaN</td>\n",
       "      <td>Lexus</td>\n",
       "      <td>3.0</td>\n",
       "      <td>RX</td>\n",
       "      <td>53845.0</td>\n",
       "      <td>2020</td>\n",
       "    </tr>\n",
       "    <tr>\n",
       "      <th>1621914</th>\n",
       "      <td>5</td>\n",
       "      <td>False</td>\n",
       "      <td>False</td>\n",
       "      <td>Kia</td>\n",
       "      <td>13748.0</td>\n",
       "      <td>Soul</td>\n",
       "      <td>17911.0</td>\n",
       "      <td>2017</td>\n",
       "    </tr>\n",
       "    <tr>\n",
       "      <th>1017058</th>\n",
       "      <td>186</td>\n",
       "      <td>True</td>\n",
       "      <td>True</td>\n",
       "      <td>Hyundai</td>\n",
       "      <td>61801.0</td>\n",
       "      <td>Accent</td>\n",
       "      <td>8799.0</td>\n",
       "      <td>2017</td>\n",
       "    </tr>\n",
       "    <tr>\n",
       "      <th>1384513</th>\n",
       "      <td>4</td>\n",
       "      <td>False</td>\n",
       "      <td>True</td>\n",
       "      <td>Ford</td>\n",
       "      <td>24556.0</td>\n",
       "      <td>Fusion Hybrid</td>\n",
       "      <td>18988.0</td>\n",
       "      <td>2019</td>\n",
       "    </tr>\n",
       "    <tr>\n",
       "      <th>2630203</th>\n",
       "      <td>59</td>\n",
       "      <td>False</td>\n",
       "      <td>False</td>\n",
       "      <td>Honda</td>\n",
       "      <td>35125.0</td>\n",
       "      <td>Odyssey</td>\n",
       "      <td>27988.0</td>\n",
       "      <td>2017</td>\n",
       "    </tr>\n",
       "    <tr>\n",
       "      <th>1390211</th>\n",
       "      <td>216</td>\n",
       "      <td>NaN</td>\n",
       "      <td>NaN</td>\n",
       "      <td>Mazda</td>\n",
       "      <td>10.0</td>\n",
       "      <td>CX-5</td>\n",
       "      <td>25844.0</td>\n",
       "      <td>2020</td>\n",
       "    </tr>\n",
       "    <tr>\n",
       "      <th>1700102</th>\n",
       "      <td>12</td>\n",
       "      <td>NaN</td>\n",
       "      <td>NaN</td>\n",
       "      <td>Nissan</td>\n",
       "      <td>0.0</td>\n",
       "      <td>Murano</td>\n",
       "      <td>35212.0</td>\n",
       "      <td>2020</td>\n",
       "    </tr>\n",
       "    <tr>\n",
       "      <th>1446141</th>\n",
       "      <td>39</td>\n",
       "      <td>True</td>\n",
       "      <td>True</td>\n",
       "      <td>Hyundai</td>\n",
       "      <td>34520.0</td>\n",
       "      <td>Elantra</td>\n",
       "      <td>16995.0</td>\n",
       "      <td>2019</td>\n",
       "    </tr>\n",
       "  </tbody>\n",
       "</table>\n",
       "</div>"
      ],
      "text/plain": [
       "         daysonmarket has_accidents  isCab make_name  mileage     model_name  \\\n",
       "672257            110         False  False      Ford  35169.0          Focus   \n",
       "1124718            18           NaN    NaN       GMC      0.0    Sierra 1500   \n",
       "2359766            16           NaN    NaN     Lexus      3.0             RX   \n",
       "1621914             5         False  False       Kia  13748.0           Soul   \n",
       "1017058           186          True   True   Hyundai  61801.0         Accent   \n",
       "1384513             4         False   True      Ford  24556.0  Fusion Hybrid   \n",
       "2630203            59         False  False     Honda  35125.0        Odyssey   \n",
       "1390211           216           NaN    NaN     Mazda     10.0           CX-5   \n",
       "1700102            12           NaN    NaN    Nissan      0.0         Murano   \n",
       "1446141            39          True   True   Hyundai  34520.0        Elantra   \n",
       "\n",
       "           price  year  \n",
       "672257   11995.0  2017  \n",
       "1124718  69720.0  2020  \n",
       "2359766  53845.0  2020  \n",
       "1621914  17911.0  2017  \n",
       "1017058   8799.0  2017  \n",
       "1384513  18988.0  2019  \n",
       "2630203  27988.0  2017  \n",
       "1390211  25844.0  2020  \n",
       "1700102  35212.0  2020  \n",
       "1446141  16995.0  2019  "
      ]
     },
     "execution_count": 93,
     "metadata": {},
     "output_type": "execute_result"
    }
   ],
   "source": [
    "df.sample(10)"
   ]
  },
  {
   "cell_type": "markdown",
   "id": "766ee16a-1481-446c-bb10-4a3970dd189c",
   "metadata": {},
   "source": [
    "### Uuden sarakkeen luominen\n",
    "\n",
    "Yhdistetään *'make_name'* ja *'model_name'* yhdeksi sarakkeeksi *'name'*:"
   ]
  },
  {
   "cell_type": "code",
   "execution_count": 95,
   "id": "23ae9b5a-bcb0-4f33-99a7-e18c00050767",
   "metadata": {
    "tags": []
   },
   "outputs": [
    {
     "data": {
      "text/html": [
       "<div>\n",
       "<style scoped>\n",
       "    .dataframe tbody tr th:only-of-type {\n",
       "        vertical-align: middle;\n",
       "    }\n",
       "\n",
       "    .dataframe tbody tr th {\n",
       "        vertical-align: top;\n",
       "    }\n",
       "\n",
       "    .dataframe thead th {\n",
       "        text-align: right;\n",
       "    }\n",
       "</style>\n",
       "<table border=\"1\" class=\"dataframe\">\n",
       "  <thead>\n",
       "    <tr style=\"text-align: right;\">\n",
       "      <th></th>\n",
       "      <th>daysonmarket</th>\n",
       "      <th>has_accidents</th>\n",
       "      <th>isCab</th>\n",
       "      <th>make_name</th>\n",
       "      <th>mileage</th>\n",
       "      <th>model_name</th>\n",
       "      <th>price</th>\n",
       "      <th>year</th>\n",
       "      <th>name</th>\n",
       "    </tr>\n",
       "  </thead>\n",
       "  <tbody>\n",
       "    <tr>\n",
       "      <th>0</th>\n",
       "      <td>522</td>\n",
       "      <td>NaN</td>\n",
       "      <td>NaN</td>\n",
       "      <td>Jeep</td>\n",
       "      <td>7.0</td>\n",
       "      <td>Renegade</td>\n",
       "      <td>23141.0</td>\n",
       "      <td>2019</td>\n",
       "      <td>Jeep Renegade</td>\n",
       "    </tr>\n",
       "    <tr>\n",
       "      <th>1</th>\n",
       "      <td>207</td>\n",
       "      <td>NaN</td>\n",
       "      <td>NaN</td>\n",
       "      <td>Land Rover</td>\n",
       "      <td>8.0</td>\n",
       "      <td>Discovery Sport</td>\n",
       "      <td>46500.0</td>\n",
       "      <td>2020</td>\n",
       "      <td>Land Rover Discovery Sport</td>\n",
       "    </tr>\n",
       "    <tr>\n",
       "      <th>2</th>\n",
       "      <td>1233</td>\n",
       "      <td>False</td>\n",
       "      <td>False</td>\n",
       "      <td>Subaru</td>\n",
       "      <td>NaN</td>\n",
       "      <td>WRX STI</td>\n",
       "      <td>46995.0</td>\n",
       "      <td>2016</td>\n",
       "      <td>Subaru WRX STI</td>\n",
       "    </tr>\n",
       "    <tr>\n",
       "      <th>3</th>\n",
       "      <td>196</td>\n",
       "      <td>NaN</td>\n",
       "      <td>NaN</td>\n",
       "      <td>Land Rover</td>\n",
       "      <td>11.0</td>\n",
       "      <td>Discovery</td>\n",
       "      <td>67430.0</td>\n",
       "      <td>2020</td>\n",
       "      <td>Land Rover Discovery</td>\n",
       "    </tr>\n",
       "    <tr>\n",
       "      <th>4</th>\n",
       "      <td>137</td>\n",
       "      <td>NaN</td>\n",
       "      <td>NaN</td>\n",
       "      <td>Land Rover</td>\n",
       "      <td>7.0</td>\n",
       "      <td>Discovery Sport</td>\n",
       "      <td>48880.0</td>\n",
       "      <td>2020</td>\n",
       "      <td>Land Rover Discovery Sport</td>\n",
       "    </tr>\n",
       "  </tbody>\n",
       "</table>\n",
       "</div>"
      ],
      "text/plain": [
       "   daysonmarket has_accidents  isCab   make_name  mileage       model_name  \\\n",
       "0           522           NaN    NaN        Jeep      7.0         Renegade   \n",
       "1           207           NaN    NaN  Land Rover      8.0  Discovery Sport   \n",
       "2          1233         False  False      Subaru      NaN          WRX STI   \n",
       "3           196           NaN    NaN  Land Rover     11.0        Discovery   \n",
       "4           137           NaN    NaN  Land Rover      7.0  Discovery Sport   \n",
       "\n",
       "     price  year                        name  \n",
       "0  23141.0  2019               Jeep Renegade  \n",
       "1  46500.0  2020  Land Rover Discovery Sport  \n",
       "2  46995.0  2016              Subaru WRX STI  \n",
       "3  67430.0  2020        Land Rover Discovery  \n",
       "4  48880.0  2020  Land Rover Discovery Sport  "
      ]
     },
     "execution_count": 95,
     "metadata": {},
     "output_type": "execute_result"
    }
   ],
   "source": [
    "df['name'] = df['make_name'] + \" \" + df['model_name']\n",
    "df.head()"
   ]
  },
  {
   "cell_type": "markdown",
   "id": "9bb4c5ef-0c8a-4f9f-8d13-58d6e253ac5b",
   "metadata": {
    "tags": []
   },
   "source": [
    "### Tyhjien arvojen käsittely\n",
    "\n",
    "Tässä kysymyksessä on olennaista tietää, onko auto ollut taksikäytössä. Tutkitaan siis ensimmäiseksi, onko sarakkeessa *'isCab'* tyhjiä arvoja, ja poistetaan tarvittaessa tällaiset rivit. "
   ]
  },
  {
   "cell_type": "code",
   "execution_count": 96,
   "id": "1e7221b9-c85e-4c99-8adb-02ba2d7a6000",
   "metadata": {
    "tags": []
   },
   "outputs": [
    {
     "data": {
      "text/plain": [
       "array([nan, False, True], dtype=object)"
      ]
     },
     "execution_count": 96,
     "metadata": {},
     "output_type": "execute_result"
    }
   ],
   "source": [
    "df['isCab'].unique()"
   ]
  },
  {
   "cell_type": "code",
   "execution_count": 97,
   "id": "efc7ebf1-7b3a-421b-999f-5e695252b7a5",
   "metadata": {
    "tags": []
   },
   "outputs": [
    {
     "data": {
      "text/plain": [
       "1426595"
      ]
     },
     "execution_count": 97,
     "metadata": {},
     "output_type": "execute_result"
    }
   ],
   "source": [
    "# Tarkastetaan, montako tyhjää arvoa sarakkeessa 'isCab' on:\n",
    "df['isCab'].isna().sum()"
   ]
  },
  {
   "cell_type": "code",
   "execution_count": 98,
   "id": "d2ea725d-b223-442f-8de1-b42e287423c7",
   "metadata": {
    "tags": []
   },
   "outputs": [
    {
     "data": {
      "text/plain": [
       "daysonmarket         0\n",
       "has_accidents        0\n",
       "isCab                0\n",
       "make_name            0\n",
       "mileage          19390\n",
       "model_name           0\n",
       "price                0\n",
       "year                 0\n",
       "name                 0\n",
       "dtype: int64"
      ]
     },
     "execution_count": 98,
     "metadata": {},
     "output_type": "execute_result"
    }
   ],
   "source": [
    "# Poistetaan sarakkeessa 'isCab' tyhjän arvon sisältävät rivit:\n",
    "df.dropna(subset=['isCab'], inplace=True)\n",
    "\n",
    "# Tarkastetaan uudelleen tyhjien arvojen määrät sarakkeittain:\n",
    "df.isna().sum()"
   ]
  },
  {
   "cell_type": "markdown",
   "id": "522dac7c-5b49-4a56-abb5-33677d6ed4d1",
   "metadata": {
    "tags": []
   },
   "source": [
    "Aineisto sisältää yhä tyhjiä arvoja sarakkeessa *'mileage'*. Sopivia keskilukuja näiden korvaamiseksi on vaikea päätellä, joten poistetaan myös nämä rivit."
   ]
  },
  {
   "cell_type": "code",
   "execution_count": 99,
   "id": "9e148e1f-d5ef-4404-9578-064f886860a8",
   "metadata": {
    "tags": []
   },
   "outputs": [
    {
     "data": {
      "text/plain": [
       "daysonmarket     0\n",
       "has_accidents    0\n",
       "isCab            0\n",
       "make_name        0\n",
       "mileage          0\n",
       "model_name       0\n",
       "price            0\n",
       "year             0\n",
       "name             0\n",
       "dtype: int64"
      ]
     },
     "execution_count": 99,
     "metadata": {},
     "output_type": "execute_result"
    }
   ],
   "source": [
    "df.dropna(subset=['mileage'], inplace=True)\n",
    "\n",
    "df.isna().sum()"
   ]
  },
  {
   "cell_type": "markdown",
   "id": "05c338af-fa24-4a50-8fc9-a89abb6b6738",
   "metadata": {},
   "source": [
    "### Tietotyyppien tarkastelu"
   ]
  },
  {
   "cell_type": "code",
   "execution_count": 100,
   "id": "7ae05119-2bbd-4e8a-afcd-e30dcff8812a",
   "metadata": {
    "tags": []
   },
   "outputs": [
    {
     "name": "stdout",
     "output_type": "stream",
     "text": [
      "<class 'pandas.core.frame.DataFrame'>\n",
      "Index: 1554055 entries, 5 to 3000039\n",
      "Data columns (total 9 columns):\n",
      " #   Column         Non-Null Count    Dtype  \n",
      "---  ------         --------------    -----  \n",
      " 0   daysonmarket   1554055 non-null  int64  \n",
      " 1   has_accidents  1554055 non-null  object \n",
      " 2   isCab          1554055 non-null  object \n",
      " 3   make_name      1554055 non-null  object \n",
      " 4   mileage        1554055 non-null  float64\n",
      " 5   model_name     1554055 non-null  object \n",
      " 6   price          1554055 non-null  float64\n",
      " 7   year           1554055 non-null  int64  \n",
      " 8   name           1554055 non-null  object \n",
      "dtypes: float64(2), int64(2), object(5)\n",
      "memory usage: 118.6+ MB\n"
     ]
    }
   ],
   "source": [
    "df.info()"
   ]
  },
  {
   "cell_type": "markdown",
   "id": "acab6208-b8d6-40f3-970a-56594ebb572b",
   "metadata": {},
   "source": [
    "Aineistossa on yhä liki 1,6 miljoonaa riviä, kun siitä on poistettu tyhjiä arvoja sisältävät rivit.   \n",
    "\n",
    "Muutetaan seuraavaksi *'object'*-tyypin sarakkeiden *'has_accidents'* ja *'isCab'* tietotyypiksi *'Boolean'*:"
   ]
  },
  {
   "cell_type": "code",
   "execution_count": 101,
   "id": "ab9a60a2-2b9a-4377-b6ae-80ac00d5328b",
   "metadata": {
    "tags": []
   },
   "outputs": [
    {
     "data": {
      "text/plain": [
       "array([False, True], dtype=object)"
      ]
     },
     "execution_count": 101,
     "metadata": {},
     "output_type": "execute_result"
    }
   ],
   "source": [
    "df['isCab'].unique()"
   ]
  },
  {
   "cell_type": "code",
   "execution_count": 102,
   "id": "e7c3be25-d3bc-47f7-8a7a-78f96fa56a82",
   "metadata": {
    "tags": []
   },
   "outputs": [
    {
     "data": {
      "text/plain": [
       "array([False, True], dtype=object)"
      ]
     },
     "execution_count": 102,
     "metadata": {},
     "output_type": "execute_result"
    }
   ],
   "source": [
    "df['isCab'].unique()"
   ]
  },
  {
   "cell_type": "code",
   "execution_count": 103,
   "id": "e91dd7aa-814d-4c28-88fb-7bdab5e9e164",
   "metadata": {
    "tags": []
   },
   "outputs": [],
   "source": [
    "df['has_accidents'] = df['has_accidents'].astype(bool)\n",
    "df['isCab'] = df['isCab'].astype(bool)"
   ]
  },
  {
   "cell_type": "code",
   "execution_count": 104,
   "id": "3ac876c6-1a6f-4003-8320-0790715aa027",
   "metadata": {
    "tags": []
   },
   "outputs": [
    {
     "name": "stdout",
     "output_type": "stream",
     "text": [
      "<class 'pandas.core.frame.DataFrame'>\n",
      "Index: 1554055 entries, 5 to 3000039\n",
      "Data columns (total 9 columns):\n",
      " #   Column         Non-Null Count    Dtype  \n",
      "---  ------         --------------    -----  \n",
      " 0   daysonmarket   1554055 non-null  int64  \n",
      " 1   has_accidents  1554055 non-null  bool   \n",
      " 2   isCab          1554055 non-null  bool   \n",
      " 3   make_name      1554055 non-null  object \n",
      " 4   mileage        1554055 non-null  float64\n",
      " 5   model_name     1554055 non-null  object \n",
      " 6   price          1554055 non-null  float64\n",
      " 7   year           1554055 non-null  int64  \n",
      " 8   name           1554055 non-null  object \n",
      "dtypes: bool(2), float64(2), int64(2), object(3)\n",
      "memory usage: 97.8+ MB\n"
     ]
    }
   ],
   "source": [
    "df.info()"
   ]
  },
  {
   "cell_type": "markdown",
   "id": "00539dac-b53b-4c07-a932-58d0ce4706e1",
   "metadata": {},
   "source": [
    "### Identtisten rivien poisto \n",
    "\n",
    "Jos datassa on identtisiä rivejä, poistetaan ne."
   ]
  },
  {
   "cell_type": "code",
   "execution_count": 106,
   "id": "e7009cd4-56dc-4012-80ad-f40680ac7332",
   "metadata": {
    "tags": []
   },
   "outputs": [
    {
     "name": "stdout",
     "output_type": "stream",
     "text": [
      "<class 'pandas.core.frame.DataFrame'>\n",
      "Index: 1551707 entries, 5 to 3000039\n",
      "Data columns (total 9 columns):\n",
      " #   Column         Non-Null Count    Dtype  \n",
      "---  ------         --------------    -----  \n",
      " 0   daysonmarket   1551707 non-null  int64  \n",
      " 1   has_accidents  1551707 non-null  bool   \n",
      " 2   isCab          1551707 non-null  bool   \n",
      " 3   make_name      1551707 non-null  object \n",
      " 4   mileage        1551707 non-null  float64\n",
      " 5   model_name     1551707 non-null  object \n",
      " 6   price          1551707 non-null  float64\n",
      " 7   year           1551707 non-null  int64  \n",
      " 8   name           1551707 non-null  object \n",
      "dtypes: bool(2), float64(2), int64(2), object(3)\n",
      "memory usage: 97.7+ MB\n"
     ]
    }
   ],
   "source": [
    "df1 = df.drop_duplicates()\n",
    "df1.info()"
   ]
  },
  {
   "cell_type": "code",
   "execution_count": 122,
   "id": "3132ffad-b1ea-46da-95e0-9e6610b28b87",
   "metadata": {
    "tags": []
   },
   "outputs": [
    {
     "data": {
      "text/html": [
       "<div>\n",
       "<style scoped>\n",
       "    .dataframe tbody tr th:only-of-type {\n",
       "        vertical-align: middle;\n",
       "    }\n",
       "\n",
       "    .dataframe tbody tr th {\n",
       "        vertical-align: top;\n",
       "    }\n",
       "\n",
       "    .dataframe thead th {\n",
       "        text-align: right;\n",
       "    }\n",
       "</style>\n",
       "<table border=\"1\" class=\"dataframe\">\n",
       "  <thead>\n",
       "    <tr style=\"text-align: right;\">\n",
       "      <th></th>\n",
       "      <th>daysonmarket</th>\n",
       "      <th>has_accidents</th>\n",
       "      <th>isCab</th>\n",
       "      <th>make_name</th>\n",
       "      <th>mileage</th>\n",
       "      <th>model_name</th>\n",
       "      <th>price</th>\n",
       "      <th>year</th>\n",
       "      <th>name</th>\n",
       "    </tr>\n",
       "  </thead>\n",
       "  <tbody>\n",
       "    <tr>\n",
       "      <th>5</th>\n",
       "      <td>242</td>\n",
       "      <td>False</td>\n",
       "      <td>False</td>\n",
       "      <td>Land Rover</td>\n",
       "      <td>12.0</td>\n",
       "      <td>Range Rover Velar</td>\n",
       "      <td>66903.0</td>\n",
       "      <td>2020</td>\n",
       "      <td>Land Rover Range Rover Velar</td>\n",
       "    </tr>\n",
       "    <tr>\n",
       "      <th>9</th>\n",
       "      <td>510</td>\n",
       "      <td>False</td>\n",
       "      <td>False</td>\n",
       "      <td>Land Rover</td>\n",
       "      <td>254.0</td>\n",
       "      <td>Range Rover Evoque</td>\n",
       "      <td>84399.0</td>\n",
       "      <td>2020</td>\n",
       "      <td>Land Rover Range Rover Evoque</td>\n",
       "    </tr>\n",
       "    <tr>\n",
       "      <th>10</th>\n",
       "      <td>1252</td>\n",
       "      <td>False</td>\n",
       "      <td>False</td>\n",
       "      <td>Alfa Romeo</td>\n",
       "      <td>301.0</td>\n",
       "      <td>4C</td>\n",
       "      <td>97579.0</td>\n",
       "      <td>2015</td>\n",
       "      <td>Alfa Romeo 4C</td>\n",
       "    </tr>\n",
       "    <tr>\n",
       "      <th>12</th>\n",
       "      <td>1233</td>\n",
       "      <td>False</td>\n",
       "      <td>False</td>\n",
       "      <td>BMW</td>\n",
       "      <td>6903.0</td>\n",
       "      <td>3 Series</td>\n",
       "      <td>58995.0</td>\n",
       "      <td>2016</td>\n",
       "      <td>BMW 3 Series</td>\n",
       "    </tr>\n",
       "    <tr>\n",
       "      <th>36</th>\n",
       "      <td>33</td>\n",
       "      <td>False</td>\n",
       "      <td>False</td>\n",
       "      <td>Hyundai</td>\n",
       "      <td>30707.0</td>\n",
       "      <td>Elantra</td>\n",
       "      <td>13324.0</td>\n",
       "      <td>2017</td>\n",
       "      <td>Hyundai Elantra</td>\n",
       "    </tr>\n",
       "  </tbody>\n",
       "</table>\n",
       "</div>"
      ],
      "text/plain": [
       "    daysonmarket  has_accidents  isCab   make_name  mileage  \\\n",
       "5            242          False  False  Land Rover     12.0   \n",
       "9            510          False  False  Land Rover    254.0   \n",
       "10          1252          False  False  Alfa Romeo    301.0   \n",
       "12          1233          False  False         BMW   6903.0   \n",
       "36            33          False  False     Hyundai  30707.0   \n",
       "\n",
       "            model_name    price  year                           name  \n",
       "5    Range Rover Velar  66903.0  2020   Land Rover Range Rover Velar  \n",
       "9   Range Rover Evoque  84399.0  2020  Land Rover Range Rover Evoque  \n",
       "10                  4C  97579.0  2015                  Alfa Romeo 4C  \n",
       "12            3 Series  58995.0  2016                   BMW 3 Series  \n",
       "36             Elantra  13324.0  2017                Hyundai Elantra  "
      ]
     },
     "execution_count": 122,
     "metadata": {},
     "output_type": "execute_result"
    }
   ],
   "source": [
    "df = df1\n",
    "df.head()"
   ]
  },
  {
   "cell_type": "markdown",
   "id": "748ad91c-727a-4796-85cd-fa4dd9e04bb7",
   "metadata": {},
   "source": [
    "### Aineiston rajaaminen \n",
    "\n",
    "Katsotaan ensin, kuinka moni aineiston autoista on ollut taksi- ja ei-taksikäytössä:"
   ]
  },
  {
   "cell_type": "code",
   "execution_count": 123,
   "id": "d63d1c52-5eb1-49ff-bc6b-663934018cfc",
   "metadata": {
    "tags": []
   },
   "outputs": [
    {
     "data": {
      "text/plain": [
       "isCab\n",
       "False    1265950\n",
       "True      285757\n",
       "Name: count, dtype: int64"
      ]
     },
     "execution_count": 123,
     "metadata": {},
     "output_type": "execute_result"
    }
   ],
   "source": [
    "df['isCab'].value_counts()"
   ]
  },
  {
   "cell_type": "markdown",
   "id": "dab4691d-7d91-4877-8b72-db36ef55112a",
   "metadata": {
    "tags": []
   },
   "source": [
    "Tässä tehtävässä ollaan kiinnostuneita vain niistä automalleista, joita on käytetty sekä takseina että ei-takseina. Rajataan aineistoa siten, että se kattaa vain ne automallit (*'name'*), jotka ovat olleet sekä taksikäytössä että ei-taksikäytössä.    \n",
    "\n",
    "Aloitetaan tallentamalla uniikit automallit muuttujaan *'uniikit_autot'*, ja käydään sitä läpi malli kerrallaan. Tarkastetaan, onko kyseinen automalli ollut sekä taksi- että ei-taksikäytössä, ja tallennetaan tällaiset automallit listaan *'autolista'*:"
   ]
  },
  {
   "cell_type": "code",
   "execution_count": 133,
   "id": "160fdc48-fe57-4606-81f7-b9bc294f29a2",
   "metadata": {
    "tags": []
   },
   "outputs": [],
   "source": [
    "uniikit_autot = df['name'].unique() \n",
    "\n",
    "autolista = []\n",
    "\n",
    "for malli in uniikit_autot:\n",
    "    taksi = df[(df['name'] == malli) & (df['isCab'] == True)]\n",
    "    eitaksi = df[(df['name'] == malli) & (df['isCab'] == False)]\n",
    "\n",
    "    if len(taksi) > 0 and len(eitaksi) > 0:\n",
    "        autolista.append(malli)"
   ]
  },
  {
   "cell_type": "code",
   "execution_count": 134,
   "id": "3d1e963f-4737-49c3-b4e5-fc4f6d6b320a",
   "metadata": {
    "tags": []
   },
   "outputs": [
    {
     "data": {
      "text/plain": [
       "578"
      ]
     },
     "execution_count": 134,
     "metadata": {},
     "output_type": "execute_result"
    }
   ],
   "source": [
    "len(autolista)"
   ]
  },
  {
   "cell_type": "code",
   "execution_count": 135,
   "id": "152645a6-d18a-4c5f-822a-feac09445fea",
   "metadata": {
    "tags": []
   },
   "outputs": [
    {
     "data": {
      "text/plain": [
       "1426"
      ]
     },
     "execution_count": 135,
     "metadata": {},
     "output_type": "execute_result"
    }
   ],
   "source": [
    "df['name'].nunique()"
   ]
  },
  {
   "cell_type": "markdown",
   "id": "38070a01-54ee-4389-b878-e70776c71516",
   "metadata": {},
   "source": [
    "Sopivia automalleja on 578, kun niitä datakehikossa *'df'* on kaikkiaan 1426. Suodatetaan datakehikkoa siten, että vain *'autolista'*:n mukaiset mallit ovat mukana:"
   ]
  },
  {
   "cell_type": "code",
   "execution_count": 136,
   "id": "4eecff50-613c-455f-95ac-8892fba93912",
   "metadata": {
    "tags": []
   },
   "outputs": [],
   "source": [
    "autot_df = df[df['name'].isin(autolista)]"
   ]
  },
  {
   "cell_type": "code",
   "execution_count": 137,
   "id": "97a9a5cc-c235-4c78-889f-e10c8ef44ca8",
   "metadata": {
    "tags": []
   },
   "outputs": [
    {
     "data": {
      "text/html": [
       "<div>\n",
       "<style scoped>\n",
       "    .dataframe tbody tr th:only-of-type {\n",
       "        vertical-align: middle;\n",
       "    }\n",
       "\n",
       "    .dataframe tbody tr th {\n",
       "        vertical-align: top;\n",
       "    }\n",
       "\n",
       "    .dataframe thead th {\n",
       "        text-align: right;\n",
       "    }\n",
       "</style>\n",
       "<table border=\"1\" class=\"dataframe\">\n",
       "  <thead>\n",
       "    <tr style=\"text-align: right;\">\n",
       "      <th></th>\n",
       "      <th>daysonmarket</th>\n",
       "      <th>has_accidents</th>\n",
       "      <th>isCab</th>\n",
       "      <th>make_name</th>\n",
       "      <th>mileage</th>\n",
       "      <th>model_name</th>\n",
       "      <th>price</th>\n",
       "      <th>year</th>\n",
       "      <th>name</th>\n",
       "    </tr>\n",
       "  </thead>\n",
       "  <tbody>\n",
       "    <tr>\n",
       "      <th>5</th>\n",
       "      <td>242</td>\n",
       "      <td>False</td>\n",
       "      <td>False</td>\n",
       "      <td>Land Rover</td>\n",
       "      <td>12.0</td>\n",
       "      <td>Range Rover Velar</td>\n",
       "      <td>66903.0</td>\n",
       "      <td>2020</td>\n",
       "      <td>Land Rover Range Rover Velar</td>\n",
       "    </tr>\n",
       "    <tr>\n",
       "      <th>9</th>\n",
       "      <td>510</td>\n",
       "      <td>False</td>\n",
       "      <td>False</td>\n",
       "      <td>Land Rover</td>\n",
       "      <td>254.0</td>\n",
       "      <td>Range Rover Evoque</td>\n",
       "      <td>84399.0</td>\n",
       "      <td>2020</td>\n",
       "      <td>Land Rover Range Rover Evoque</td>\n",
       "    </tr>\n",
       "    <tr>\n",
       "      <th>12</th>\n",
       "      <td>1233</td>\n",
       "      <td>False</td>\n",
       "      <td>False</td>\n",
       "      <td>BMW</td>\n",
       "      <td>6903.0</td>\n",
       "      <td>3 Series</td>\n",
       "      <td>58995.0</td>\n",
       "      <td>2016</td>\n",
       "      <td>BMW 3 Series</td>\n",
       "    </tr>\n",
       "    <tr>\n",
       "      <th>36</th>\n",
       "      <td>33</td>\n",
       "      <td>False</td>\n",
       "      <td>False</td>\n",
       "      <td>Hyundai</td>\n",
       "      <td>30707.0</td>\n",
       "      <td>Elantra</td>\n",
       "      <td>13324.0</td>\n",
       "      <td>2017</td>\n",
       "      <td>Hyundai Elantra</td>\n",
       "    </tr>\n",
       "    <tr>\n",
       "      <th>38</th>\n",
       "      <td>55</td>\n",
       "      <td>False</td>\n",
       "      <td>True</td>\n",
       "      <td>Chevrolet</td>\n",
       "      <td>42394.0</td>\n",
       "      <td>Malibu</td>\n",
       "      <td>14639.0</td>\n",
       "      <td>2018</td>\n",
       "      <td>Chevrolet Malibu</td>\n",
       "    </tr>\n",
       "  </tbody>\n",
       "</table>\n",
       "</div>"
      ],
      "text/plain": [
       "    daysonmarket  has_accidents  isCab   make_name  mileage  \\\n",
       "5            242          False  False  Land Rover     12.0   \n",
       "9            510          False  False  Land Rover    254.0   \n",
       "12          1233          False  False         BMW   6903.0   \n",
       "36            33          False  False     Hyundai  30707.0   \n",
       "38            55          False   True   Chevrolet  42394.0   \n",
       "\n",
       "            model_name    price  year                           name  \n",
       "5    Range Rover Velar  66903.0  2020   Land Rover Range Rover Velar  \n",
       "9   Range Rover Evoque  84399.0  2020  Land Rover Range Rover Evoque  \n",
       "12            3 Series  58995.0  2016                   BMW 3 Series  \n",
       "36             Elantra  13324.0  2017                Hyundai Elantra  \n",
       "38              Malibu  14639.0  2018               Chevrolet Malibu  "
      ]
     },
     "execution_count": 137,
     "metadata": {},
     "output_type": "execute_result"
    }
   ],
   "source": [
    "autot_df.head()"
   ]
  },
  {
   "cell_type": "code",
   "execution_count": 129,
   "id": "7fb92919-596e-4110-a92c-8eaa96f6de7f",
   "metadata": {
    "tags": []
   },
   "outputs": [
    {
     "name": "stdout",
     "output_type": "stream",
     "text": [
      "<class 'pandas.core.frame.DataFrame'>\n",
      "Index: 1494497 entries, 5 to 3000039\n",
      "Data columns (total 9 columns):\n",
      " #   Column         Non-Null Count    Dtype  \n",
      "---  ------         --------------    -----  \n",
      " 0   daysonmarket   1494497 non-null  int64  \n",
      " 1   has_accidents  1494497 non-null  bool   \n",
      " 2   isCab          1494497 non-null  bool   \n",
      " 3   make_name      1494497 non-null  object \n",
      " 4   mileage        1494497 non-null  float64\n",
      " 5   model_name     1494497 non-null  object \n",
      " 6   price          1494497 non-null  float64\n",
      " 7   year           1494497 non-null  int64  \n",
      " 8   name           1494497 non-null  object \n",
      "dtypes: bool(2), float64(2), int64(2), object(3)\n",
      "memory usage: 94.1+ MB\n"
     ]
    }
   ],
   "source": [
    "autot_df.info()"
   ]
  },
  {
   "cell_type": "markdown",
   "id": "327e76f8-c52f-44a4-8020-ae3fe528de94",
   "metadata": {},
   "source": [
    "Muutetaan vielä boolean-tietotyypin sarakkeet *'has_accidents'* ja *'isCab'* numeerisiksi koneoppimismalleja varten:"
   ]
  },
  {
   "cell_type": "code",
   "execution_count": 140,
   "id": "1c0229de-398f-4d6e-8f70-9776c3c45033",
   "metadata": {
    "tags": []
   },
   "outputs": [],
   "source": [
    "autot_df.loc[:, 'has_accidents'] = autot_df['has_accidents'].astype(int)\n",
    "autot_df.loc[:, 'isCab'] = autot_df['isCab'].astype(int)"
   ]
  },
  {
   "cell_type": "code",
   "execution_count": 141,
   "id": "24ef17dc-a105-4ce4-8ed3-e255f827e2d4",
   "metadata": {
    "tags": []
   },
   "outputs": [
    {
     "name": "stdout",
     "output_type": "stream",
     "text": [
      "<class 'pandas.core.frame.DataFrame'>\n",
      "Index: 1494497 entries, 5 to 3000039\n",
      "Data columns (total 9 columns):\n",
      " #   Column         Non-Null Count    Dtype  \n",
      "---  ------         --------------    -----  \n",
      " 0   daysonmarket   1494497 non-null  int64  \n",
      " 1   has_accidents  1494497 non-null  int64  \n",
      " 2   isCab          1494497 non-null  int64  \n",
      " 3   make_name      1494497 non-null  object \n",
      " 4   mileage        1494497 non-null  float64\n",
      " 5   model_name     1494497 non-null  object \n",
      " 6   price          1494497 non-null  float64\n",
      " 7   year           1494497 non-null  int64  \n",
      " 8   name           1494497 non-null  object \n",
      "dtypes: float64(2), int64(4), object(3)\n",
      "memory usage: 114.0+ MB\n"
     ]
    }
   ],
   "source": [
    "autot_df.info()"
   ]
  },
  {
   "cell_type": "markdown",
   "id": "d8e6d810-bb37-4286-9079-f8358e8003d0",
   "metadata": {},
   "source": [
    "Aineisto on nyt valmis jatkokäyttöä varten. Siinä on mukana noin 1,5 miljoonaa datariviä, eli suunnilleen puolet alkuperäisestä aineistosta. Tutustutaan seuraavaksi tarkemmin datakehikkoon *'autot_df'* tilastollisten tunnuslukujen ja visualisointien avulla.   \n",
    "\n",
    "### Tilastolliset tunnusluvut"
   ]
  },
  {
   "cell_type": "code",
   "execution_count": 144,
   "id": "f073d17d-4eab-488a-a1d4-8f6bf9410c38",
   "metadata": {
    "tags": []
   },
   "outputs": [
    {
     "data": {
      "text/html": [
       "<div>\n",
       "<style scoped>\n",
       "    .dataframe tbody tr th:only-of-type {\n",
       "        vertical-align: middle;\n",
       "    }\n",
       "\n",
       "    .dataframe tbody tr th {\n",
       "        vertical-align: top;\n",
       "    }\n",
       "\n",
       "    .dataframe thead th {\n",
       "        text-align: right;\n",
       "    }\n",
       "</style>\n",
       "<table border=\"1\" class=\"dataframe\">\n",
       "  <thead>\n",
       "    <tr style=\"text-align: right;\">\n",
       "      <th></th>\n",
       "      <th>daysonmarket</th>\n",
       "      <th>has_accidents</th>\n",
       "      <th>isCab</th>\n",
       "      <th>mileage</th>\n",
       "      <th>price</th>\n",
       "      <th>year</th>\n",
       "    </tr>\n",
       "  </thead>\n",
       "  <tbody>\n",
       "    <tr>\n",
       "      <th>count</th>\n",
       "      <td>1.494497e+06</td>\n",
       "      <td>1.494497e+06</td>\n",
       "      <td>1.494497e+06</td>\n",
       "      <td>1.494497e+06</td>\n",
       "      <td>1.494497e+06</td>\n",
       "      <td>1.494497e+06</td>\n",
       "    </tr>\n",
       "    <tr>\n",
       "      <th>mean</th>\n",
       "      <td>5.709698e+01</td>\n",
       "      <td>1.555861e-01</td>\n",
       "      <td>1.912061e-01</td>\n",
       "      <td>5.718882e+04</td>\n",
       "      <td>2.260863e+04</td>\n",
       "      <td>2.015717e+03</td>\n",
       "    </tr>\n",
       "    <tr>\n",
       "      <th>std</th>\n",
       "      <td>1.008197e+02</td>\n",
       "      <td>3.624626e-01</td>\n",
       "      <td>3.932511e-01</td>\n",
       "      <td>4.777695e+04</td>\n",
       "      <td>1.486099e+04</td>\n",
       "      <td>4.212852e+00</td>\n",
       "    </tr>\n",
       "    <tr>\n",
       "      <th>min</th>\n",
       "      <td>0.000000e+00</td>\n",
       "      <td>0.000000e+00</td>\n",
       "      <td>0.000000e+00</td>\n",
       "      <td>0.000000e+00</td>\n",
       "      <td>1.650000e+02</td>\n",
       "      <td>1.939000e+03</td>\n",
       "    </tr>\n",
       "    <tr>\n",
       "      <th>25%</th>\n",
       "      <td>1.300000e+01</td>\n",
       "      <td>0.000000e+00</td>\n",
       "      <td>0.000000e+00</td>\n",
       "      <td>2.394500e+04</td>\n",
       "      <td>1.385000e+04</td>\n",
       "      <td>2.014000e+03</td>\n",
       "    </tr>\n",
       "    <tr>\n",
       "      <th>50%</th>\n",
       "      <td>2.900000e+01</td>\n",
       "      <td>0.000000e+00</td>\n",
       "      <td>0.000000e+00</td>\n",
       "      <td>4.024600e+04</td>\n",
       "      <td>1.959000e+04</td>\n",
       "      <td>2.017000e+03</td>\n",
       "    </tr>\n",
       "    <tr>\n",
       "      <th>75%</th>\n",
       "      <td>5.700000e+01</td>\n",
       "      <td>0.000000e+00</td>\n",
       "      <td>0.000000e+00</td>\n",
       "      <td>8.234200e+04</td>\n",
       "      <td>2.897500e+04</td>\n",
       "      <td>2.018000e+03</td>\n",
       "    </tr>\n",
       "    <tr>\n",
       "      <th>max</th>\n",
       "      <td>3.599000e+03</td>\n",
       "      <td>1.000000e+00</td>\n",
       "      <td>1.000000e+00</td>\n",
       "      <td>6.318350e+05</td>\n",
       "      <td>2.698500e+06</td>\n",
       "      <td>2.021000e+03</td>\n",
       "    </tr>\n",
       "  </tbody>\n",
       "</table>\n",
       "</div>"
      ],
      "text/plain": [
       "       daysonmarket  has_accidents         isCab       mileage         price  \\\n",
       "count  1.494497e+06   1.494497e+06  1.494497e+06  1.494497e+06  1.494497e+06   \n",
       "mean   5.709698e+01   1.555861e-01  1.912061e-01  5.718882e+04  2.260863e+04   \n",
       "std    1.008197e+02   3.624626e-01  3.932511e-01  4.777695e+04  1.486099e+04   \n",
       "min    0.000000e+00   0.000000e+00  0.000000e+00  0.000000e+00  1.650000e+02   \n",
       "25%    1.300000e+01   0.000000e+00  0.000000e+00  2.394500e+04  1.385000e+04   \n",
       "50%    2.900000e+01   0.000000e+00  0.000000e+00  4.024600e+04  1.959000e+04   \n",
       "75%    5.700000e+01   0.000000e+00  0.000000e+00  8.234200e+04  2.897500e+04   \n",
       "max    3.599000e+03   1.000000e+00  1.000000e+00  6.318350e+05  2.698500e+06   \n",
       "\n",
       "               year  \n",
       "count  1.494497e+06  \n",
       "mean   2.015717e+03  \n",
       "std    4.212852e+00  \n",
       "min    1.939000e+03  \n",
       "25%    2.014000e+03  \n",
       "50%    2.017000e+03  \n",
       "75%    2.018000e+03  \n",
       "max    2.021000e+03  "
      ]
     },
     "execution_count": 144,
     "metadata": {},
     "output_type": "execute_result"
    }
   ],
   "source": [
    "autot_df.describe()"
   ]
  },
  {
   "cell_type": "markdown",
   "id": "ca28702a-9e1b-4cf5-b071-a3d41f805fc2",
   "metadata": {
    "tags": []
   },
   "source": [
    "Näyttää siltä, että aineistossa on mukana uusia autoja. "
   ]
  },
  {
   "cell_type": "code",
   "execution_count": 146,
   "id": "e4125c70-8a1e-451a-9df1-968adcc86c27",
   "metadata": {
    "tags": []
   },
   "outputs": [
    {
     "data": {
      "text/plain": [
       "Index(['daysonmarket', 'has_accidents', 'isCab', 'make_name', 'mileage',\n",
       "       'model_name', 'price', 'year', 'name'],\n",
       "      dtype='object')"
      ]
     },
     "execution_count": 146,
     "metadata": {},
     "output_type": "execute_result"
    }
   ],
   "source": [
    "autot_df.columns"
   ]
  },
  {
   "cell_type": "code",
   "execution_count": null,
   "id": "afaa7b22-9a06-424f-9309-64ce5ac0fe6b",
   "metadata": {},
   "outputs": [],
   "source": []
  },
  {
   "cell_type": "code",
   "execution_count": null,
   "id": "36f2ca35-6c65-4c3b-8e9d-448f8f09d7d1",
   "metadata": {},
   "outputs": [],
   "source": []
  },
  {
   "cell_type": "code",
   "execution_count": null,
   "id": "936db171-2be6-47ba-a1df-fa0076ccfbe8",
   "metadata": {},
   "outputs": [],
   "source": []
  },
  {
   "cell_type": "code",
   "execution_count": null,
   "id": "42eacddb-fffe-4242-a413-08b67d7341d2",
   "metadata": {},
   "outputs": [],
   "source": []
  },
  {
   "cell_type": "markdown",
   "id": "8cf7845d-cf59-4aae-beda-7fda78fd334b",
   "metadata": {},
   "source": [
    "### Hintojen jakaumat \n",
    "\n",
    "Tarkastellaan seuraavaksi, kuinka hinnat jakautuvat taksien ja ei-taksien kesken. Käytetään tässä boxplot-kaaviota:"
   ]
  },
  {
   "cell_type": "code",
   "execution_count": null,
   "id": "1058fec8-c4ae-404f-a78d-b783fba0728e",
   "metadata": {},
   "outputs": [],
   "source": []
  },
  {
   "cell_type": "code",
   "execution_count": 143,
   "id": "cd19f1b8-fb96-4cba-b654-65dd6f776f31",
   "metadata": {
    "tags": []
   },
   "outputs": [
    {
     "data": {
      "image/png": "[encoded data removed]",
      "text/plain": [
       "<Figure size 640x480 with 1 Axes>"
      ]
     },
     "metadata": {},
     "output_type": "display_data"
    }
   ],
   "source": [
    "sns.boxplot(x = 'isCab', y = 'price', data = autot_df)\n",
    "plt.show()"
   ]
  },
  {
   "cell_type": "markdown",
   "id": "20322970-fb40-4deb-a224-1adeaa17a56a",
   "metadata": {},
   "source": [
    "Kaaviosta voidaan päätellä, että taksikäytössä olleiden autojen hinta vaihtelee vähemmän, kuin ei-taksikäytössä olleiden autojen, joilla jakauman häntä kalliimpaan suuntaan on paljon takseina toimineita autoja pidempi. Joidenkin takseina toimineiden autojen hinta on muita takseja merkittävästi korkeampi, muttei siltikään yhtä korkea, kuin ei-takseina toimineilla. "
   ]
  },
  {
   "cell_type": "markdown",
   "id": "e29a1459-edb3-4272-b71d-aa9405e59693",
   "metadata": {},
   "source": [
    "### Aineiston tallentaminen tiedostoon\n",
    "\n",
    "Data on nyt valmis analyysiä varten. Tallennetaan se myöhempää käyttöä varten uudeksi CSV-tiedostoksi *'taksi_data.csv'*:"
   ]
  },
  {
   "cell_type": "code",
   "execution_count": 39,
   "id": "ebcbb320-f400-4cb5-9d67-0a3d9625d3b9",
   "metadata": {
    "tags": []
   },
   "outputs": [],
   "source": [
    "#df.to_csv(\"taksi_data.csv\", index = False)"
   ]
  },
  {
   "cell_type": "markdown",
   "id": "4ed2c94a-314f-41d0-a1f8-bf918b2a07eb",
   "metadata": {
    "tags": []
   },
   "source": [
    "## CRISP-DM vaihe 4: Mallinnus"
   ]
  },
  {
   "cell_type": "markdown",
   "id": "e621bb5c-4f56-43c2-aa0e-2363fdc8b6c5",
   "metadata": {},
   "source": [
    "### Korrelaatiomatriisi \n",
    "\n"
   ]
  },
  {
   "cell_type": "code",
   "execution_count": 74,
   "id": "1aee3071-2391-4701-8359-425033ae0265",
   "metadata": {
    "tags": []
   },
   "outputs": [
    {
     "data": {
      "image/png": "[encoded data removed]",
      "text/plain": [
       "<Figure size 640x480 with 2 Axes>"
      ]
     },
     "metadata": {},
     "output_type": "display_data"
    }
   ],
   "source": [
    "# Korrelaatiomatriisi sarakkeista 'mileage', 'year', ja 'price':\n",
    "correlation_matrix = df[['mileage', 'year', 'price']].corr()\n",
    "sns.heatmap(correlation_matrix, annot=True, cmap='coolwarm')\n",
    "plt.show()"
   ]
  },
  {
   "cell_type": "code",
   "execution_count": null,
   "id": "9c5ba788-88f5-4d02-81b8-1d7879675df6",
   "metadata": {},
   "outputs": [],
   "source": []
  }
 ],
 "metadata": {
  "kernelspec": {
   "display_name": "Python 3 (ipykernel)",
   "language": "python",
   "name": "python3"
  },
  "language_info": {
   "codemirror_mode": {
    "name": "ipython",
    "version": 3
   },
   "file_extension": ".py",
   "mimetype": "text/x-python",
   "name": "python",
   "nbconvert_exporter": "python",
   "pygments_lexer": "ipython3",
   "version": "3.9.18"
  }
 },
 "nbformat": 4,
 "nbformat_minor": 5
}
