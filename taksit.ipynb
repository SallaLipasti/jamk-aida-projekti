{
 "cells": [
  {
   "cell_type": "markdown",
   "id": "2579ff82-12ed-4049-bc05-332f5dc7b957",
   "metadata": {},
   "source": [
    "# Taksit \n",
    "\n",
    "Selvitetään, onko ollut vaikutusta auton hintaan, jos auto on ollut aiemmin taksikäytössä. \n",
    "\n",
    "Ladataan aineisto osittain, mukaan seuraavat sarakkeet:"
   ]
  },
  {
   "cell_type": "code",
   "execution_count": 1,
   "id": "aae60688-f9ac-4086-92d4-a126529833da",
   "metadata": {
    "tags": []
   },
   "outputs": [],
   "source": [
    "import pandas as pd\n",
    "import numpy as np"
   ]
  },
  {
   "cell_type": "code",
   "execution_count": 2,
   "id": "7385f491-88d4-4802-85b2-562e08cf95ee",
   "metadata": {
    "tags": []
   },
   "outputs": [],
   "source": [
    "# Tiedoston polku: \n",
    "file_path = '/Volumes/AIDA/AIDA-projekti/used_cars_data.csv' \n",
    "\n",
    "# Valitut sarakkeet:\n",
    "sarakkeet = ['make_name', 'model_name', 'mileage', 'year', 'price', 'isCab', 'daysonmarket', 'has_accidents']\n",
    "\n",
    "# Luetaan aineistosta vain halutut sarakkeet datakehikkoon:\n",
    "df = pd.read_csv(file_path, usecols = sarakkeet) "
   ]
  },
  {
   "cell_type": "markdown",
   "id": "54069672-20c0-4dca-a4bf-3e0b934670c8",
   "metadata": {},
   "source": [
    "Tutkitaan saatua datakehikkoa."
   ]
  },
  {
   "cell_type": "code",
   "execution_count": 3,
   "id": "af437d35-cf98-4505-afc0-1076d2de42e2",
   "metadata": {
    "tags": []
   },
   "outputs": [
    {
     "data": {
      "text/html": [
       "<div>\n",
       "<style scoped>\n",
       "    .dataframe tbody tr th:only-of-type {\n",
       "        vertical-align: middle;\n",
       "    }\n",
       "\n",
       "    .dataframe tbody tr th {\n",
       "        vertical-align: top;\n",
       "    }\n",
       "\n",
       "    .dataframe thead th {\n",
       "        text-align: right;\n",
       "    }\n",
       "</style>\n",
       "<table border=\"1\" class=\"dataframe\">\n",
       "  <thead>\n",
       "    <tr style=\"text-align: right;\">\n",
       "      <th></th>\n",
       "      <th>daysonmarket</th>\n",
       "      <th>has_accidents</th>\n",
       "      <th>isCab</th>\n",
       "      <th>make_name</th>\n",
       "      <th>mileage</th>\n",
       "      <th>model_name</th>\n",
       "      <th>price</th>\n",
       "      <th>year</th>\n",
       "    </tr>\n",
       "  </thead>\n",
       "  <tbody>\n",
       "    <tr>\n",
       "      <th>152491</th>\n",
       "      <td>21</td>\n",
       "      <td>False</td>\n",
       "      <td>False</td>\n",
       "      <td>Audi</td>\n",
       "      <td>9892.0</td>\n",
       "      <td>S4</td>\n",
       "      <td>48100.0</td>\n",
       "      <td>2019</td>\n",
       "    </tr>\n",
       "    <tr>\n",
       "      <th>999217</th>\n",
       "      <td>16</td>\n",
       "      <td>False</td>\n",
       "      <td>False</td>\n",
       "      <td>Ford</td>\n",
       "      <td>54003.0</td>\n",
       "      <td>Fusion Hybrid</td>\n",
       "      <td>14221.0</td>\n",
       "      <td>2017</td>\n",
       "    </tr>\n",
       "    <tr>\n",
       "      <th>1753363</th>\n",
       "      <td>35</td>\n",
       "      <td>False</td>\n",
       "      <td>True</td>\n",
       "      <td>GMC</td>\n",
       "      <td>41770.0</td>\n",
       "      <td>Yukon XL</td>\n",
       "      <td>47139.0</td>\n",
       "      <td>2019</td>\n",
       "    </tr>\n",
       "    <tr>\n",
       "      <th>1774740</th>\n",
       "      <td>58</td>\n",
       "      <td>False</td>\n",
       "      <td>False</td>\n",
       "      <td>Hyundai</td>\n",
       "      <td>76356.0</td>\n",
       "      <td>Santa Fe Sport</td>\n",
       "      <td>15423.0</td>\n",
       "      <td>2016</td>\n",
       "    </tr>\n",
       "    <tr>\n",
       "      <th>712726</th>\n",
       "      <td>16</td>\n",
       "      <td>NaN</td>\n",
       "      <td>NaN</td>\n",
       "      <td>GMC</td>\n",
       "      <td>3.0</td>\n",
       "      <td>Sierra 1500</td>\n",
       "      <td>57975.0</td>\n",
       "      <td>2020</td>\n",
       "    </tr>\n",
       "    <tr>\n",
       "      <th>2831813</th>\n",
       "      <td>72</td>\n",
       "      <td>NaN</td>\n",
       "      <td>NaN</td>\n",
       "      <td>Audi</td>\n",
       "      <td>10.0</td>\n",
       "      <td>Q5 Hybrid Plug-in</td>\n",
       "      <td>59670.0</td>\n",
       "      <td>2020</td>\n",
       "    </tr>\n",
       "    <tr>\n",
       "      <th>271842</th>\n",
       "      <td>48</td>\n",
       "      <td>False</td>\n",
       "      <td>False</td>\n",
       "      <td>Chevrolet</td>\n",
       "      <td>36477.0</td>\n",
       "      <td>Bolt EV</td>\n",
       "      <td>20995.0</td>\n",
       "      <td>2017</td>\n",
       "    </tr>\n",
       "    <tr>\n",
       "      <th>1455987</th>\n",
       "      <td>7</td>\n",
       "      <td>NaN</td>\n",
       "      <td>NaN</td>\n",
       "      <td>Mazda</td>\n",
       "      <td>0.0</td>\n",
       "      <td>CX-5</td>\n",
       "      <td>38900.0</td>\n",
       "      <td>2021</td>\n",
       "    </tr>\n",
       "    <tr>\n",
       "      <th>787169</th>\n",
       "      <td>286</td>\n",
       "      <td>NaN</td>\n",
       "      <td>NaN</td>\n",
       "      <td>Ford</td>\n",
       "      <td>5.0</td>\n",
       "      <td>Edge</td>\n",
       "      <td>43470.0</td>\n",
       "      <td>2020</td>\n",
       "    </tr>\n",
       "    <tr>\n",
       "      <th>1565588</th>\n",
       "      <td>24</td>\n",
       "      <td>False</td>\n",
       "      <td>False</td>\n",
       "      <td>Honda</td>\n",
       "      <td>13255.0</td>\n",
       "      <td>Accord</td>\n",
       "      <td>24988.0</td>\n",
       "      <td>2019</td>\n",
       "    </tr>\n",
       "  </tbody>\n",
       "</table>\n",
       "</div>"
      ],
      "text/plain": [
       "         daysonmarket has_accidents  isCab  make_name  mileage  \\\n",
       "152491             21         False  False       Audi   9892.0   \n",
       "999217             16         False  False       Ford  54003.0   \n",
       "1753363            35         False   True        GMC  41770.0   \n",
       "1774740            58         False  False    Hyundai  76356.0   \n",
       "712726             16           NaN    NaN        GMC      3.0   \n",
       "2831813            72           NaN    NaN       Audi     10.0   \n",
       "271842             48         False  False  Chevrolet  36477.0   \n",
       "1455987             7           NaN    NaN      Mazda      0.0   \n",
       "787169            286           NaN    NaN       Ford      5.0   \n",
       "1565588            24         False  False      Honda  13255.0   \n",
       "\n",
       "                model_name    price  year  \n",
       "152491                  S4  48100.0  2019  \n",
       "999217       Fusion Hybrid  14221.0  2017  \n",
       "1753363           Yukon XL  47139.0  2019  \n",
       "1774740     Santa Fe Sport  15423.0  2016  \n",
       "712726         Sierra 1500  57975.0  2020  \n",
       "2831813  Q5 Hybrid Plug-in  59670.0  2020  \n",
       "271842             Bolt EV  20995.0  2017  \n",
       "1455987               CX-5  38900.0  2021  \n",
       "787169                Edge  43470.0  2020  \n",
       "1565588             Accord  24988.0  2019  "
      ]
     },
     "execution_count": 3,
     "metadata": {},
     "output_type": "execute_result"
    }
   ],
   "source": [
    "df.sample(10)"
   ]
  },
  {
   "cell_type": "markdown",
   "id": "9bb4c5ef-0c8a-4f9f-8d13-58d6e253ac5b",
   "metadata": {
    "tags": []
   },
   "source": [
    "Tässä kysymyksessä on olennaista tietää, onko auto ollut taksikäytössä. Tutkitaan siis ensimmäiseksi, onko sarakkeessa *'isCab'* tyhjiä arvoja, ja poistetaan tarvittaessa tällaiset rivit. "
   ]
  },
  {
   "cell_type": "code",
   "execution_count": 4,
   "id": "1e7221b9-c85e-4c99-8adb-02ba2d7a6000",
   "metadata": {
    "tags": []
   },
   "outputs": [
    {
     "data": {
      "text/plain": [
       "array([nan, False, True], dtype=object)"
      ]
     },
     "execution_count": 4,
     "metadata": {},
     "output_type": "execute_result"
    }
   ],
   "source": [
    "df['isCab'].unique()"
   ]
  },
  {
   "cell_type": "code",
   "execution_count": 7,
   "id": "efc7ebf1-7b3a-421b-999f-5e695252b7a5",
   "metadata": {
    "tags": []
   },
   "outputs": [
    {
     "data": {
      "text/plain": [
       "1426595"
      ]
     },
     "execution_count": 7,
     "metadata": {},
     "output_type": "execute_result"
    }
   ],
   "source": [
    "# Tarkastetaan, montako tyhjää arvoa sarakkeessa 'isCab' on:\n",
    "df['isCab'].isna().sum()"
   ]
  },
  {
   "cell_type": "code",
   "execution_count": 16,
   "id": "d2ea725d-b223-442f-8de1-b42e287423c7",
   "metadata": {
    "tags": []
   },
   "outputs": [
    {
     "data": {
      "text/plain": [
       "daysonmarket         0\n",
       "has_accidents        0\n",
       "isCab                0\n",
       "make_name            0\n",
       "mileage          19390\n",
       "model_name           0\n",
       "price                0\n",
       "year                 0\n",
       "dtype: int64"
      ]
     },
     "execution_count": 16,
     "metadata": {},
     "output_type": "execute_result"
    }
   ],
   "source": [
    "# Poistetaan sarakkeessa 'isCab' tyhjän arvon sisältävät rivit:\n",
    "df.dropna(subset=['isCab'], inplace=True)\n",
    "\n",
    "# Tarkastetaan uudelleen tyhjien arvojen määrät sarakkeittain:\n",
    "df.isna().sum()"
   ]
  },
  {
   "cell_type": "markdown",
   "id": "522dac7c-5b49-4a56-abb5-33677d6ed4d1",
   "metadata": {
    "tags": []
   },
   "source": [
    "Aineisto sisältää yhä tyhjiä arvoja sarakkeessa *'mileage'*. Sopivia keskilukuja näiden korvaamiseksi on vaikea päätellä, joten poistetaan myös nämä rivit."
   ]
  },
  {
   "cell_type": "code",
   "execution_count": 17,
   "id": "9e148e1f-d5ef-4404-9578-064f886860a8",
   "metadata": {
    "tags": []
   },
   "outputs": [
    {
     "data": {
      "text/plain": [
       "daysonmarket     0\n",
       "has_accidents    0\n",
       "isCab            0\n",
       "make_name        0\n",
       "mileage          0\n",
       "model_name       0\n",
       "price            0\n",
       "year             0\n",
       "dtype: int64"
      ]
     },
     "execution_count": 17,
     "metadata": {},
     "output_type": "execute_result"
    }
   ],
   "source": [
    "df.dropna(subset=['mileage'], inplace=True)\n",
    "\n",
    "df.isna().sum()"
   ]
  },
  {
   "cell_type": "code",
   "execution_count": 19,
   "id": "7ae05119-2bbd-4e8a-afcd-e30dcff8812a",
   "metadata": {
    "tags": []
   },
   "outputs": [
    {
     "name": "stdout",
     "output_type": "stream",
     "text": [
      "<class 'pandas.core.frame.DataFrame'>\n",
      "Index: 1554055 entries, 5 to 3000039\n",
      "Data columns (total 8 columns):\n",
      " #   Column         Non-Null Count    Dtype  \n",
      "---  ------         --------------    -----  \n",
      " 0   daysonmarket   1554055 non-null  int64  \n",
      " 1   has_accidents  1554055 non-null  object \n",
      " 2   isCab          1554055 non-null  object \n",
      " 3   make_name      1554055 non-null  object \n",
      " 4   mileage        1554055 non-null  float64\n",
      " 5   model_name     1554055 non-null  object \n",
      " 6   price          1554055 non-null  float64\n",
      " 7   year           1554055 non-null  int64  \n",
      "dtypes: float64(2), int64(2), object(4)\n",
      "memory usage: 106.7+ MB\n"
     ]
    }
   ],
   "source": [
    "df.info()"
   ]
  },
  {
   "cell_type": "markdown",
   "id": "acab6208-b8d6-40f3-970a-56594ebb572b",
   "metadata": {},
   "source": [
    "Aineistossa on yhä liki 1,6 miljoonaa riviä, kun siitä on poistettu tyhjiä arvoja sisältävät rivit.   \n",
    "\n",
    "Muutetaan seuraavaksi *'object'*-tyypin sarakkeiden *'has_accidents'* ja *'isCab'* tietotyypiksi *'Boolean'*:"
   ]
  },
  {
   "cell_type": "code",
   "execution_count": 36,
   "id": "ab9a60a2-2b9a-4377-b6ae-80ac00d5328b",
   "metadata": {
    "tags": []
   },
   "outputs": [
    {
     "data": {
      "text/plain": [
       "array([False,  True])"
      ]
     },
     "execution_count": 36,
     "metadata": {},
     "output_type": "execute_result"
    }
   ],
   "source": [
    "df['isCab'].unique()"
   ]
  },
  {
   "cell_type": "code",
   "execution_count": 34,
   "id": "e7c3be25-d3bc-47f7-8a7a-78f96fa56a82",
   "metadata": {
    "tags": []
   },
   "outputs": [
    {
     "data": {
      "text/plain": [
       "array([False,  True])"
      ]
     },
     "execution_count": 34,
     "metadata": {},
     "output_type": "execute_result"
    }
   ],
   "source": [
    "df['isCab'].unique()"
   ]
  },
  {
   "cell_type": "code",
   "execution_count": 37,
   "id": "e91dd7aa-814d-4c28-88fb-7bdab5e9e164",
   "metadata": {
    "tags": []
   },
   "outputs": [],
   "source": [
    "df['has_accidents'] = df['has_accidents'].astype(bool)\n",
    "df['isCab'] = df['isCab'].astype(bool)"
   ]
  },
  {
   "cell_type": "code",
   "execution_count": 38,
   "id": "3ac876c6-1a6f-4003-8320-0790715aa027",
   "metadata": {
    "tags": []
   },
   "outputs": [
    {
     "name": "stdout",
     "output_type": "stream",
     "text": [
      "<class 'pandas.core.frame.DataFrame'>\n",
      "Index: 1554055 entries, 5 to 3000039\n",
      "Data columns (total 9 columns):\n",
      " #   Column         Non-Null Count    Dtype  \n",
      "---  ------         --------------    -----  \n",
      " 0   daysonmarket   1554055 non-null  int64  \n",
      " 1   has_accidents  1554055 non-null  bool   \n",
      " 2   isCab          1554055 non-null  bool   \n",
      " 3   make_name      1554055 non-null  object \n",
      " 4   mileage        1554055 non-null  float64\n",
      " 5   model_name     1554055 non-null  object \n",
      " 6   price          1554055 non-null  float64\n",
      " 7   year           1554055 non-null  int64  \n",
      " 8   name           1554055 non-null  object \n",
      "dtypes: bool(2), float64(2), int64(2), object(3)\n",
      "memory usage: 97.8+ MB\n"
     ]
    }
   ],
   "source": [
    "df.info()"
   ]
  },
  {
   "cell_type": "markdown",
   "id": "353c4a29-ea63-4c90-8594-b23761f0997c",
   "metadata": {},
   "source": [
    "Yhdistetään lopuksi *'make_name'* ja *'model_name'* yhdeksi sarakkeeksi *'name'*:"
   ]
  },
  {
   "cell_type": "code",
   "execution_count": 31,
   "id": "bc1b246f-f9d8-4835-9f40-f1ac27a7a60d",
   "metadata": {
    "tags": []
   },
   "outputs": [],
   "source": [
    "df['name'] = df['make_name'] + \" \" + df['model_name']"
   ]
  },
  {
   "cell_type": "code",
   "execution_count": 32,
   "id": "0a30307e-c667-4971-9ea1-62b11716ff52",
   "metadata": {
    "tags": []
   },
   "outputs": [
    {
     "data": {
      "text/html": [
       "<div>\n",
       "<style scoped>\n",
       "    .dataframe tbody tr th:only-of-type {\n",
       "        vertical-align: middle;\n",
       "    }\n",
       "\n",
       "    .dataframe tbody tr th {\n",
       "        vertical-align: top;\n",
       "    }\n",
       "\n",
       "    .dataframe thead th {\n",
       "        text-align: right;\n",
       "    }\n",
       "</style>\n",
       "<table border=\"1\" class=\"dataframe\">\n",
       "  <thead>\n",
       "    <tr style=\"text-align: right;\">\n",
       "      <th></th>\n",
       "      <th>daysonmarket</th>\n",
       "      <th>has_accidents</th>\n",
       "      <th>isCab</th>\n",
       "      <th>make_name</th>\n",
       "      <th>mileage</th>\n",
       "      <th>model_name</th>\n",
       "      <th>price</th>\n",
       "      <th>year</th>\n",
       "      <th>name</th>\n",
       "    </tr>\n",
       "  </thead>\n",
       "  <tbody>\n",
       "    <tr>\n",
       "      <th>5</th>\n",
       "      <td>242</td>\n",
       "      <td>False</td>\n",
       "      <td>False</td>\n",
       "      <td>Land Rover</td>\n",
       "      <td>12.0</td>\n",
       "      <td>Range Rover Velar</td>\n",
       "      <td>66903.0</td>\n",
       "      <td>2020</td>\n",
       "      <td>Land Rover Range Rover Velar</td>\n",
       "    </tr>\n",
       "    <tr>\n",
       "      <th>9</th>\n",
       "      <td>510</td>\n",
       "      <td>False</td>\n",
       "      <td>False</td>\n",
       "      <td>Land Rover</td>\n",
       "      <td>254.0</td>\n",
       "      <td>Range Rover Evoque</td>\n",
       "      <td>84399.0</td>\n",
       "      <td>2020</td>\n",
       "      <td>Land Rover Range Rover Evoque</td>\n",
       "    </tr>\n",
       "    <tr>\n",
       "      <th>10</th>\n",
       "      <td>1252</td>\n",
       "      <td>False</td>\n",
       "      <td>False</td>\n",
       "      <td>Alfa Romeo</td>\n",
       "      <td>301.0</td>\n",
       "      <td>4C</td>\n",
       "      <td>97579.0</td>\n",
       "      <td>2015</td>\n",
       "      <td>Alfa Romeo 4C</td>\n",
       "    </tr>\n",
       "    <tr>\n",
       "      <th>12</th>\n",
       "      <td>1233</td>\n",
       "      <td>False</td>\n",
       "      <td>False</td>\n",
       "      <td>BMW</td>\n",
       "      <td>6903.0</td>\n",
       "      <td>3 Series</td>\n",
       "      <td>58995.0</td>\n",
       "      <td>2016</td>\n",
       "      <td>BMW 3 Series</td>\n",
       "    </tr>\n",
       "    <tr>\n",
       "      <th>36</th>\n",
       "      <td>33</td>\n",
       "      <td>False</td>\n",
       "      <td>False</td>\n",
       "      <td>Hyundai</td>\n",
       "      <td>30707.0</td>\n",
       "      <td>Elantra</td>\n",
       "      <td>13324.0</td>\n",
       "      <td>2017</td>\n",
       "      <td>Hyundai Elantra</td>\n",
       "    </tr>\n",
       "  </tbody>\n",
       "</table>\n",
       "</div>"
      ],
      "text/plain": [
       "    daysonmarket  has_accidents  isCab   make_name  mileage  \\\n",
       "5            242          False  False  Land Rover     12.0   \n",
       "9            510          False  False  Land Rover    254.0   \n",
       "10          1252          False  False  Alfa Romeo    301.0   \n",
       "12          1233          False  False         BMW   6903.0   \n",
       "36            33          False  False     Hyundai  30707.0   \n",
       "\n",
       "            model_name    price  year                           name  \n",
       "5    Range Rover Velar  66903.0  2020   Land Rover Range Rover Velar  \n",
       "9   Range Rover Evoque  84399.0  2020  Land Rover Range Rover Evoque  \n",
       "10                  4C  97579.0  2015                  Alfa Romeo 4C  \n",
       "12            3 Series  58995.0  2016                   BMW 3 Series  \n",
       "36             Elantra  13324.0  2017                Hyundai Elantra  "
      ]
     },
     "execution_count": 32,
     "metadata": {},
     "output_type": "execute_result"
    }
   ],
   "source": [
    "df.head()"
   ]
  },
  {
   "cell_type": "markdown",
   "id": "e29a1459-edb3-4272-b71d-aa9405e59693",
   "metadata": {},
   "source": [
    "Data on nyt valmis analyysiä varten. Tallennetaan se myöhempää käyttöä varten uudeksi CSV-tiedostoksi *'taksi_data.csv'*:"
   ]
  },
  {
   "cell_type": "code",
   "execution_count": 39,
   "id": "ebcbb320-f400-4cb5-9d67-0a3d9625d3b9",
   "metadata": {
    "tags": []
   },
   "outputs": [],
   "source": [
    "df.to_csv(\"taksi_data.csv\", index = False)"
   ]
  },
  {
   "cell_type": "code",
   "execution_count": null,
   "id": "b4d69a9f-2ad5-4321-a3db-7f68b6996b22",
   "metadata": {},
   "outputs": [],
   "source": []
  }
 ],
 "metadata": {
  "kernelspec": {
   "display_name": "Python 3 (ipykernel)",
   "language": "python",
   "name": "python3"
  },
  "language_info": {
   "codemirror_mode": {
    "name": "ipython",
    "version": 3
   },
   "file_extension": ".py",
   "mimetype": "text/x-python",
   "name": "python",
   "nbconvert_exporter": "python",
   "pygments_lexer": "ipython3",
   "version": "3.9.18"
  }
 },
 "nbformat": 4,
 "nbformat_minor": 5
}
